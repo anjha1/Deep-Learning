{
  "nbformat": 4,
  "nbformat_minor": 0,
  "metadata": {
    "colab": {
      "provenance": [],
      "authorship_tag": "ABX9TyPSsyC/KRqLllEyc4xmzItc",
      "include_colab_link": true
    },
    "kernelspec": {
      "name": "python3",
      "display_name": "Python 3"
    },
    "language_info": {
      "name": "python"
    }
  },
  "cells": [
    {
      "cell_type": "markdown",
      "metadata": {
        "id": "view-in-github",
        "colab_type": "text"
      },
      "source": [
        "<a href=\"https://colab.research.google.com/github/anjha1/Deep-Learning/blob/main/NLP/4_Named_Entity_Recognition.ipynb\" target=\"_parent\"><img src=\"https://colab.research.google.com/assets/colab-badge.svg\" alt=\"Open In Colab\"/></a>"
      ]
    },
    {
      "cell_type": "markdown",
      "source": [
        "**Named Entity Recognition**"
      ],
      "metadata": {
        "id": "edtR33meakO_"
      }
    },
    {
      "cell_type": "code",
      "source": [
        "sentence = \"The Eiffel Tower was built from 1887 to 1889 by French engineer Gustave Eiffel, whose company specialized in building metal frameworks and structures.\""
      ],
      "metadata": {
        "id": "EZSW6o6raKQL"
      },
      "execution_count": null,
      "outputs": []
    },
    {
      "cell_type": "code",
      "source": [
        "nltk.download('punkt_tab')"
      ],
      "metadata": {
        "colab": {
          "base_uri": "https://localhost:8080/"
        },
        "id": "LHvjhBXVbw87",
        "outputId": "5d945a22-ee91-4618-f193-e8f9d9c8ac14"
      },
      "execution_count": 19,
      "outputs": [
        {
          "output_type": "stream",
          "name": "stderr",
          "text": [
            "[nltk_data] Downloading package punkt_tab to /root/nltk_data...\n",
            "[nltk_data]   Package punkt_tab is already up-to-date!\n"
          ]
        },
        {
          "output_type": "execute_result",
          "data": {
            "text/plain": [
              "True"
            ]
          },
          "metadata": {},
          "execution_count": 19
        }
      ]
    },
    {
      "cell_type": "code",
      "source": [
        "import nltk\n",
        "words = nltk.word_tokenize(sentence)"
      ],
      "metadata": {
        "id": "I5QWDAu9aLnH"
      },
      "execution_count": 20,
      "outputs": []
    },
    {
      "cell_type": "code",
      "source": [
        "nltk.download('averaged_perceptron_tagger_eng')"
      ],
      "metadata": {
        "colab": {
          "base_uri": "https://localhost:8080/"
        },
        "id": "3hB0OX_lb1my",
        "outputId": "8310c6dd-0250-4ea3-d616-85160006a5ec"
      },
      "execution_count": 21,
      "outputs": [
        {
          "output_type": "stream",
          "name": "stderr",
          "text": [
            "[nltk_data] Downloading package averaged_perceptron_tagger_eng to\n",
            "[nltk_data]     /root/nltk_data...\n",
            "[nltk_data]   Package averaged_perceptron_tagger_eng is already up-to-\n",
            "[nltk_data]       date!\n"
          ]
        },
        {
          "output_type": "execute_result",
          "data": {
            "text/plain": [
              "True"
            ]
          },
          "metadata": {},
          "execution_count": 21
        }
      ]
    },
    {
      "cell_type": "code",
      "source": [
        "tag_elements = nltk.pos_tag(words)"
      ],
      "metadata": {
        "id": "Kv7Nrzh9aNNr"
      },
      "execution_count": 22,
      "outputs": []
    },
    {
      "cell_type": "code",
      "source": [
        "nltk.download('maxent_ne_chunker')\n",
        "nltk.download('words')"
      ],
      "metadata": {
        "colab": {
          "base_uri": "https://localhost:8080/"
        },
        "id": "wnEkfvt_aSG8",
        "outputId": "f032295a-74c6-4995-854e-428ba9b8d9d8"
      },
      "execution_count": 23,
      "outputs": [
        {
          "output_type": "stream",
          "name": "stderr",
          "text": [
            "[nltk_data] Downloading package maxent_ne_chunker to\n",
            "[nltk_data]     /root/nltk_data...\n",
            "[nltk_data]   Package maxent_ne_chunker is already up-to-date!\n",
            "[nltk_data] Downloading package words to /root/nltk_data...\n",
            "[nltk_data]   Package words is already up-to-date!\n"
          ]
        },
        {
          "output_type": "execute_result",
          "data": {
            "text/plain": [
              "True"
            ]
          },
          "metadata": {},
          "execution_count": 23
        }
      ]
    },
    {
      "cell_type": "code",
      "source": [
        "nltk.download('maxent_ne_chunker_tab')"
      ],
      "metadata": {
        "colab": {
          "base_uri": "https://localhost:8080/"
        },
        "id": "XkprwUvCb9VR",
        "outputId": "9180bead-34bf-409e-84da-4405a7e74145"
      },
      "execution_count": 24,
      "outputs": [
        {
          "output_type": "stream",
          "name": "stderr",
          "text": [
            "[nltk_data] Downloading package maxent_ne_chunker_tab to\n",
            "[nltk_data]     /root/nltk_data...\n",
            "[nltk_data]   Package maxent_ne_chunker_tab is already up-to-date!\n"
          ]
        },
        {
          "output_type": "execute_result",
          "data": {
            "text/plain": [
              "True"
            ]
          },
          "metadata": {},
          "execution_count": 24
        }
      ]
    },
    {
      "cell_type": "code",
      "source": [
        "tree = nltk.ne_chunk(tag_elements)"
      ],
      "metadata": {
        "id": "AF_Tip3zaUnW"
      },
      "execution_count": 25,
      "outputs": []
    },
    {
      "cell_type": "code",
      "source": [
        "print(tree)"
      ],
      "metadata": {
        "colab": {
          "base_uri": "https://localhost:8080/"
        },
        "id": "avM2Iqz-aWFl",
        "outputId": "9ae1bb31-332a-4c70-fad7-1d829b090940"
      },
      "execution_count": 26,
      "outputs": [
        {
          "output_type": "stream",
          "name": "stdout",
          "text": [
            "(S\n",
            "  The/DT\n",
            "  (ORGANIZATION Eiffel/NNP Tower/NNP)\n",
            "  was/VBD\n",
            "  built/VBN\n",
            "  from/IN\n",
            "  1887/CD\n",
            "  to/TO\n",
            "  1889/CD\n",
            "  by/IN\n",
            "  (GPE French/JJ)\n",
            "  engineer/NN\n",
            "  (PERSON Gustave/NNP Eiffel/NNP)\n",
            "  ,/,\n",
            "  whose/WP$\n",
            "  company/NN\n",
            "  specialized/VBD\n",
            "  in/IN\n",
            "  building/NN\n",
            "  metal/NN\n",
            "  frameworks/NNS\n",
            "  and/CC\n",
            "  structures/NNS\n",
            "  ./.)\n"
          ]
        }
      ]
    },
    {
      "cell_type": "code",
      "source": [
        "#nltk.ne_chunk(tag_elements).draw()"
      ],
      "metadata": {
        "id": "PEnICOFVgBNR"
      },
      "execution_count": null,
      "outputs": []
    },
    {
      "cell_type": "markdown",
      "source": [
        "```plaintext\n",
        "(S\n",
        "  The/DT\n",
        "  (ORGANIZATION Eiffel/NNP Tower/NNP)\n",
        "  was/VBD\n",
        "  built/VBN\n",
        "  from/IN\n",
        "  1887/CD\n",
        "  to/TO\n",
        "  1889/CD\n",
        "  by/IN\n",
        "  (GPE French/JJ)\n",
        "  engineer/NN\n",
        "  (PERSON Gustave/NNP Eiffel/NNP)\n",
        "  ,/,\n",
        "  whose/WP$\n",
        "  company/NN\n",
        "  specialized/VBD\n",
        "  in/IN\n",
        "  building/NN\n",
        "  metal/NN\n",
        "  frameworks/NNS\n",
        "  and/CC\n",
        "  structures/NNS\n",
        "  ./.)\n",
        "```\n",
        "\n",
        "Yeh actually **NLTK ka named entity chunking ka output tree** hai, jisme sentence ke tokens ko chunk karke dikhaya gaya hai.\n",
        "Chalo isse **detail me** explain karte hain:\n",
        "\n",
        "---\n",
        "\n",
        "### 🔍 **Breakdown:**\n",
        "\n",
        "#### ✅ `(S ... )`\n",
        "\n",
        "* Yeh pura sentence ko represent karta hai.\n",
        "* `(S` means \"Sentence\".\n",
        "\n",
        "---\n",
        "\n",
        "#### 📌 **The/DT**\n",
        "\n",
        "* `The` word ka POS tag `DT` hai, jo ki determiner hota hai (jaise: the, a, an).\n",
        "\n",
        "---\n",
        "\n",
        "#### 📦 **(ORGANIZATION Eiffel/NNP Tower/NNP)**\n",
        "\n",
        "* `Eiffel Tower` ko model ne **organization** ke roop me recognize kiya hai.\n",
        "* `NNP` ka matlab: Proper noun, singular.\n",
        "\n",
        "> ⚠️ Note: Eiffel Tower ek monument hai, lekin kabhi-kabhi NER models ise organization ya location classify kar dete hain.\n",
        "\n",
        "---\n",
        "\n",
        "#### 🏗 **was/VBD built/VBN from/IN 1887/CD to/TO 1889/CD by/IN**\n",
        "\n",
        "* Ye sentence ke verbs aur connectors hain:\n",
        "\n",
        "  * `was` (VBD: past tense verb)\n",
        "  * `built` (VBN: past participle)\n",
        "  * `from`, `to`, `by` (prepositions: IN, TO)\n",
        "  * `1887` & `1889` (CD: cardinal digit, number)\n",
        "\n",
        "---\n",
        "\n",
        "#### 🌍 **(GPE French/JJ) engineer/NN**\n",
        "\n",
        "* `French` ko `GPE` (Geo-Political Entity) ke roop me pehchana gaya hai.\n",
        "* Aur `JJ` (adjective) ka tag diya gaya.\n",
        "* `engineer` ka POS tag: `NN` (noun, singular).\n",
        "\n",
        "> ⚠️ `French` ko kabhi-kabhi GPE bhi label kar diya jata hai, kyunki yeh country se associated adjective hai.\n",
        "\n",
        "---\n",
        "\n",
        "#### 👤 **(PERSON Gustave/NNP Eiffel/NNP)**\n",
        "\n",
        "* `Gustave Eiffel` ko correctly **person** entity ke roop me recognize kiya gaya.\n",
        "* `NNP` again proper noun, singular.\n",
        "\n",
        "---\n",
        "\n",
        "#### ✏ **,/, whose/WP\\$ company/NN specialized/VBD in/IN building/NN metal/NN frameworks/NNS and/CC structures/NNS ./.**\n",
        "\n",
        "* Ye sentence ka remaining part hai:\n",
        "\n",
        "  * `,` punctuation\n",
        "  * `whose` (WP\\$: possessive wh-pronoun)\n",
        "  * `company` (NN: noun)\n",
        "  * `specialized` (VBD: past tense verb)\n",
        "  * `in`, `and` (prepositions / conjunctions)\n",
        "  * `building`, `metal`, `frameworks`, `structures` (nouns)\n",
        "  * `.` (sentence end punctuation)\n",
        "\n",
        "---\n",
        "\n",
        "### ✅ **Summary in Hindi:**\n",
        "\n",
        "* `Eiffel Tower` ko **ORGANIZATION** tag diya gaya.\n",
        "* `French` ko **GPE** tag diya gaya.\n",
        "* `Gustave Eiffel` ko **PERSON** tag diya gaya.\n",
        "* Baaki words ka part-of-speech tag diya gaya.\n",
        "* Numbers `1887` & `1889` ko **CD** (number) tag diya.\n",
        "\n",
        "---\n",
        "\n",
        "### 📊 **Purpose:**\n",
        "\n",
        "Yeh output tree batata hai:\n",
        "\n",
        "* Kaunse words entities hain (person, organization, location)\n",
        "* Har word ka part-of-speech kya hai (noun, verb, adjective etc.)\n",
        "\n",
        "---\n",
        "\n"
      ],
      "metadata": {
        "id": "hZ6cfa2OelW4"
      }
    },
    {
      "cell_type": "markdown",
      "source": [
        "---\n",
        "\n",
        "## 📌 Named Entity Recognition (NER) Chunk Output Explained\n",
        "\n",
        "The following chunked output is produced by an NLTK Named Entity Recognition (NER) model.\n",
        "It shows how the input sentence is broken down into words, assigned part-of-speech tags, and grouped into named entities like **PERSON**, **ORGANIZATION**, and **GPE**.\n",
        "\n",
        "```\n",
        "(S\n",
        "  The/DT\n",
        "  (ORGANIZATION Eiffel/NNP Tower/NNP)\n",
        "  was/VBD\n",
        "  built/VBN\n",
        "  from/IN\n",
        "  1887/CD\n",
        "  to/TO\n",
        "  1889/CD\n",
        "  by/IN\n",
        "  (GPE French/JJ)\n",
        "  engineer/NN\n",
        "  (PERSON Gustave/NNP Eiffel/NNP)\n",
        "  ,/,\n",
        "  whose/WP$\n",
        "  company/NN\n",
        "  specialized/VBD\n",
        "  in/IN\n",
        "  building/NN\n",
        "  metal/NN\n",
        "  frameworks/NNS\n",
        "  and/CC\n",
        "  structures/NNS\n",
        "  ./.)\n",
        "```\n",
        "\n",
        "Let’s explain this step by step:\n",
        "\n",
        "---\n",
        "\n",
        "### ✅ **(S ... )**\n",
        "\n",
        "* The outermost `(S ... )` represents the entire sentence.\n",
        "* This shows the sentence is parsed as a single unit.\n",
        "\n",
        "---\n",
        "\n",
        "### ✏ **Part-of-Speech (POS) Tags**\n",
        "\n",
        "Each word or token in the sentence is followed by a POS tag:\n",
        "\n",
        "* `DT` → Determiner (e.g., *The*)\n",
        "* `NNP` → Proper noun, singular (e.g., *Eiffel*, *Tower*, *Gustave*)\n",
        "* `VBD` → Verb, past tense (e.g., *was*, *specialized*)\n",
        "* `VBN` → Verb, past participle (*built*)\n",
        "* `IN` → Preposition (*from*, *by*, *in*)\n",
        "* `CD` → Cardinal number (*1887*, *1889*)\n",
        "* `JJ` → Adjective (*French*)\n",
        "* `NN` → Noun, singular (*engineer*, *company*, *building*, *metal*)\n",
        "* `NNS` → Noun, plural (*frameworks*, *structures*)\n",
        "* `WP$` → Possessive wh-pronoun (*whose*)\n",
        "* `CC` → Coordinating conjunction (*and*)\n",
        "* `TO` → the word *to*\n",
        "* `,` and `.` → punctuation marks\n",
        "\n",
        "These tags help the NER system understand grammar and relationships between words.\n",
        "\n",
        "---\n",
        "\n",
        "### 🏷 **Named Entities and their Labels**\n",
        "\n",
        "Some words or phrases are grouped into chunks and labeled as specific entity types:\n",
        "\n",
        "| Entity Chunk                            | Label        | Meaning                                                                                                           |\n",
        "| --------------------------------------- | ------------ | ----------------------------------------------------------------------------------------------------------------- |\n",
        "| **(ORGANIZATION Eiffel/NNP Tower/NNP)** | ORGANIZATION | The NER model recognizes *Eiffel Tower* as an organization (sometimes monument names are misclassified this way). |\n",
        "| **(GPE French/JJ)**                     | GPE          | *French* is identified as a geopolitical entity (GPE), which usually means a country, city, or region.            |\n",
        "| **(PERSON Gustave/NNP Eiffel/NNP)**     | PERSON       | *Gustave Eiffel* is correctly recognized as a person.                                                             |\n",
        "\n",
        "---\n",
        "\n",
        "### 🔍 **Other parts of the sentence**\n",
        "\n",
        "Words like *was built from 1887 to 1889 by French engineer*, etc., remain as individual tokens with their POS tags but are not part of any named entity.\n",
        "\n",
        "Numbers like *1887* and *1889* get tagged as `CD` (cardinal digits), but aren’t grouped into a date entity here because the model treats them separately.\n",
        "\n",
        "---\n",
        "\n",
        "### 🧠 **Why this matters**\n",
        "\n",
        "NER (Named Entity Recognition) is used to:\n",
        "\n",
        "* Detect and classify key information: people, places, organizations, dates, numbers, etc.\n",
        "* Support downstream tasks like information extraction, question answering, summarization, and data analytics.\n",
        "\n",
        "In this case, the chunking process:\n",
        "\n",
        "* Identifies *Eiffel Tower* (ORG), *French* (GPE), and *Gustave Eiffel* (PERSON).\n",
        "* Helps transform unstructured text into structured data.\n",
        "\n",
        "---\n",
        "\n",
        "### ✅ **In summary**\n",
        "\n",
        "This chunked tree:\n",
        "\n",
        "* Represents a single sentence.\n",
        "* Shows each word with its POS tag.\n",
        "* Groups certain words into named entities with labels like PERSON, ORGANIZATION, and GPE.\n",
        "* Makes text processing smarter by letting algorithms understand *who*, *where*, and *what* is mentioned in text.\n",
        "\n",
        "---\n",
        "\n"
      ],
      "metadata": {
        "id": "OcugUpcgewod"
      }
    }
  ]
}