{
  "nbformat": 4,
  "nbformat_minor": 0,
  "metadata": {
    "colab": {
      "provenance": [],
      "authorship_tag": "ABX9TyNO96TSkH02wz1jkLMT3B02",
      "include_colab_link": true
    },
    "kernelspec": {
      "name": "python3",
      "display_name": "Python 3"
    },
    "language_info": {
      "name": "python"
    }
  },
  "cells": [
    {
      "cell_type": "markdown",
      "metadata": {
        "id": "view-in-github",
        "colab_type": "text"
      },
      "source": [
        "<a href=\"https://colab.research.google.com/github/anjha1/Deep-Learning/blob/main/NLP/2_Text_Preprocessing_NLTK.ipynb\" target=\"_parent\"><img src=\"https://colab.research.google.com/assets/colab-badge.svg\" alt=\"Open In Colab\"/></a>"
      ]
    },
    {
      "cell_type": "code",
      "execution_count": 191,
      "metadata": {
        "id": "9iK2FYRgSAep"
      },
      "outputs": [],
      "source": [
        "paragraph = \"\"\"\n",
        "I have three visions for India. In 3000 years of our history, people from all over the world have come and invaded us, captured our lands, conquered our minds. From Alexander onwards, the Greeks, the Turks, the Mughals, the Portuguese, the British, the French, the Dutch, all of them came and looted us, took over what was ours. Yet we have not done this to any other nation. We have not conquered anyone. We have not grabbed their land, their culture, their history and tried to enforce our way of life on them. Why? Because we respect the freedom of others.\n",
        "\n",
        "That is why my first vision is that of freedom. I believe that India got its first vision of this in 1857, when we started the War of Independence. It is this freedom that we must protect and nurture and build on. If we are not free, no one will respect us.\n",
        "\n",
        "My second vision for India's development. For fifty years we have been a developing nation. It is time we see ourselves as a developed nation. We are among the top 5 nations in terms of GDP. We have a 10 percent growth rate in most areas. Our poverty levels are falling. Our achievements are being globally recognised today. Yet we lack the self-confidence to see ourselves as a developed nation, self-reliant and self-assured. Isn't this right?\n",
        "\n",
        "I have a third vision. India must stand up to the world. Because I believe that unless India stands up to the world, no one will respect us. Only strength respects strength. We must be strong not only as a military power but also as an economic power. Both must go hand-in-hand.\n",
        "\n",
        "My good fortune was to have worked with three great minds. Dr. Vikram Sarabhai of the Department of Space, Professor Satish Dhawan, who succeeded him and Dr. Brahm Prakash, father of nuclear metallurgy. I was lucky to have worked with all three of them closely and consider this the great opportunity of my life. I see four milestones in my career\"\"\"\n"
      ]
    },
    {
      "cell_type": "code",
      "source": [
        "from nltk.stem import PorterStemmer\n",
        "from nltk.corpus import stopwords\n",
        "from nltk.stem import SnowballStemmer\n",
        "from nltk.stem import WordNetLemmatizer"
      ],
      "metadata": {
        "id": "uuffpDqXSIcD"
      },
      "execution_count": 192,
      "outputs": []
    },
    {
      "cell_type": "code",
      "source": [
        "import nltk\n",
        "nltk.download('stopwords')"
      ],
      "metadata": {
        "colab": {
          "base_uri": "https://localhost:8080/"
        },
        "id": "hPUkM-ihgr8G",
        "outputId": "c91dd8fa-c12a-4834-c031-f121ab1f0f00"
      },
      "execution_count": 193,
      "outputs": [
        {
          "output_type": "stream",
          "name": "stderr",
          "text": [
            "[nltk_data] Downloading package stopwords to /root/nltk_data...\n",
            "[nltk_data]   Package stopwords is already up-to-date!\n"
          ]
        },
        {
          "output_type": "execute_result",
          "data": {
            "text/plain": [
              "True"
            ]
          },
          "metadata": {},
          "execution_count": 193
        }
      ]
    },
    {
      "cell_type": "code",
      "source": [
        "nltk.download('punkt')"
      ],
      "metadata": {
        "colab": {
          "base_uri": "https://localhost:8080/"
        },
        "id": "MkFOYi3egzOk",
        "outputId": "d97d98c4-9687-4a36-fe53-4225e2135af0"
      },
      "execution_count": 194,
      "outputs": [
        {
          "output_type": "stream",
          "name": "stderr",
          "text": [
            "[nltk_data] Downloading package punkt to /root/nltk_data...\n",
            "[nltk_data]   Package punkt is already up-to-date!\n"
          ]
        },
        {
          "output_type": "execute_result",
          "data": {
            "text/plain": [
              "True"
            ]
          },
          "metadata": {},
          "execution_count": 194
        }
      ]
    },
    {
      "cell_type": "code",
      "source": [
        "import nltk\n",
        "nltk.download('punkt_tab')"
      ],
      "metadata": {
        "colab": {
          "base_uri": "https://localhost:8080/"
        },
        "id": "gPq2DYTMg8EJ",
        "outputId": "a9b60a3f-c82e-481e-e0ac-bf3ff8713005"
      },
      "execution_count": 195,
      "outputs": [
        {
          "output_type": "stream",
          "name": "stderr",
          "text": [
            "[nltk_data] Downloading package punkt_tab to /root/nltk_data...\n",
            "[nltk_data]   Package punkt_tab is already up-to-date!\n"
          ]
        },
        {
          "output_type": "execute_result",
          "data": {
            "text/plain": [
              "True"
            ]
          },
          "metadata": {},
          "execution_count": 195
        }
      ]
    },
    {
      "cell_type": "code",
      "source": [
        "sentences1=nltk.sent_tokenize(paragraph)\n",
        "sentences1"
      ],
      "metadata": {
        "colab": {
          "base_uri": "https://localhost:8080/"
        },
        "id": "QuoJ_Erygl4o",
        "outputId": "0f2baedd-3b4b-4964-b584-99413764f9af"
      },
      "execution_count": 196,
      "outputs": [
        {
          "output_type": "execute_result",
          "data": {
            "text/plain": [
              "['\\nI have three visions for India.',\n",
              " 'In 3000 years of our history, people from all over the world have come and invaded us, captured our lands, conquered our minds.',\n",
              " 'From Alexander onwards, the Greeks, the Turks, the Mughals, the Portuguese, the British, the French, the Dutch, all of them came and looted us, took over what was ours.',\n",
              " 'Yet we have not done this to any other nation.',\n",
              " 'We have not conquered anyone.',\n",
              " 'We have not grabbed their land, their culture, their history and tried to enforce our way of life on them.',\n",
              " 'Why?',\n",
              " 'Because we respect the freedom of others.',\n",
              " 'That is why my first vision is that of freedom.',\n",
              " 'I believe that India got its first vision of this in 1857, when we started the War of Independence.',\n",
              " 'It is this freedom that we must protect and nurture and build on.',\n",
              " 'If we are not free, no one will respect us.',\n",
              " \"My second vision for India's development.\",\n",
              " 'For fifty years we have been a developing nation.',\n",
              " 'It is time we see ourselves as a developed nation.',\n",
              " 'We are among the top 5 nations in terms of GDP.',\n",
              " 'We have a 10 percent growth rate in most areas.',\n",
              " 'Our poverty levels are falling.',\n",
              " 'Our achievements are being globally recognised today.',\n",
              " 'Yet we lack the self-confidence to see ourselves as a developed nation, self-reliant and self-assured.',\n",
              " \"Isn't this right?\",\n",
              " 'I have a third vision.',\n",
              " 'India must stand up to the world.',\n",
              " 'Because I believe that unless India stands up to the world, no one will respect us.',\n",
              " 'Only strength respects strength.',\n",
              " 'We must be strong not only as a military power but also as an economic power.',\n",
              " 'Both must go hand-in-hand.',\n",
              " 'My good fortune was to have worked with three great minds.',\n",
              " 'Dr. Vikram Sarabhai of the Department of Space, Professor Satish Dhawan, who succeeded him and Dr. Brahm Prakash, father of nuclear metallurgy.',\n",
              " 'I was lucky to have worked with all three of them closely and consider this the great opportunity of my life.',\n",
              " 'I see four milestones in my career']"
            ]
          },
          "metadata": {},
          "execution_count": 196
        }
      ]
    },
    {
      "cell_type": "code",
      "source": [
        "stemmer=PorterStemmer()"
      ],
      "metadata": {
        "id": "35QqRwtzrVcZ"
      },
      "execution_count": 197,
      "outputs": []
    },
    {
      "cell_type": "code",
      "source": [
        "# Apply stopwords filtering and stemming\n",
        "for i in range(len(sentences1)):\n",
        "    words = nltk.word_tokenize(sentences1[i])\n",
        "    words = [stemmer.stem(word) for word in words if word not in set(stopwords.words('english'))]\n",
        "    sentences1[i] = ' '.join(words)  # Convert list of words back to sentence"
      ],
      "metadata": {
        "id": "VIu0aspvjUPV"
      },
      "execution_count": 198,
      "outputs": []
    },
    {
      "cell_type": "code",
      "source": [
        "porterstemmer_sentences=sentences1"
      ],
      "metadata": {
        "id": "ix79EoyEshgU"
      },
      "execution_count": 199,
      "outputs": []
    },
    {
      "cell_type": "code",
      "source": [
        "sentences1"
      ],
      "metadata": {
        "colab": {
          "base_uri": "https://localhost:8080/"
        },
        "id": "uibzhHWWmSZq",
        "outputId": "d7802b12-1fcd-46de-fab5-e494d769c974"
      },
      "execution_count": 200,
      "outputs": [
        {
          "output_type": "execute_result",
          "data": {
            "text/plain": [
              "['i three vision india .',\n",
              " 'in 3000 year histori , peopl world come invad us , captur land , conquer mind .',\n",
              " 'from alexand onward , greek , turk , mughal , portugues , british , french , dutch , came loot us , took .',\n",
              " 'yet done nation .',\n",
              " 'we conquer anyon .',\n",
              " 'we grab land , cultur , histori tri enforc way life .',\n",
              " 'whi ?',\n",
              " 'becaus respect freedom other .',\n",
              " 'that first vision freedom .',\n",
              " 'i believ india got first vision 1857 , start war independ .',\n",
              " 'it freedom must protect nurtur build .',\n",
              " 'if free , one respect us .',\n",
              " \"my second vision india 's develop .\",\n",
              " 'for fifti year develop nation .',\n",
              " 'it time see develop nation .',\n",
              " 'we among top 5 nation term gdp .',\n",
              " 'we 10 percent growth rate area .',\n",
              " 'our poverti level fall .',\n",
              " 'our achiev global recognis today .',\n",
              " 'yet lack self-confid see develop nation , self-reli self-assur .',\n",
              " \"is n't right ?\",\n",
              " 'i third vision .',\n",
              " 'india must stand world .',\n",
              " 'becaus i believ unless india stand world , one respect us .',\n",
              " 'onli strength respect strength .',\n",
              " 'we must strong militari power also econom power .',\n",
              " 'both must go hand-in-hand .',\n",
              " 'my good fortun work three great mind .',\n",
              " 'dr. vikram sarabhai depart space , professor satish dhawan , succeed dr. brahm prakash , father nuclear metallurgi .',\n",
              " 'i lucki work three close consid great opportun life .',\n",
              " 'i see four mileston career']"
            ]
          },
          "metadata": {},
          "execution_count": 200
        }
      ]
    },
    {
      "cell_type": "code",
      "source": [
        "sentences2=nltk.sent_tokenize(paragraph)"
      ],
      "metadata": {
        "id": "vdNMCykgnlzE"
      },
      "execution_count": 201,
      "outputs": []
    },
    {
      "cell_type": "code",
      "source": [
        "stemmer1=SnowballStemmer('english')"
      ],
      "metadata": {
        "id": "Titdun93rIjJ"
      },
      "execution_count": 202,
      "outputs": []
    },
    {
      "cell_type": "code",
      "source": [
        "# Apply stopwords filtering and stemming\n",
        "for i in range(len(sentences2)):\n",
        "    words = nltk.word_tokenize(sentences2[i])\n",
        "    words = [stemmer1.stem(word) for word in words if word not in set(stopwords.words('english'))]\n",
        "    sentences2[i] = ' '.join(words)  # Convert list of words back to sentence"
      ],
      "metadata": {
        "id": "M-1MCyoYm1Rl"
      },
      "execution_count": 203,
      "outputs": []
    },
    {
      "cell_type": "code",
      "source": [
        "snowballstemmer_sentences=sentences2"
      ],
      "metadata": {
        "id": "azDHDu4jsybL"
      },
      "execution_count": 204,
      "outputs": []
    },
    {
      "cell_type": "code",
      "source": [
        "sentences2"
      ],
      "metadata": {
        "colab": {
          "base_uri": "https://localhost:8080/"
        },
        "id": "DduJHlokm2Yn",
        "outputId": "3794b167-ecc5-4a3d-f3ce-aafb6942b1dd"
      },
      "execution_count": 205,
      "outputs": [
        {
          "output_type": "execute_result",
          "data": {
            "text/plain": [
              "['i three vision india .',\n",
              " 'in 3000 year histori , peopl world come invad us , captur land , conquer mind .',\n",
              " 'from alexand onward , greek , turk , mughal , portugues , british , french , dutch , came loot us , took .',\n",
              " 'yet done nation .',\n",
              " 'we conquer anyon .',\n",
              " 'we grab land , cultur , histori tri enforc way life .',\n",
              " 'whi ?',\n",
              " 'becaus respect freedom other .',\n",
              " 'that first vision freedom .',\n",
              " 'i believ india got first vision 1857 , start war independ .',\n",
              " 'it freedom must protect nurtur build .',\n",
              " 'if free , one respect us .',\n",
              " \"my second vision india 's develop .\",\n",
              " 'for fifti year develop nation .',\n",
              " 'it time see develop nation .',\n",
              " 'we among top 5 nation term gdp .',\n",
              " 'we 10 percent growth rate area .',\n",
              " 'our poverti level fall .',\n",
              " 'our achiev global recognis today .',\n",
              " 'yet lack self-confid see develop nation , self-reli self-assur .',\n",
              " \"is n't right ?\",\n",
              " 'i third vision .',\n",
              " 'india must stand world .',\n",
              " 'becaus i believ unless india stand world , one respect us .',\n",
              " 'onli strength respect strength .',\n",
              " 'we must strong militari power also econom power .',\n",
              " 'both must go hand-in-hand .',\n",
              " 'my good fortun work three great mind .',\n",
              " 'dr. vikram sarabhai depart space , professor satish dhawan , succeed dr. brahm prakash , father nuclear metallurgi .',\n",
              " 'i lucki work three close consid great opportun life .',\n",
              " 'i see four mileston career']"
            ]
          },
          "metadata": {},
          "execution_count": 205
        }
      ]
    },
    {
      "cell_type": "code",
      "source": [
        "nltk.download('wordnet')"
      ],
      "metadata": {
        "colab": {
          "base_uri": "https://localhost:8080/"
        },
        "id": "Z7DrrGFBo5gS",
        "outputId": "60262302-dbb4-4962-fd21-4d4262aef089"
      },
      "execution_count": 206,
      "outputs": [
        {
          "output_type": "stream",
          "name": "stderr",
          "text": [
            "[nltk_data] Downloading package wordnet to /root/nltk_data...\n",
            "[nltk_data]   Package wordnet is already up-to-date!\n"
          ]
        },
        {
          "output_type": "execute_result",
          "data": {
            "text/plain": [
              "True"
            ]
          },
          "metadata": {},
          "execution_count": 206
        }
      ]
    },
    {
      "cell_type": "code",
      "source": [
        "sentences3=nltk.sent_tokenize(paragraph)"
      ],
      "metadata": {
        "id": "HYtguxTwr5tT"
      },
      "execution_count": 207,
      "outputs": []
    },
    {
      "cell_type": "code",
      "source": [
        "lemmatizer = WordNetLemmatizer()"
      ],
      "metadata": {
        "id": "sAKA9hXHrhFe"
      },
      "execution_count": 208,
      "outputs": []
    },
    {
      "cell_type": "code",
      "source": [
        "# Apply stopwords filtering and lemmatization\n",
        "for i in range(len(sentences3)):\n",
        "    words = nltk.word_tokenize(sentences3[i])\n",
        "    words = [lemmatizer.lemmatize(word) for word in words if word not in set(stopwords.words('english'))]\n",
        "    sentences3[i] = ' '.join(words)  # Convert list of words back to sentence\n"
      ],
      "metadata": {
        "id": "7GtpCpZSo_K5"
      },
      "execution_count": 209,
      "outputs": []
    },
    {
      "cell_type": "code",
      "source": [
        "wordnetlemmatizer_sentences=sentences3"
      ],
      "metadata": {
        "id": "G-2l0MTts9Ok"
      },
      "execution_count": 210,
      "outputs": []
    },
    {
      "cell_type": "code",
      "source": [
        "sentences3"
      ],
      "metadata": {
        "colab": {
          "base_uri": "https://localhost:8080/"
        },
        "id": "R0xX8vg7pDMb",
        "outputId": "6414eb65-c701-4a63-ed57-53977c8d1811"
      },
      "execution_count": 211,
      "outputs": [
        {
          "output_type": "execute_result",
          "data": {
            "text/plain": [
              "['I three vision India .',\n",
              " 'In 3000 year history , people world come invaded u , captured land , conquered mind .',\n",
              " 'From Alexander onwards , Greeks , Turks , Mughals , Portuguese , British , French , Dutch , came looted u , took .',\n",
              " 'Yet done nation .',\n",
              " 'We conquered anyone .',\n",
              " 'We grabbed land , culture , history tried enforce way life .',\n",
              " 'Why ?',\n",
              " 'Because respect freedom others .',\n",
              " 'That first vision freedom .',\n",
              " 'I believe India got first vision 1857 , started War Independence .',\n",
              " 'It freedom must protect nurture build .',\n",
              " 'If free , one respect u .',\n",
              " \"My second vision India 's development .\",\n",
              " 'For fifty year developing nation .',\n",
              " 'It time see developed nation .',\n",
              " 'We among top 5 nation term GDP .',\n",
              " 'We 10 percent growth rate area .',\n",
              " 'Our poverty level falling .',\n",
              " 'Our achievement globally recognised today .',\n",
              " 'Yet lack self-confidence see developed nation , self-reliant self-assured .',\n",
              " \"Is n't right ?\",\n",
              " 'I third vision .',\n",
              " 'India must stand world .',\n",
              " 'Because I believe unless India stand world , one respect u .',\n",
              " 'Only strength respect strength .',\n",
              " 'We must strong military power also economic power .',\n",
              " 'Both must go hand-in-hand .',\n",
              " 'My good fortune worked three great mind .',\n",
              " 'Dr. Vikram Sarabhai Department Space , Professor Satish Dhawan , succeeded Dr. Brahm Prakash , father nuclear metallurgy .',\n",
              " 'I lucky worked three closely consider great opportunity life .',\n",
              " 'I see four milestone career']"
            ]
          },
          "metadata": {},
          "execution_count": 211
        }
      ]
    },
    {
      "cell_type": "code",
      "source": [
        "porterstemmer_sentences,snowballstemmer_sentences,wordnetlemmatizer_sentences"
      ],
      "metadata": {
        "colab": {
          "base_uri": "https://localhost:8080/"
        },
        "id": "bJaSWYpKtEb0",
        "outputId": "20b4c15d-a5ca-4fd6-b5c8-bc4b200371f0"
      },
      "execution_count": 212,
      "outputs": [
        {
          "output_type": "execute_result",
          "data": {
            "text/plain": [
              "(['i three vision india .',\n",
              "  'in 3000 year histori , peopl world come invad us , captur land , conquer mind .',\n",
              "  'from alexand onward , greek , turk , mughal , portugues , british , french , dutch , came loot us , took .',\n",
              "  'yet done nation .',\n",
              "  'we conquer anyon .',\n",
              "  'we grab land , cultur , histori tri enforc way life .',\n",
              "  'whi ?',\n",
              "  'becaus respect freedom other .',\n",
              "  'that first vision freedom .',\n",
              "  'i believ india got first vision 1857 , start war independ .',\n",
              "  'it freedom must protect nurtur build .',\n",
              "  'if free , one respect us .',\n",
              "  \"my second vision india 's develop .\",\n",
              "  'for fifti year develop nation .',\n",
              "  'it time see develop nation .',\n",
              "  'we among top 5 nation term gdp .',\n",
              "  'we 10 percent growth rate area .',\n",
              "  'our poverti level fall .',\n",
              "  'our achiev global recognis today .',\n",
              "  'yet lack self-confid see develop nation , self-reli self-assur .',\n",
              "  \"is n't right ?\",\n",
              "  'i third vision .',\n",
              "  'india must stand world .',\n",
              "  'becaus i believ unless india stand world , one respect us .',\n",
              "  'onli strength respect strength .',\n",
              "  'we must strong militari power also econom power .',\n",
              "  'both must go hand-in-hand .',\n",
              "  'my good fortun work three great mind .',\n",
              "  'dr. vikram sarabhai depart space , professor satish dhawan , succeed dr. brahm prakash , father nuclear metallurgi .',\n",
              "  'i lucki work three close consid great opportun life .',\n",
              "  'i see four mileston career'],\n",
              " ['i three vision india .',\n",
              "  'in 3000 year histori , peopl world come invad us , captur land , conquer mind .',\n",
              "  'from alexand onward , greek , turk , mughal , portugues , british , french , dutch , came loot us , took .',\n",
              "  'yet done nation .',\n",
              "  'we conquer anyon .',\n",
              "  'we grab land , cultur , histori tri enforc way life .',\n",
              "  'whi ?',\n",
              "  'becaus respect freedom other .',\n",
              "  'that first vision freedom .',\n",
              "  'i believ india got first vision 1857 , start war independ .',\n",
              "  'it freedom must protect nurtur build .',\n",
              "  'if free , one respect us .',\n",
              "  \"my second vision india 's develop .\",\n",
              "  'for fifti year develop nation .',\n",
              "  'it time see develop nation .',\n",
              "  'we among top 5 nation term gdp .',\n",
              "  'we 10 percent growth rate area .',\n",
              "  'our poverti level fall .',\n",
              "  'our achiev global recognis today .',\n",
              "  'yet lack self-confid see develop nation , self-reli self-assur .',\n",
              "  \"is n't right ?\",\n",
              "  'i third vision .',\n",
              "  'india must stand world .',\n",
              "  'becaus i believ unless india stand world , one respect us .',\n",
              "  'onli strength respect strength .',\n",
              "  'we must strong militari power also econom power .',\n",
              "  'both must go hand-in-hand .',\n",
              "  'my good fortun work three great mind .',\n",
              "  'dr. vikram sarabhai depart space , professor satish dhawan , succeed dr. brahm prakash , father nuclear metallurgi .',\n",
              "  'i lucki work three close consid great opportun life .',\n",
              "  'i see four mileston career'],\n",
              " ['I three vision India .',\n",
              "  'In 3000 year history , people world come invaded u , captured land , conquered mind .',\n",
              "  'From Alexander onwards , Greeks , Turks , Mughals , Portuguese , British , French , Dutch , came looted u , took .',\n",
              "  'Yet done nation .',\n",
              "  'We conquered anyone .',\n",
              "  'We grabbed land , culture , history tried enforce way life .',\n",
              "  'Why ?',\n",
              "  'Because respect freedom others .',\n",
              "  'That first vision freedom .',\n",
              "  'I believe India got first vision 1857 , started War Independence .',\n",
              "  'It freedom must protect nurture build .',\n",
              "  'If free , one respect u .',\n",
              "  \"My second vision India 's development .\",\n",
              "  'For fifty year developing nation .',\n",
              "  'It time see developed nation .',\n",
              "  'We among top 5 nation term GDP .',\n",
              "  'We 10 percent growth rate area .',\n",
              "  'Our poverty level falling .',\n",
              "  'Our achievement globally recognised today .',\n",
              "  'Yet lack self-confidence see developed nation , self-reliant self-assured .',\n",
              "  \"Is n't right ?\",\n",
              "  'I third vision .',\n",
              "  'India must stand world .',\n",
              "  'Because I believe unless India stand world , one respect u .',\n",
              "  'Only strength respect strength .',\n",
              "  'We must strong military power also economic power .',\n",
              "  'Both must go hand-in-hand .',\n",
              "  'My good fortune worked three great mind .',\n",
              "  'Dr. Vikram Sarabhai Department Space , Professor Satish Dhawan , succeeded Dr. Brahm Prakash , father nuclear metallurgy .',\n",
              "  'I lucky worked three closely consider great opportunity life .',\n",
              "  'I see four milestone career'])"
            ]
          },
          "metadata": {},
          "execution_count": 212
        }
      ]
    }
  ]
}