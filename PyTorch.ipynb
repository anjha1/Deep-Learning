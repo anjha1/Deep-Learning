{
  "nbformat": 4,
  "nbformat_minor": 0,
  "metadata": {
    "colab": {
      "provenance": [],
      "authorship_tag": "ABX9TyP3mC6gyLhkZE6Un9q3HJXR",
      "include_colab_link": true
    },
    "kernelspec": {
      "name": "python3",
      "display_name": "Python 3"
    },
    "language_info": {
      "name": "python"
    }
  },
  "cells": [
    {
      "cell_type": "markdown",
      "metadata": {
        "id": "view-in-github",
        "colab_type": "text"
      },
      "source": [
        "<a href=\"https://colab.research.google.com/github/anjha1/Deep-Learning/blob/main/PyTorch.ipynb\" target=\"_parent\"><img src=\"https://colab.research.google.com/assets/colab-badge.svg\" alt=\"Open In Colab\"/></a>"
      ]
    },
    {
      "cell_type": "markdown",
      "source": [
        "\n",
        "\n",
        "### **PyTorch -**\n",
        "\n",
        "#### **Introduction**\n",
        "\n",
        "* PyTorch is an **open-source machine learning framework**.\n",
        "* Mainly used for **developing and training deep learning models**.\n",
        "* Developed by **Facebook's AI Research Lab** and released in **2016**.\n",
        "* Offers a **flexible and dynamic approach** to building neural networks.\n",
        "* Popular among researchers and developers.\n",
        "\n",
        "#### **Key Features**\n",
        "\n",
        "1. **Dynamic Computational Graphs**\n",
        "\n",
        "   * Graphs are **built and modified on-the-fly** as the program runs.\n",
        "   * Allows for **intuitive and flexible** model development.\n",
        "   * Supports standard **Python control flow** and easy debugging.\n",
        "\n",
        "2. **Automatic Differentiation**\n",
        "\n",
        "   * Efficient computation of **gradients for backpropagation**.\n",
        "   * Supports **data loading**, **model building**, **optimization**, and **evaluation**.\n",
        "\n",
        "3. **GPU Acceleration**\n",
        "\n",
        "   * Enables training on **GPUs** to **speed up computations**.\n",
        "   * Backed by a **large and active community** with many tutorials and pre-trained models.\n",
        "\n",
        "4. **Comparison with TensorFlow**\n",
        "\n",
        "   * TensorFlow: uses **static computation graphs**.\n",
        "   * PyTorch: uses **dynamic graphs** for more **flexibility and ease of use**.\n",
        "\n",
        "#### **Use in Industry and Research**\n",
        "\n",
        "* **Widely used in research**.\n",
        "* Gaining popularity in **industry applications**.\n",
        "* Provides a **user-friendly platform** for building deep learning models.\n",
        "\n",
        "---\n",
        "\n"
      ],
      "metadata": {
        "id": "jnXuEeofUdZ9"
      }
    },
    {
      "cell_type": "markdown",
      "source": [
        "\n",
        "---\n",
        "\n",
        "## 🔥 **PyTorch - In-Depth**\n",
        "\n",
        "---\n",
        "\n",
        "### **1. PyTorch Architecture Overview**\n",
        "\n",
        "* **Core Components**:\n",
        "\n",
        "  1. **Tensors** – Multidimensional arrays, like NumPy arrays but with GPU support.\n",
        "  2. **Autograd** – Automatic differentiation engine for backpropagation.\n",
        "  3. **nn.Module** – Base class for all neural networks.\n",
        "  4. **torch.optim** – Optimization algorithms (SGD, Adam, etc.).\n",
        "  5. **Data utilities** – `torch.utils.data.Dataset` & `DataLoader` for handling data.\n",
        "\n",
        "* **Workflow**:\n",
        "\n",
        "  * Define model using `nn.Module`\n",
        "  * Forward pass → loss calculation\n",
        "  * Backward pass using `autograd`\n",
        "  * Optimizer updates parameters\n",
        "\n",
        "---\n",
        "\n",
        "### **2. Tensors in PyTorch**\n",
        "\n",
        "* Similar to **NumPy arrays**, but can run on **GPU** using `.to(\"cuda\")` or `.cuda()`.\n",
        "\n",
        "* Created using:\n",
        "\n",
        "  ```python\n",
        "  x = torch.tensor([1.0, 2.0])\n",
        "  y = torch.zeros(2, 3)\n",
        "  z = torch.rand(4, 4)\n",
        "  ```\n",
        "\n",
        "* **Operations**: element-wise, matrix multiplication, reshaping (`.view()` or `.reshape()`), etc.\n",
        "\n",
        "* **Device control**:\n",
        "\n",
        "  ```python\n",
        "  device = torch.device(\"cuda\" if torch.cuda.is_available() else \"cpu\")\n",
        "  x = x.to(device)\n",
        "  ```\n",
        "\n",
        "---\n",
        "\n",
        "### **3. Autograd - Automatic Differentiation**\n",
        "\n",
        "* **`requires_grad=True`** tracks computation for automatic differentiation.\n",
        "\n",
        "* Builds **Dynamic Computation Graph** at runtime.\n",
        "\n",
        "* Example:\n",
        "\n",
        "  ```python\n",
        "  x = torch.tensor([2.0], requires_grad=True)\n",
        "  y = x**2\n",
        "  y.backward()\n",
        "  print(x.grad)  # Output: tensor([4.])\n",
        "  ```\n",
        "\n",
        "* **`.backward()`** computes gradients.\n",
        "\n",
        "* Use **`with torch.no_grad():`** to disable gradient tracking during inference.\n",
        "\n",
        "---\n",
        "\n",
        "### **4. `nn.Module` and Model Building**\n",
        "\n",
        "* Every model in PyTorch is a subclass of `nn.Module`.\n",
        "\n",
        "#### **Example:**\n",
        "\n",
        "```python\n",
        "import torch.nn as nn\n",
        "\n",
        "class MyModel(nn.Module):\n",
        "    def __init__(self):\n",
        "        super(MyModel, self).__init__()\n",
        "        self.linear = nn.Linear(10, 1)\n",
        "\n",
        "    def forward(self, x):\n",
        "        return self.linear(x)\n",
        "```\n",
        "\n",
        "* Key methods:\n",
        "\n",
        "  * `__init__()`: define layers\n",
        "  * `forward()`: define forward pass\n",
        "\n",
        "---\n",
        "\n",
        "### **5. Optimizers (torch.optim)**\n",
        "\n",
        "* PyTorch provides various optimizers:\n",
        "\n",
        "  * `SGD`, `Adam`, `RMSprop`, etc.\n",
        "\n",
        "* Example:\n",
        "\n",
        "  ```python\n",
        "  optimizer = torch.optim.Adam(model.parameters(), lr=0.001)\n",
        "  ```\n",
        "\n",
        "* Steps:\n",
        "\n",
        "  1. `optimizer.zero_grad()`\n",
        "  2. `loss.backward()`\n",
        "  3. `optimizer.step()`\n",
        "\n",
        "---\n",
        "\n",
        "### **6. Data Loading Utilities**\n",
        "\n",
        "* **`Dataset`**: Custom data logic\n",
        "* **`DataLoader`**: Batches, shuffling, multiprocessing\n",
        "* Example:\n",
        "\n",
        "  ```python\n",
        "  from torch.utils.data import DataLoader, Dataset\n",
        "\n",
        "  class MyDataset(Dataset):\n",
        "      def __init__(self):\n",
        "          self.data = torch.randn(100, 10)\n",
        "\n",
        "      def __len__(self):\n",
        "          return len(self.data)\n",
        "\n",
        "      def __getitem__(self, idx):\n",
        "          return self.data[idx]\n",
        "\n",
        "  loader = DataLoader(MyDataset(), batch_size=32, shuffle=True)\n",
        "  ```\n",
        "\n",
        "---\n",
        "\n",
        "### **7. Training Loop Structure**\n",
        "\n",
        "```python\n",
        "for epoch in range(epochs):\n",
        "    for inputs, targets in dataloader:\n",
        "        outputs = model(inputs)\n",
        "        loss = criterion(outputs, targets)\n",
        "\n",
        "        optimizer.zero_grad()\n",
        "        loss.backward()\n",
        "        optimizer.step()\n",
        "```\n",
        "\n",
        "---\n",
        "\n",
        "### ✅ **Tips for Beginners**\n",
        "\n",
        "* Use `.to(device)` to move model and tensors to GPU.\n",
        "* Track gradients only when training (not during inference).\n",
        "* Use **TensorBoard**, **WandB**, or **Matplotlib** to monitor training.\n",
        "* Save models with `torch.save()` and load using `torch.load()`.\n",
        "\n",
        "---\n",
        "\n",
        "\n"
      ],
      "metadata": {
        "id": "-PxPvKEaUtQ3"
      }
    },
    {
      "cell_type": "code",
      "execution_count": 1,
      "metadata": {
        "id": "L0WSzu4gS6MC"
      },
      "outputs": [],
      "source": [
        "import torch"
      ]
    },
    {
      "cell_type": "markdown",
      "source": [
        "### Tensors\n",
        "At its core. PyTorch is a library for processing tensors. A tensor is a number, vector, matrix, or any n-dimensional array. Let's create a tensor with a single number."
      ],
      "metadata": {
        "id": "xQz3cSoBWBMg"
      }
    },
    {
      "cell_type": "code",
      "source": [
        "t1=torch.tensor(6.0)\n",
        "t1"
      ],
      "metadata": {
        "colab": {
          "base_uri": "https://localhost:8080/"
        },
        "id": "oOBwRXA0Vvfj",
        "outputId": "3bca5019-a5e4-403d-8860-da4241e15d37"
      },
      "execution_count": 2,
      "outputs": [
        {
          "output_type": "execute_result",
          "data": {
            "text/plain": [
              "tensor(6.)"
            ]
          },
          "metadata": {},
          "execution_count": 2
        }
      ]
    },
    {
      "cell_type": "code",
      "source": [
        "t1.dtype"
      ],
      "metadata": {
        "colab": {
          "base_uri": "https://localhost:8080/"
        },
        "id": "vdLU6xBxWcod",
        "outputId": "47245f5d-ec2f-4336-d373-d5b8f71125ac"
      },
      "execution_count": 3,
      "outputs": [
        {
          "output_type": "execute_result",
          "data": {
            "text/plain": [
              "torch.float32"
            ]
          },
          "metadata": {},
          "execution_count": 3
        }
      ]
    },
    {
      "cell_type": "markdown",
      "source": [
        "**Vector**"
      ],
      "metadata": {
        "id": "2Eg8N49SXeL4"
      }
    },
    {
      "cell_type": "code",
      "source": [
        "t2=torch.tensor([1.,2,3,4])\n",
        "t2"
      ],
      "metadata": {
        "colab": {
          "base_uri": "https://localhost:8080/"
        },
        "id": "iVshWPm-WxTP",
        "outputId": "d4d868ff-f6fb-4276-c99b-55ff496d8c42"
      },
      "execution_count": 4,
      "outputs": [
        {
          "output_type": "execute_result",
          "data": {
            "text/plain": [
              "tensor([1., 2., 3., 4.])"
            ]
          },
          "metadata": {},
          "execution_count": 4
        }
      ]
    },
    {
      "cell_type": "markdown",
      "source": [
        "**Matrix**"
      ],
      "metadata": {
        "id": "EDjocnojXVwG"
      }
    },
    {
      "cell_type": "code",
      "source": [
        "t3=torch.tensor([[5,6,7],\n",
        "                [8,9,2],\n",
        "                [1,2,3]])\n",
        "t3"
      ],
      "metadata": {
        "colab": {
          "base_uri": "https://localhost:8080/"
        },
        "id": "R8N6QZFoW2RV",
        "outputId": "d871a80a-e45b-4dc7-91e3-c33f6bec16a2"
      },
      "execution_count": 8,
      "outputs": [
        {
          "output_type": "execute_result",
          "data": {
            "text/plain": [
              "tensor([[5, 6, 7],\n",
              "        [8, 9, 2],\n",
              "        [1, 2, 3]])"
            ]
          },
          "metadata": {},
          "execution_count": 8
        }
      ]
    },
    {
      "cell_type": "code",
      "source": [
        "t3.shape"
      ],
      "metadata": {
        "colab": {
          "base_uri": "https://localhost:8080/"
        },
        "id": "IKRc_x-SXMeS",
        "outputId": "a331162e-e28e-48ba-ba3f-200c75ac1804"
      },
      "execution_count": 7,
      "outputs": [
        {
          "output_type": "execute_result",
          "data": {
            "text/plain": [
              "torch.Size([3, 3])"
            ]
          },
          "metadata": {},
          "execution_count": 7
        }
      ]
    },
    {
      "cell_type": "markdown",
      "source": [
        "**3-Dimensional-Array**"
      ],
      "metadata": {
        "id": "5zU1xWVbXj1e"
      }
    },
    {
      "cell_type": "code",
      "source": [
        "t4 = torch.tensor([[[1,2,3],[4,5,6],[8,9,10]],[[9,8,7],[6,5,4],[3,2,1]]])\n",
        "t4"
      ],
      "metadata": {
        "colab": {
          "base_uri": "https://localhost:8080/"
        },
        "id": "f5ekGhyZXO7F",
        "outputId": "0878aa92-d1bb-40e4-d31d-ef37fd9bc305"
      },
      "execution_count": 12,
      "outputs": [
        {
          "output_type": "execute_result",
          "data": {
            "text/plain": [
              "tensor([[[ 1,  2,  3],\n",
              "         [ 4,  5,  6],\n",
              "         [ 8,  9, 10]],\n",
              "\n",
              "        [[ 9,  8,  7],\n",
              "         [ 6,  5,  4],\n",
              "         [ 3,  2,  1]]])"
            ]
          },
          "metadata": {},
          "execution_count": 12
        }
      ]
    },
    {
      "cell_type": "code",
      "source": [
        "t4.ndim"
      ],
      "metadata": {
        "colab": {
          "base_uri": "https://localhost:8080/"
        },
        "id": "p2z65ETjYCqL",
        "outputId": "84df48ec-a9d2-4ccc-f89e-e2399f56606a"
      },
      "execution_count": 13,
      "outputs": [
        {
          "output_type": "execute_result",
          "data": {
            "text/plain": [
              "3"
            ]
          },
          "metadata": {},
          "execution_count": 13
        }
      ]
    },
    {
      "cell_type": "code",
      "source": [
        "t1"
      ],
      "metadata": {
        "colab": {
          "base_uri": "https://localhost:8080/"
        },
        "id": "4NOISlUwZB_j",
        "outputId": "64efed6e-b53d-4067-86e3-6dff59bf411c"
      },
      "execution_count": 14,
      "outputs": [
        {
          "output_type": "execute_result",
          "data": {
            "text/plain": [
              "tensor(6.)"
            ]
          },
          "metadata": {},
          "execution_count": 14
        }
      ]
    },
    {
      "cell_type": "code",
      "source": [
        "t1.shape"
      ],
      "metadata": {
        "colab": {
          "base_uri": "https://localhost:8080/"
        },
        "id": "zeLadnwjZcS8",
        "outputId": "97deb99c-9bea-420e-a66e-2009b00daaa2"
      },
      "execution_count": 15,
      "outputs": [
        {
          "output_type": "execute_result",
          "data": {
            "text/plain": [
              "torch.Size([])"
            ]
          },
          "metadata": {},
          "execution_count": 15
        }
      ]
    },
    {
      "cell_type": "code",
      "source": [
        "t1.size()"
      ],
      "metadata": {
        "colab": {
          "base_uri": "https://localhost:8080/"
        },
        "id": "-HgI4JhtZfmc",
        "outputId": "b02927ae-5a0c-47ff-9417-206785d0fe61"
      },
      "execution_count": 17,
      "outputs": [
        {
          "output_type": "execute_result",
          "data": {
            "text/plain": [
              "torch.Size([])"
            ]
          },
          "metadata": {},
          "execution_count": 17
        }
      ]
    },
    {
      "cell_type": "code",
      "source": [
        "t2.shape"
      ],
      "metadata": {
        "colab": {
          "base_uri": "https://localhost:8080/"
        },
        "id": "lhqMSGCQZxJQ",
        "outputId": "e60fddef-3100-4de1-c129-d4afeb2bf740"
      },
      "execution_count": 21,
      "outputs": [
        {
          "output_type": "execute_result",
          "data": {
            "text/plain": [
              "torch.Size([4])"
            ]
          },
          "metadata": {},
          "execution_count": 21
        }
      ]
    },
    {
      "cell_type": "code",
      "source": [
        "t2.size()"
      ],
      "metadata": {
        "colab": {
          "base_uri": "https://localhost:8080/"
        },
        "id": "oSRI5GvrZz7r",
        "outputId": "9d0c3972-fc61-4501-c4e9-a0b283a6b4b8"
      },
      "execution_count": 23,
      "outputs": [
        {
          "output_type": "execute_result",
          "data": {
            "text/plain": [
              "torch.Size([4])"
            ]
          },
          "metadata": {},
          "execution_count": 23
        }
      ]
    },
    {
      "cell_type": "code",
      "source": [
        "t4.shape"
      ],
      "metadata": {
        "colab": {
          "base_uri": "https://localhost:8080/"
        },
        "id": "2JTSU6__ZlDe",
        "outputId": "e1184e71-7cae-4355-cf71-6c3113046d6b"
      },
      "execution_count": 18,
      "outputs": [
        {
          "output_type": "execute_result",
          "data": {
            "text/plain": [
              "torch.Size([2, 3, 3])"
            ]
          },
          "metadata": {},
          "execution_count": 18
        }
      ]
    },
    {
      "cell_type": "code",
      "source": [
        "t4.size()"
      ],
      "metadata": {
        "colab": {
          "base_uri": "https://localhost:8080/"
        },
        "id": "-ykXJaGsZnjp",
        "outputId": "20d4039b-1cec-49d5-baf0-13c423a02d3e"
      },
      "execution_count": 20,
      "outputs": [
        {
          "output_type": "execute_result",
          "data": {
            "text/plain": [
              "torch.Size([2, 3, 3])"
            ]
          },
          "metadata": {},
          "execution_count": 20
        }
      ]
    },
    {
      "cell_type": "code",
      "source": [],
      "metadata": {
        "id": "q2yvFYXVZ4X7"
      },
      "execution_count": null,
      "outputs": []
    }
  ]
}