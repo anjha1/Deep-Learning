{
  "nbformat": 4,
  "nbformat_minor": 0,
  "metadata": {
    "colab": {
      "provenance": [],
      "authorship_tag": "ABX9TyO87M2kSnhW/p57fjLxqYb2",
      "include_colab_link": true
    },
    "kernelspec": {
      "name": "python3",
      "display_name": "Python 3"
    },
    "language_info": {
      "name": "python"
    }
  },
  "cells": [
    {
      "cell_type": "markdown",
      "metadata": {
        "id": "view-in-github",
        "colab_type": "text"
      },
      "source": [
        "<a href=\"https://colab.research.google.com/github/anjha1/Deep-Learning/blob/main/12_PyTorch.ipynb\" target=\"_parent\"><img src=\"https://colab.research.google.com/assets/colab-badge.svg\" alt=\"Open In Colab\"/></a>"
      ]
    },
    {
      "cell_type": "markdown",
      "source": [
        "\n",
        "\n",
        "### **PyTorch -**\n",
        "\n",
        "#### **Introduction**\n",
        "\n",
        "* PyTorch is an **open-source machine learning framework**.\n",
        "* Mainly used for **developing and training deep learning models**.\n",
        "* Developed by **Facebook's AI Research Lab** and released in **2016**.\n",
        "* Offers a **flexible and dynamic approach** to building neural networks.\n",
        "* Popular among researchers and developers.\n",
        "\n",
        "#### **Key Features**\n",
        "\n",
        "1. **Dynamic Computational Graphs**\n",
        "\n",
        "   * Graphs are **built and modified on-the-fly** as the program runs.\n",
        "   * Allows for **intuitive and flexible** model development.\n",
        "   * Supports standard **Python control flow** and easy debugging.\n",
        "\n",
        "2. **Automatic Differentiation**\n",
        "\n",
        "   * Efficient computation of **gradients for backpropagation**.\n",
        "   * Supports **data loading**, **model building**, **optimization**, and **evaluation**.\n",
        "\n",
        "3. **GPU Acceleration**\n",
        "\n",
        "   * Enables training on **GPUs** to **speed up computations**.\n",
        "   * Backed by a **large and active community** with many tutorials and pre-trained models.\n",
        "\n",
        "4. **Comparison with TensorFlow**\n",
        "\n",
        "   * TensorFlow: uses **static computation graphs**.\n",
        "   * PyTorch: uses **dynamic graphs** for more **flexibility and ease of use**.\n",
        "\n",
        "#### **Use in Industry and Research**\n",
        "\n",
        "* **Widely used in research**.\n",
        "* Gaining popularity in **industry applications**.\n",
        "* Provides a **user-friendly platform** for building deep learning models.\n",
        "\n",
        "---\n",
        "\n"
      ],
      "metadata": {
        "id": "jnXuEeofUdZ9"
      }
    },
    {
      "cell_type": "markdown",
      "source": [
        "\n",
        "---\n",
        "\n",
        "## 🔥 **PyTorch - In-Depth**\n",
        "\n",
        "---\n",
        "\n",
        "### **1. PyTorch Architecture Overview**\n",
        "\n",
        "* **Core Components**:\n",
        "\n",
        "  1. **Tensors** – Multidimensional arrays, like NumPy arrays but with GPU support.\n",
        "  2. **Autograd** – Automatic differentiation engine for backpropagation.\n",
        "  3. **nn.Module** – Base class for all neural networks.\n",
        "  4. **torch.optim** – Optimization algorithms (SGD, Adam, etc.).\n",
        "  5. **Data utilities** – `torch.utils.data.Dataset` & `DataLoader` for handling data.\n",
        "\n",
        "* **Workflow**:\n",
        "\n",
        "  * Define model using `nn.Module`\n",
        "  * Forward pass → loss calculation\n",
        "  * Backward pass using `autograd`\n",
        "  * Optimizer updates parameters\n",
        "\n",
        "---\n",
        "\n",
        "### **2. Tensors in PyTorch**\n",
        "\n",
        "* Similar to **NumPy arrays**, but can run on **GPU** using `.to(\"cuda\")` or `.cuda()`.\n",
        "\n",
        "* Created using:\n",
        "\n",
        "  ```python\n",
        "  x = torch.tensor([1.0, 2.0])\n",
        "  y = torch.zeros(2, 3)\n",
        "  z = torch.rand(4, 4)\n",
        "  ```\n",
        "\n",
        "* **Operations**: element-wise, matrix multiplication, reshaping (`.view()` or `.reshape()`), etc.\n",
        "\n",
        "* **Device control**:\n",
        "\n",
        "  ```python\n",
        "  device = torch.device(\"cuda\" if torch.cuda.is_available() else \"cpu\")\n",
        "  x = x.to(device)\n",
        "  ```\n",
        "\n",
        "---\n",
        "\n",
        "### **3. Autograd - Automatic Differentiation**\n",
        "\n",
        "* **`requires_grad=True`** tracks computation for automatic differentiation.\n",
        "\n",
        "* Builds **Dynamic Computation Graph** at runtime.\n",
        "\n",
        "* Example:\n",
        "\n",
        "  ```python\n",
        "  x = torch.tensor([2.0], requires_grad=True)\n",
        "  y = x**2\n",
        "  y.backward()\n",
        "  print(x.grad)  # Output: tensor([4.])\n",
        "  ```\n",
        "\n",
        "* **`.backward()`** computes gradients.\n",
        "\n",
        "* Use **`with torch.no_grad():`** to disable gradient tracking during inference.\n",
        "\n",
        "---\n",
        "\n",
        "### **4. `nn.Module` and Model Building**\n",
        "\n",
        "* Every model in PyTorch is a subclass of `nn.Module`.\n",
        "\n",
        "#### **Example:**\n",
        "\n",
        "```python\n",
        "import torch.nn as nn\n",
        "\n",
        "class MyModel(nn.Module):\n",
        "    def __init__(self):\n",
        "        super(MyModel, self).__init__()\n",
        "        self.linear = nn.Linear(10, 1)\n",
        "\n",
        "    def forward(self, x):\n",
        "        return self.linear(x)\n",
        "```\n",
        "\n",
        "* Key methods:\n",
        "\n",
        "  * `__init__()`: define layers\n",
        "  * `forward()`: define forward pass\n",
        "\n",
        "---\n",
        "\n",
        "### **5. Optimizers (torch.optim)**\n",
        "\n",
        "* PyTorch provides various optimizers:\n",
        "\n",
        "  * `SGD`, `Adam`, `RMSprop`, etc.\n",
        "\n",
        "* Example:\n",
        "\n",
        "  ```python\n",
        "  optimizer = torch.optim.Adam(model.parameters(), lr=0.001)\n",
        "  ```\n",
        "\n",
        "* Steps:\n",
        "\n",
        "  1. `optimizer.zero_grad()`\n",
        "  2. `loss.backward()`\n",
        "  3. `optimizer.step()`\n",
        "\n",
        "---\n",
        "\n",
        "### **6. Data Loading Utilities**\n",
        "\n",
        "* **`Dataset`**: Custom data logic\n",
        "* **`DataLoader`**: Batches, shuffling, multiprocessing\n",
        "* Example:\n",
        "\n",
        "  ```python\n",
        "  from torch.utils.data import DataLoader, Dataset\n",
        "\n",
        "  class MyDataset(Dataset):\n",
        "      def __init__(self):\n",
        "          self.data = torch.randn(100, 10)\n",
        "\n",
        "      def __len__(self):\n",
        "          return len(self.data)\n",
        "\n",
        "      def __getitem__(self, idx):\n",
        "          return self.data[idx]\n",
        "\n",
        "  loader = DataLoader(MyDataset(), batch_size=32, shuffle=True)\n",
        "  ```\n",
        "\n",
        "---\n",
        "\n",
        "### **7. Training Loop Structure**\n",
        "\n",
        "```python\n",
        "for epoch in range(epochs):\n",
        "    for inputs, targets in dataloader:\n",
        "        outputs = model(inputs)\n",
        "        loss = criterion(outputs, targets)\n",
        "\n",
        "        optimizer.zero_grad()\n",
        "        loss.backward()\n",
        "        optimizer.step()\n",
        "```\n",
        "\n",
        "---\n",
        "\n",
        "### ✅ **Tips for Beginners**\n",
        "\n",
        "* Use `.to(device)` to move model and tensors to GPU.\n",
        "* Track gradients only when training (not during inference).\n",
        "* Use **TensorBoard**, **WandB**, or **Matplotlib** to monitor training.\n",
        "* Save models with `torch.save()` and load using `torch.load()`.\n",
        "\n",
        "---\n",
        "\n",
        "\n"
      ],
      "metadata": {
        "id": "-PxPvKEaUtQ3"
      }
    },
    {
      "cell_type": "code",
      "execution_count": 27,
      "metadata": {
        "id": "L0WSzu4gS6MC"
      },
      "outputs": [],
      "source": [
        "import torch"
      ]
    },
    {
      "cell_type": "markdown",
      "source": [
        "### Tensors\n",
        "At its core. PyTorch is a library for processing tensors. A tensor is a number, vector, matrix, or any n-dimensional array. Let's create a tensor with a single number."
      ],
      "metadata": {
        "id": "xQz3cSoBWBMg"
      }
    },
    {
      "cell_type": "code",
      "source": [
        "t1=torch.tensor(6.0)\n",
        "t1"
      ],
      "metadata": {
        "colab": {
          "base_uri": "https://localhost:8080/"
        },
        "id": "oOBwRXA0Vvfj",
        "outputId": "c880faa5-9181-4757-c67c-a5f444a17500"
      },
      "execution_count": 28,
      "outputs": [
        {
          "output_type": "execute_result",
          "data": {
            "text/plain": [
              "tensor(6.)"
            ]
          },
          "metadata": {},
          "execution_count": 28
        }
      ]
    },
    {
      "cell_type": "code",
      "source": [
        "t1.dtype"
      ],
      "metadata": {
        "colab": {
          "base_uri": "https://localhost:8080/"
        },
        "id": "vdLU6xBxWcod",
        "outputId": "f43f747d-f3df-403d-b5e9-2cdda114eff3"
      },
      "execution_count": 29,
      "outputs": [
        {
          "output_type": "execute_result",
          "data": {
            "text/plain": [
              "torch.float32"
            ]
          },
          "metadata": {},
          "execution_count": 29
        }
      ]
    },
    {
      "cell_type": "markdown",
      "source": [
        "**Vector**"
      ],
      "metadata": {
        "id": "2Eg8N49SXeL4"
      }
    },
    {
      "cell_type": "code",
      "source": [
        "t2=torch.tensor([1.,2,3,4])\n",
        "t2"
      ],
      "metadata": {
        "colab": {
          "base_uri": "https://localhost:8080/"
        },
        "id": "iVshWPm-WxTP",
        "outputId": "e3b03a4a-69ed-4ed6-dab1-9c44332e412e"
      },
      "execution_count": 30,
      "outputs": [
        {
          "output_type": "execute_result",
          "data": {
            "text/plain": [
              "tensor([1., 2., 3., 4.])"
            ]
          },
          "metadata": {},
          "execution_count": 30
        }
      ]
    },
    {
      "cell_type": "markdown",
      "source": [
        "**Matrix**"
      ],
      "metadata": {
        "id": "EDjocnojXVwG"
      }
    },
    {
      "cell_type": "code",
      "source": [
        "t3=torch.tensor([[5,6,7],\n",
        "                [8,9,2],\n",
        "                [1,2,3]])\n",
        "t3"
      ],
      "metadata": {
        "colab": {
          "base_uri": "https://localhost:8080/"
        },
        "id": "R8N6QZFoW2RV",
        "outputId": "2dc1bf25-686c-42c0-fa2d-66e6f76ea20a"
      },
      "execution_count": 31,
      "outputs": [
        {
          "output_type": "execute_result",
          "data": {
            "text/plain": [
              "tensor([[5, 6, 7],\n",
              "        [8, 9, 2],\n",
              "        [1, 2, 3]])"
            ]
          },
          "metadata": {},
          "execution_count": 31
        }
      ]
    },
    {
      "cell_type": "code",
      "source": [
        "t3.shape"
      ],
      "metadata": {
        "colab": {
          "base_uri": "https://localhost:8080/"
        },
        "id": "IKRc_x-SXMeS",
        "outputId": "42999dfa-d372-40db-cf89-ad8bb8a43877"
      },
      "execution_count": 32,
      "outputs": [
        {
          "output_type": "execute_result",
          "data": {
            "text/plain": [
              "torch.Size([3, 3])"
            ]
          },
          "metadata": {},
          "execution_count": 32
        }
      ]
    },
    {
      "cell_type": "markdown",
      "source": [
        "**3-Dimensional-Array**"
      ],
      "metadata": {
        "id": "5zU1xWVbXj1e"
      }
    },
    {
      "cell_type": "code",
      "source": [
        "t4 = torch.tensor([[[1,2,3],[4,5,6],[8,9,10]],[[9,8,7],[6,5,4],[3,2,1]]])\n",
        "t4"
      ],
      "metadata": {
        "colab": {
          "base_uri": "https://localhost:8080/"
        },
        "id": "f5ekGhyZXO7F",
        "outputId": "a36655dd-bc4c-4fda-8886-6732426b850d"
      },
      "execution_count": 33,
      "outputs": [
        {
          "output_type": "execute_result",
          "data": {
            "text/plain": [
              "tensor([[[ 1,  2,  3],\n",
              "         [ 4,  5,  6],\n",
              "         [ 8,  9, 10]],\n",
              "\n",
              "        [[ 9,  8,  7],\n",
              "         [ 6,  5,  4],\n",
              "         [ 3,  2,  1]]])"
            ]
          },
          "metadata": {},
          "execution_count": 33
        }
      ]
    },
    {
      "cell_type": "code",
      "source": [
        "t4.ndim"
      ],
      "metadata": {
        "colab": {
          "base_uri": "https://localhost:8080/"
        },
        "id": "p2z65ETjYCqL",
        "outputId": "d3b5f7f7-2ef1-49c7-eef1-b1a52278fc9d"
      },
      "execution_count": 34,
      "outputs": [
        {
          "output_type": "execute_result",
          "data": {
            "text/plain": [
              "3"
            ]
          },
          "metadata": {},
          "execution_count": 34
        }
      ]
    },
    {
      "cell_type": "code",
      "source": [
        "t1"
      ],
      "metadata": {
        "colab": {
          "base_uri": "https://localhost:8080/"
        },
        "id": "4NOISlUwZB_j",
        "outputId": "58530120-240a-46be-e1b0-aa21c053fe26"
      },
      "execution_count": 35,
      "outputs": [
        {
          "output_type": "execute_result",
          "data": {
            "text/plain": [
              "tensor(6.)"
            ]
          },
          "metadata": {},
          "execution_count": 35
        }
      ]
    },
    {
      "cell_type": "code",
      "source": [
        "t1.shape"
      ],
      "metadata": {
        "colab": {
          "base_uri": "https://localhost:8080/"
        },
        "id": "zeLadnwjZcS8",
        "outputId": "8c3035dc-429e-4423-8d48-de7d744e9b22"
      },
      "execution_count": 36,
      "outputs": [
        {
          "output_type": "execute_result",
          "data": {
            "text/plain": [
              "torch.Size([])"
            ]
          },
          "metadata": {},
          "execution_count": 36
        }
      ]
    },
    {
      "cell_type": "code",
      "source": [
        "t1.size()"
      ],
      "metadata": {
        "colab": {
          "base_uri": "https://localhost:8080/"
        },
        "id": "-HgI4JhtZfmc",
        "outputId": "57fccd1a-6ecd-4797-abb0-309ffe07c1f3"
      },
      "execution_count": 37,
      "outputs": [
        {
          "output_type": "execute_result",
          "data": {
            "text/plain": [
              "torch.Size([])"
            ]
          },
          "metadata": {},
          "execution_count": 37
        }
      ]
    },
    {
      "cell_type": "code",
      "source": [
        "t2.shape"
      ],
      "metadata": {
        "colab": {
          "base_uri": "https://localhost:8080/"
        },
        "id": "lhqMSGCQZxJQ",
        "outputId": "7855f7b3-544c-46f1-9a35-8a916cd60411"
      },
      "execution_count": 38,
      "outputs": [
        {
          "output_type": "execute_result",
          "data": {
            "text/plain": [
              "torch.Size([4])"
            ]
          },
          "metadata": {},
          "execution_count": 38
        }
      ]
    },
    {
      "cell_type": "code",
      "source": [
        "t2.size()"
      ],
      "metadata": {
        "colab": {
          "base_uri": "https://localhost:8080/"
        },
        "id": "oSRI5GvrZz7r",
        "outputId": "28197c54-6517-4801-ab7e-8b28de04c743"
      },
      "execution_count": 39,
      "outputs": [
        {
          "output_type": "execute_result",
          "data": {
            "text/plain": [
              "torch.Size([4])"
            ]
          },
          "metadata": {},
          "execution_count": 39
        }
      ]
    },
    {
      "cell_type": "code",
      "source": [
        "t4.shape"
      ],
      "metadata": {
        "colab": {
          "base_uri": "https://localhost:8080/"
        },
        "id": "2JTSU6__ZlDe",
        "outputId": "788f5dbd-80c2-46c5-a2c7-4252a7d5284d"
      },
      "execution_count": 40,
      "outputs": [
        {
          "output_type": "execute_result",
          "data": {
            "text/plain": [
              "torch.Size([2, 3, 3])"
            ]
          },
          "metadata": {},
          "execution_count": 40
        }
      ]
    },
    {
      "cell_type": "code",
      "source": [
        "t4.size()"
      ],
      "metadata": {
        "colab": {
          "base_uri": "https://localhost:8080/"
        },
        "id": "-ykXJaGsZnjp",
        "outputId": "9780e070-ac8b-4261-898d-216f37574391"
      },
      "execution_count": 41,
      "outputs": [
        {
          "output_type": "execute_result",
          "data": {
            "text/plain": [
              "torch.Size([2, 3, 3])"
            ]
          },
          "metadata": {},
          "execution_count": 41
        }
      ]
    },
    {
      "cell_type": "markdown",
      "source": [
        "---\n",
        "\n",
        "## 🧮 **Tensor Operations and Gradients in PyTorch**\n",
        "\n",
        "### **1. Creating Tensors**\n"
      ],
      "metadata": {
        "id": "e-0hUCRxu8JH"
      }
    },
    {
      "cell_type": "code",
      "source": [
        "x = torch.tensor(3.)\n",
        "w = torch.tensor(4., requires_grad=True)\n",
        "b = torch.tensor(5., requires_grad=True)"
      ],
      "metadata": {
        "id": "q2yvFYXVZ4X7"
      },
      "execution_count": 42,
      "outputs": []
    },
    {
      "cell_type": "markdown",
      "source": [
        "* `x`, `w`, and `b` are all scalar tensors (single float values).\n",
        "* `w` and `b` have `requires_grad=True`, which tells PyTorch to **track gradients** for them (useful for autograd).\n",
        "\n",
        "\n",
        "\n",
        "### **2. Arithmetic Operation**"
      ],
      "metadata": {
        "id": "EmhJh-QMvBOx"
      }
    },
    {
      "cell_type": "code",
      "source": [
        "y = w * x + b\n",
        "y"
      ],
      "metadata": {
        "colab": {
          "base_uri": "https://localhost:8080/"
        },
        "id": "OYiQs8FGuxTb",
        "outputId": "16b9db97-1e36-47ce-a07a-8fa23e95c90e"
      },
      "execution_count": 43,
      "outputs": [
        {
          "output_type": "execute_result",
          "data": {
            "text/plain": [
              "tensor(17., grad_fn=<AddBackward0>)"
            ]
          },
          "metadata": {},
          "execution_count": 43
        }
      ]
    },
    {
      "cell_type": "markdown",
      "source": [
        "\n",
        "* Combines tensors using standard arithmetic.\n",
        "\n",
        "* Value of `y`:\n",
        "  $y = w \\times x + b = 4 \\times 3 + 5 = 17$\n",
        "\n",
        "* PyTorch automatically tracks this computation for backpropagation.\n",
        "\n",
        "---\n",
        "\n",
        "### **3. Gradient Computation using Autograd**"
      ],
      "metadata": {
        "id": "DM_M3guKvGtD"
      }
    },
    {
      "cell_type": "code",
      "source": [
        "y.backward()"
      ],
      "metadata": {
        "id": "i74hXlPAux5-"
      },
      "execution_count": 44,
      "outputs": []
    },
    {
      "cell_type": "markdown",
      "source": [
        "* Computes the **derivatives of `y` w\\.r.t. tensors with `requires_grad=True`**, i.e., `w` and `b`.\n",
        "\n",
        "* This uses PyTorch's **autograd** system (automatic differentiation engine).\n",
        "\n",
        "---\n",
        "\n",
        "### ✅ **Key Concept: Autograd**\n",
        "\n",
        "* PyTorch keeps track of operations using a **dynamic computation graph**.\n",
        "* `.backward()` triggers the computation of gradients.\n",
        "* After `.backward()`, you can access gradients via:"
      ],
      "metadata": {
        "id": "B7SvjeN9vYMs"
      }
    },
    {
      "cell_type": "markdown",
      "source": [
        "## 🧠 **Viewing Gradients in PyTorch**\n",
        "\n",
        "### **1. Accessing Gradients**\n",
        "\n",
        "* PyTorch stores computed gradients in the `.grad` attribute of tensors:"
      ],
      "metadata": {
        "id": "8V3fBTsvw5Dx"
      }
    },
    {
      "cell_type": "code",
      "source": [
        "print('dy/dx:', x.grad)  # None\n",
        "print('dy/dw:', w.grad)  # tensor(3.)\n",
        "print('dy/db:', b.grad)  # tensor(1.)"
      ],
      "metadata": {
        "colab": {
          "base_uri": "https://localhost:8080/"
        },
        "id": "YnivpC5Fw8kf",
        "outputId": "4e3d453e-14eb-4375-a4a9-61577939e24e"
      },
      "execution_count": 45,
      "outputs": [
        {
          "output_type": "stream",
          "name": "stdout",
          "text": [
            "dy/dx: None\n",
            "dy/dw: tensor(3.)\n",
            "dy/db: tensor(1.)\n"
          ]
        }
      ]
    },
    {
      "cell_type": "markdown",
      "source": [
        "\n",
        "### **2. Explanation of Gradient Values**\n",
        "\n",
        "| Derivative | Value  | Reason                                                     |\n",
        "| ---------- | ------ | ---------------------------------------------------------- |\n",
        "| dy/dx      | `None` | `x` does **not** have `requires_grad=True`, so no gradient |\n",
        "| dy/dw      | `3.`   | Gradient of `y = wx + b` w\\.r.t. `w` is `x = 3`            |\n",
        "| dy/db      | `1.`   | Gradient of `y = wx + b` w\\.r.t. `b` is `1` (∂y/∂b = 1)    |\n",
        "\n",
        "---\n",
        "\n",
        "### ✅ **Key Notes:**\n",
        "\n",
        "* `.grad` gives **partial derivatives** of output w\\.r.t. each tensor with `requires_grad=True`.\n",
        "* `x.grad` is `None` because we didn’t set `requires_grad=True` for `x`.\n",
        "* The term **\"grad\"** is short for **gradient**, which means derivative (commonly used in ML).\n",
        "\n",
        "---\n",
        "\n",
        "\n"
      ],
      "metadata": {
        "id": "IQpgik0DwmSK"
      }
    },
    {
      "cell_type": "code",
      "source": [],
      "metadata": {
        "id": "sulLD9MOxPZf"
      },
      "execution_count": 45,
      "outputs": []
    },
    {
      "cell_type": "markdown",
      "source": [
        "## 🧮 PyTorch Tensor Functions\n",
        "\n",
        "### 🔹 1. Creating a Tensor with a Fixed Value\n",
        "\n",
        "----\n",
        "\n",
        "📌 This creates a **3×2 tensor** where **every element is 42**."
      ],
      "metadata": {
        "id": "Ln92NWGAzqd6"
      }
    },
    {
      "cell_type": "code",
      "source": [
        "t6 = torch.full((3, 2), 42)\n",
        "t6"
      ],
      "metadata": {
        "colab": {
          "base_uri": "https://localhost:8080/"
        },
        "id": "v5KbUn4p0HvS",
        "outputId": "3d1a03c8-276e-4211-e966-c5717627cbbb"
      },
      "execution_count": 46,
      "outputs": [
        {
          "output_type": "execute_result",
          "data": {
            "text/plain": [
              "tensor([[42, 42],\n",
              "        [42, 42],\n",
              "        [42, 42]])"
            ]
          },
          "metadata": {},
          "execution_count": 46
        }
      ]
    },
    {
      "cell_type": "markdown",
      "source": [
        "### 🔹 2. Tensor Concatenation"
      ],
      "metadata": {
        "id": "IEEMoAMP0YLh"
      }
    },
    {
      "cell_type": "code",
      "source": [
        "t_new=torch.tensor([[5,6],\n",
        "                [8,2],\n",
        "                [1,2]])\n",
        "t_new,t6"
      ],
      "metadata": {
        "colab": {
          "base_uri": "https://localhost:8080/"
        },
        "id": "ii-hInPh1OUH",
        "outputId": "a52da407-0fe8-4ace-d7c4-1b423020d248"
      },
      "execution_count": 53,
      "outputs": [
        {
          "output_type": "execute_result",
          "data": {
            "text/plain": [
              "(tensor([[5, 6],\n",
              "         [8, 2],\n",
              "         [1, 2]]),\n",
              " tensor([[42, 42],\n",
              "         [42, 42],\n",
              "         [42, 42]]))"
            ]
          },
          "metadata": {},
          "execution_count": 53
        }
      ]
    },
    {
      "cell_type": "code",
      "source": [
        "t7 = torch.cat((t_new, t6))\n",
        "t7"
      ],
      "metadata": {
        "colab": {
          "base_uri": "https://localhost:8080/"
        },
        "id": "3lQZHVuP0qQ3",
        "outputId": "731236db-4141-433e-b33f-122519cfe286"
      },
      "execution_count": 52,
      "outputs": [
        {
          "output_type": "execute_result",
          "data": {
            "text/plain": [
              "tensor([[ 5,  6],\n",
              "        [ 8,  2],\n",
              "        [ 1,  2],\n",
              "        [42, 42],\n",
              "        [42, 42],\n",
              "        [42, 42]])"
            ]
          },
          "metadata": {},
          "execution_count": 52
        }
      ]
    },
    {
      "cell_type": "markdown",
      "source": [
        "\n",
        "📌 `torch.cat()` joins tensors **along the first dimension (rows)** if not specified otherwise.\n",
        "\n",
        "---\n",
        "\n",
        "## ✅ Summary:\n",
        "\n",
        "| Function                 | Description                                           |\n",
        "| ------------------------ | ----------------------------------------------------- |\n",
        "| `torch.full(shape, val)` | Creates a tensor filled with the given constant `val` |\n",
        "| `torch.cat(tensors)`     | Concatenates tensors with compatible shapes           |\n",
        "\n",
        "🧠 Make sure the tensors have **matching dimensions except along the axis you're concatenating** (default is `dim=0`).\n",
        "\n",
        "---\n",
        "\n"
      ],
      "metadata": {
        "id": "yxBYXCE30Edt"
      }
    },
    {
      "cell_type": "code",
      "source": [
        "t8=torch.sin(t7)\n",
        "t8"
      ],
      "metadata": {
        "colab": {
          "base_uri": "https://localhost:8080/"
        },
        "id": "T8mqKjeUzn5n",
        "outputId": "a428dd6b-9e49-422a-f5f5-c8699d9b09f1"
      },
      "execution_count": 54,
      "outputs": [
        {
          "output_type": "execute_result",
          "data": {
            "text/plain": [
              "tensor([[-0.9589, -0.2794],\n",
              "        [ 0.9894,  0.9093],\n",
              "        [ 0.8415,  0.9093],\n",
              "        [-0.9165, -0.9165],\n",
              "        [-0.9165, -0.9165],\n",
              "        [-0.9165, -0.9165]])"
            ]
          },
          "metadata": {},
          "execution_count": 54
        }
      ]
    },
    {
      "cell_type": "code",
      "source": [
        "t9=torch.reshape(t8,(3,2,2))\n",
        "t9"
      ],
      "metadata": {
        "colab": {
          "base_uri": "https://localhost:8080/"
        },
        "id": "VC6iEly258CO",
        "outputId": "5770814a-ed90-45cb-b5ee-63d8b0d1db3d"
      },
      "execution_count": 55,
      "outputs": [
        {
          "output_type": "execute_result",
          "data": {
            "text/plain": [
              "tensor([[[-0.9589, -0.2794],\n",
              "         [ 0.9894,  0.9093]],\n",
              "\n",
              "        [[ 0.8415,  0.9093],\n",
              "         [-0.9165, -0.9165]],\n",
              "\n",
              "        [[-0.9165, -0.9165],\n",
              "         [-0.9165, -0.9165]]])"
            ]
          },
          "metadata": {},
          "execution_count": 55
        }
      ]
    },
    {
      "cell_type": "markdown",
      "source": [
        "You can learn more about tensor operations here: [https://pytorch.org/docs/stable/torch.html](https://pytorch.org/docs/stable/torch.html). Experiment with some more tensor functions and operations using the empty cells below."
      ],
      "metadata": {
        "id": "zFPgbGrj6nv0"
      }
    },
    {
      "cell_type": "markdown",
      "source": [
        "---\n",
        "\n",
        "## 🔄 Interoperability with NumPy (PyTorch + NumPy)\n",
        "\n",
        "### 🔹 NumPy kya hai?\n",
        "\n",
        "**NumPy** is a powerful library for numerical computing in Python.\n",
        "\n",
        "**Used with:**\n",
        "\n",
        "* **Pandas** – Data analysis\n",
        "* **Matplotlib** – Visualization\n",
        "* **OpenCV** – Image processing\n",
        "\n",
        "**Why use with PyTorch?**\n",
        "\n",
        "> PyTorch doesn't reinvent the wheel — it works well with NumPy arrays to benefit from Python’s existing data science ecosystem.\n",
        "\n",
        "---\n",
        "\n",
        "### 🔸 NumPy Array Creation Example"
      ],
      "metadata": {
        "id": "5bRp9NWk761T"
      }
    },
    {
      "cell_type": "code",
      "source": [
        "import numpy as np\n",
        "\n",
        "x = np.array([[1, 2], [3, 4.1]])\n",
        "x"
      ],
      "metadata": {
        "colab": {
          "base_uri": "https://localhost:8080/"
        },
        "id": "wHv_5Wz-7-HL",
        "outputId": "20cc8821-58fa-4f59-b628-b480418953b1"
      },
      "execution_count": 58,
      "outputs": [
        {
          "output_type": "execute_result",
          "data": {
            "text/plain": [
              "array([[1. , 2. ],\n",
              "       [3. , 4.1]])"
            ]
          },
          "metadata": {},
          "execution_count": 58
        }
      ]
    },
    {
      "cell_type": "markdown",
      "source": [
        "\n",
        "### 🔸 Converting NumPy array to PyTorch Tensor"
      ],
      "metadata": {
        "id": "tA2lRfio8Ol7"
      }
    },
    {
      "cell_type": "code",
      "source": [
        "y = torch.from_numpy(x)\n",
        "y"
      ],
      "metadata": {
        "colab": {
          "base_uri": "https://localhost:8080/"
        },
        "id": "dBZDhCF_8Dvy",
        "outputId": "558d5451-e01e-4b7b-be2c-9910aac02c57"
      },
      "execution_count": 59,
      "outputs": [
        {
          "output_type": "execute_result",
          "data": {
            "text/plain": [
              "tensor([[1.0000, 2.0000],\n",
              "        [3.0000, 4.1000]], dtype=torch.float64)"
            ]
          },
          "metadata": {},
          "execution_count": 59
        }
      ]
    },
    {
      "cell_type": "markdown",
      "source": [
        "> ✅ `torch.from_numpy()` **shares memory** with NumPy — meaning changes in one reflect in the other unless explicitly copied.\n",
        "\n",
        "---\n",
        "\n",
        "## ✅ Summary Table\n",
        "\n",
        "| Operation       | PyTorch Code                 | Notes                   |\n",
        "| --------------- | ---------------------------- | ----------------------- |\n",
        "| NumPy → PyTorch | `torch.from_numpy(np_array)` | Shares memory (no copy) |\n",
        "| PyTorch → NumPy | `tensor.numpy()`             | Must be CPU tensor      |\n",
        "\n",
        "---"
      ],
      "metadata": {
        "id": "-0u7gtFz8Iy6"
      }
    },
    {
      "cell_type": "code",
      "source": [],
      "metadata": {
        "id": "15HL2v7H8S1O"
      },
      "execution_count": null,
      "outputs": []
    }
  ]
}