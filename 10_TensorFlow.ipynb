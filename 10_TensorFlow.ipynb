{
  "nbformat": 4,
  "nbformat_minor": 0,
  "metadata": {
    "colab": {
      "provenance": [],
      "authorship_tag": "ABX9TyPWjs+paXMGOdC8sjZEkW0o",
      "include_colab_link": true
    },
    "kernelspec": {
      "name": "python3",
      "display_name": "Python 3"
    },
    "language_info": {
      "name": "python"
    }
  },
  "cells": [
    {
      "cell_type": "markdown",
      "metadata": {
        "id": "view-in-github",
        "colab_type": "text"
      },
      "source": [
        "<a href=\"https://colab.research.google.com/github/anjha1/Deep-Learning/blob/main/10_TensorFlow.ipynb\" target=\"_parent\"><img src=\"https://colab.research.google.com/assets/colab-badge.svg\" alt=\"Open In Colab\"/></a>"
      ]
    },
    {
      "cell_type": "markdown",
      "source": [
        "\n",
        "\n",
        "---\n",
        "\n",
        "# **TensorFlow Notes**\n",
        "\n",
        "## **1. Introduction to TensorFlow**\n",
        "\n",
        "* TensorFlow is an **open-source machine learning framework** developed by **Google**.\n",
        "* Initially created by the **Google Brain Team** for large-scale numerical computation.\n",
        "* Built for **high-performance numerical operations** and scalable ML model development.\n",
        "* Widely used in academic research, industry, and production environments.\n",
        "\n",
        "---\n",
        "\n",
        "## **2. Key Features of TensorFlow**\n",
        "\n",
        "### **A. Flexibility**\n",
        "\n",
        "* Modular architecture supports both **high-level APIs** (like Keras) and **low-level operations**.\n",
        "* Enables **custom model building**, layer creation, and fine-grained control.\n",
        "* Supports dynamic computation graphs (with `tf.function` and AutoGraph).\n",
        "\n",
        "### **B. Scalability**\n",
        "\n",
        "* Efficiently scales across:\n",
        "\n",
        "  * **CPUs**\n",
        "  * **GPUs**\n",
        "  * **TPUs**\n",
        "* Can run on **single devices** or **distributed clusters**.\n",
        "* Suited for both small and **large-scale ML tasks**.\n",
        "\n",
        "### **C. Versatile Applications**\n",
        "\n",
        "TensorFlow is used in a wide range of domains:\n",
        "\n",
        "* **Computer Vision** (e.g., CNNs for image classification)\n",
        "* **Natural Language Processing (NLP)** (e.g., transformers, RNNs)\n",
        "* **Speech Recognition**\n",
        "* **Recommendation Systems**\n",
        "* **Time Series Forecasting**\n",
        "* Robotics and autonomous systems\n",
        "\n",
        "### **D. Ecosystem & Community**\n",
        "\n",
        "* Strong ecosystem including:\n",
        "\n",
        "  * **TensorBoard** (visualization & debugging)\n",
        "  * **TensorFlow Lite** (mobile/edge deployment)\n",
        "  * **TensorFlow\\.js** (in-browser ML)\n",
        "  * **TensorFlow Extended (TFX)** (production pipelines)\n",
        "* Active global community: open-source contributors, researchers, developers.\n",
        "* Rich set of **pre-trained models**, libraries, and tutorials.\n",
        "\n",
        "### **E. Integration**\n",
        "\n",
        "* Works seamlessly with other popular Python libraries like:\n",
        "\n",
        "  * **NumPy**\n",
        "  * **Pandas**\n",
        "  * **Scikit-learn**\n",
        "* Smooth integration enables **efficient ML workflows** and data preprocessing.\n",
        "\n",
        "### **F. Deployment Options**\n",
        "\n",
        "* Models can be deployed to:\n",
        "\n",
        "  * **Desktop & cloud servers**\n",
        "  * **Mobile devices** (via TensorFlow Lite)\n",
        "  * **Edge devices**\n",
        "  * **TPUs for ultra-fast computation**\n",
        "\n",
        "---\n",
        "\n",
        "## **3. Tools and Utilities**\n",
        "\n",
        "### **TensorBoard**\n",
        "\n",
        "* A suite of visualization tools for:\n",
        "\n",
        "  * Monitoring training performance\n",
        "  * Viewing computation graphs\n",
        "  * Analyzing model metrics (loss, accuracy, etc.)\n",
        "\n",
        "### **Model Optimization & Conversion**\n",
        "\n",
        "* Supports model pruning, quantization for smaller and faster models.\n",
        "* Convert models for TensorFlow Lite or TensorFlow\\.js easily.\n",
        "\n",
        "---\n",
        "\n",
        "## **4. Benefits of Using TensorFlow**\n",
        "\n",
        "* **Production-ready**: Suitable for prototyping and deploying models in production.\n",
        "* **Cross-platform support**: Run models on web, cloud, mobile, or embedded devices.\n",
        "* **Continuous development**: Backed by Google with regular updates and improvements.\n",
        "* **Interoperability**: Compatible with other ML tools and platforms.\n",
        "\n",
        "---\n",
        "\n",
        "## **5. Summary for Interviews**\n",
        "\n",
        "| Topic              | Key Points                                              |\n",
        "| ------------------ | ------------------------------------------------------- |\n",
        "| Developed by       | Google Brain Team                                       |\n",
        "| Open Source        | Yes                                                     |\n",
        "| Key Strengths      | Flexibility, Scalability, Deployment, Community Support |\n",
        "| APIs               | High-level (Keras), Low-level (TensorFlow Core)         |\n",
        "| Deployment Targets | CPU, GPU, TPU, Mobile (Lite), Web (JS), Edge            |\n",
        "| Applications       | CV, NLP, Speech, Recommendations, Scientific Computing  |\n",
        "| Tools              | TensorBoard, TFX, TensorFlow Lite, TensorFlow Serving   |\n",
        "| Integrations       | NumPy, Pandas, Scikit-learn                             |\n",
        "| Visualization      | TensorBoard                                             |\n",
        "\n",
        "---\n",
        "\n",
        "\n"
      ],
      "metadata": {
        "id": "g7jAFEkmSyln"
      }
    },
    {
      "cell_type": "markdown",
      "source": [
        "\n",
        "---\n",
        "\n",
        "# **TensorFlow vs PyTorch: A Detailed Comparison**\n",
        "\n",
        "| Feature                           | **TensorFlow**                                                                                 | **PyTorch**                                                          |\n",
        "| --------------------------------- | ---------------------------------------------------------------------------------------------- | -------------------------------------------------------------------- |\n",
        "| **Developed By**                  | Google Brain Team                                                                              | Facebook's AI Research Lab (FAIR)                                    |\n",
        "| **Initial Release**               | 2015                                                                                           | 2016                                                                 |\n",
        "| **Language Support**              | Python, C++, Java, JavaScript, Go, Swift, etc.                                                 | Primarily Python (with C++ backend)                                  |\n",
        "| **Ease of Use**                   | Initially complex, improved with Keras integration                                             | Simple and more \"Pythonic\", intuitive for beginners                  |\n",
        "| **Computation Graphs**            | Static Graph (Graph defined before execution); <br>Supports **eager execution** (since TF 2.x) | **Dynamic Graph** (defined at runtime — more flexible)               |\n",
        "| **Debugging**                     | Harder to debug (static graph); TensorBoard helps                                              | Easier to debug using standard Python tools (e.g., `pdb`)            |\n",
        "| **High-Level APIs**               | `tf.keras` (official high-level API)                                                           | `torch.nn`, `torchvision`, `torchaudio`                              |\n",
        "| **Deployment Support**            | TensorFlow Lite, TensorFlow\\.js, TensorFlow Serving                                            | TorchServe (less mature), ONNX for interoperability                  |\n",
        "| **Visualization**                 | **TensorBoard** (rich visualization support)                                                   | Basic TensorBoard support, 3rd-party tools like **Weights & Biases** |\n",
        "| **Mobile/Edge Support**           | **TensorFlow Lite**, TensorFlow\\.js                                                            | TorchScript, PyTorch Mobile (less mature)                            |\n",
        "| **Community & Ecosystem**         | Larger, older ecosystem, more tutorials and tools                                              | Rapidly growing, strong academic adoption                            |\n",
        "| **Performance Optimization**      | TF-Serving, TFLite, XLA, TensorRT                                                              | TorchScript, JIT, ONNX                                               |\n",
        "| **Model Export/Interoperability** | TF → SavedModel, TFLite, ONNX                                                                  | PyTorch → TorchScript, ONNX                                          |\n",
        "| **Industry Adoption**             | Widely used in production at Google, Airbnb, Uber, etc.                                        | Popular in research (NLP, CV), used by FAIR, Tesla, Microsoft        |\n",
        "| **AutoML Support**                | **AutoKeras**, **TensorFlow AutoML**, TFX                                                      | Limited native support (some via third-party tools)                  |\n",
        "\n",
        "---\n",
        "\n",
        "## ✅ **When to Use TensorFlow**\n",
        "\n",
        "* **Production environments**\n",
        "* Need for cross-platform deployment (cloud, mobile, web)\n",
        "* Require strong **tooling** (e.g., TensorBoard, TFX)\n",
        "* Working with **Google Cloud / TPUs**\n",
        "* Using pre-built models from **TensorFlow Hub**\n",
        "\n",
        "## ✅ **When to Use PyTorch**\n",
        "\n",
        "* Research and rapid prototyping\n",
        "* Dynamic, flexible model building\n",
        "* Native Python control and simplicity\n",
        "* Strong support for **NLP** (e.g., Hugging Face Transformers)\n",
        "* When you prefer **clearer, readable code**\n",
        "\n",
        "---\n",
        "\n",
        "## 🔚 **Summary Table**\n",
        "\n",
        "| Criteria          | TensorFlow                     | PyTorch                                     |\n",
        "| ----------------- | ------------------------------ | ------------------------------------------- |\n",
        "| Best For          | **Production, Deployment**     | **Research, Rapid Prototyping**             |\n",
        "| Graph Type        | Static + Eager (TF 2.x)        | Dynamic (Imperative)                        |\n",
        "| Learning Curve    | Moderate (easy with Keras)     | Easier, more intuitive                      |\n",
        "| Deployment        | Excellent (TFLite, TFX, TF.js) | Improving (TorchScript, ONNX)               |\n",
        "| Visualization     | Excellent (TensorBoard)        | Good (basic TensorBoard, third-party tools) |\n",
        "| Debugging         | Harder (static graphs)         | Easier (Python-native)                      |\n",
        "| Community Support | Older, broader ecosystem       | Growing, very strong in academia            |\n",
        "\n",
        "---\n",
        "\n"
      ],
      "metadata": {
        "id": "UltTGChoTgEW"
      }
    },
    {
      "cell_type": "code",
      "source": [
        "import tensorflow as tf\n",
        "\n",
        "print(\"TensorFlow version: {}\".format(tf.__version__))\n",
        "print(\"Eager execution is: {}\".format(tf.executing_eagerly()))\n",
        "print(\"Keras version: {}\".format(tf.keras.__version__))"
      ],
      "metadata": {
        "colab": {
          "base_uri": "https://localhost:8080/"
        },
        "id": "hMmr2TTzsZYC",
        "outputId": "f940894f-e141-4932-df75-f45c0877f29b"
      },
      "execution_count": 134,
      "outputs": [
        {
          "output_type": "stream",
          "name": "stdout",
          "text": [
            "TensorFlow version: 2.18.0\n",
            "Eager execution is: True\n",
            "Keras version: 3.8.0\n"
          ]
        }
      ]
    },
    {
      "cell_type": "code",
      "source": [
        "if tf.test.is_gpu_available():\n",
        "    print('Running on GPU')\n",
        "else:\n",
        "    print('Running on CPU')"
      ],
      "metadata": {
        "colab": {
          "base_uri": "https://localhost:8080/"
        },
        "id": "_xj-D2ZssvXI",
        "outputId": "7a45c263-c6be-4d9d-f811-aa6826c7a7ed"
      },
      "execution_count": 135,
      "outputs": [
        {
          "output_type": "stream",
          "name": "stdout",
          "text": [
            "Running on CPU\n"
          ]
        }
      ]
    },
    {
      "cell_type": "code",
      "source": [
        "tf.config.list_physical_devices('CPU')"
      ],
      "metadata": {
        "colab": {
          "base_uri": "https://localhost:8080/"
        },
        "id": "Gq8ATSRHtBeT",
        "outputId": "25f57113-d656-47d1-e2f1-e6d5ee4ad46e"
      },
      "execution_count": 136,
      "outputs": [
        {
          "output_type": "execute_result",
          "data": {
            "text/plain": [
              "[PhysicalDevice(name='/physical_device:CPU:0', device_type='CPU')]"
            ]
          },
          "metadata": {},
          "execution_count": 136
        }
      ]
    },
    {
      "cell_type": "code",
      "source": [
        "a=tf.constant(10)\n",
        "a"
      ],
      "metadata": {
        "colab": {
          "base_uri": "https://localhost:8080/"
        },
        "id": "g3nKZxwCtIUs",
        "outputId": "e5d15ec9-5efe-49b4-a30e-0141f20c5f34"
      },
      "execution_count": 137,
      "outputs": [
        {
          "output_type": "execute_result",
          "data": {
            "text/plain": [
              "<tf.Tensor: shape=(), dtype=int32, numpy=10>"
            ]
          },
          "metadata": {},
          "execution_count": 137
        }
      ]
    },
    {
      "cell_type": "code",
      "source": [
        "a.numpy()"
      ],
      "metadata": {
        "colab": {
          "base_uri": "https://localhost:8080/"
        },
        "id": "_H-B4aC6tQus",
        "outputId": "cc8a9f23-ed2d-4447-ea64-adbb977b7415"
      },
      "execution_count": 138,
      "outputs": [
        {
          "output_type": "execute_result",
          "data": {
            "text/plain": [
              "np.int32(10)"
            ]
          },
          "metadata": {},
          "execution_count": 138
        }
      ]
    },
    {
      "cell_type": "code",
      "source": [
        "b=tf.constant(20,dtype=tf.int64)\n",
        "b"
      ],
      "metadata": {
        "colab": {
          "base_uri": "https://localhost:8080/"
        },
        "id": "tpAoZ51WtX8n",
        "outputId": "c09183b2-4cdc-430a-df37-e09839cc41c4"
      },
      "execution_count": 139,
      "outputs": [
        {
          "output_type": "execute_result",
          "data": {
            "text/plain": [
              "<tf.Tensor: shape=(), dtype=int64, numpy=20>"
            ]
          },
          "metadata": {},
          "execution_count": 139
        }
      ]
    },
    {
      "cell_type": "code",
      "source": [
        "c=tf.constant(10.5)\n",
        "c"
      ],
      "metadata": {
        "colab": {
          "base_uri": "https://localhost:8080/"
        },
        "id": "2wI9h7ACt0aC",
        "outputId": "6d33fed3-a1ee-49ee-ee05-8f0d4ff2de32"
      },
      "execution_count": 140,
      "outputs": [
        {
          "output_type": "execute_result",
          "data": {
            "text/plain": [
              "<tf.Tensor: shape=(), dtype=float32, numpy=10.5>"
            ]
          },
          "metadata": {},
          "execution_count": 140
        }
      ]
    },
    {
      "cell_type": "code",
      "source": [
        "d=tf.constant(True)\n",
        "d"
      ],
      "metadata": {
        "colab": {
          "base_uri": "https://localhost:8080/"
        },
        "id": "jFbjTkpXt3Vw",
        "outputId": "d249e53b-2ed7-4704-d8f6-4f2c2133fef7"
      },
      "execution_count": 141,
      "outputs": [
        {
          "output_type": "execute_result",
          "data": {
            "text/plain": [
              "<tf.Tensor: shape=(), dtype=bool, numpy=True>"
            ]
          },
          "metadata": {},
          "execution_count": 141
        }
      ]
    },
    {
      "cell_type": "code",
      "source": [
        "e=tf.constant([1,2,3,4,5])\n",
        "e"
      ],
      "metadata": {
        "colab": {
          "base_uri": "https://localhost:8080/"
        },
        "id": "r1DeFhUEt6o-",
        "outputId": "1f217129-63a0-49e2-c73f-69954f1dcab1"
      },
      "execution_count": 142,
      "outputs": [
        {
          "output_type": "execute_result",
          "data": {
            "text/plain": [
              "<tf.Tensor: shape=(5,), dtype=int32, numpy=array([1, 2, 3, 4, 5], dtype=int32)>"
            ]
          },
          "metadata": {},
          "execution_count": 142
        }
      ]
    },
    {
      "cell_type": "code",
      "source": [
        "f=tf.constant([[1,2,3],[4,5,6]])\n",
        "f"
      ],
      "metadata": {
        "colab": {
          "base_uri": "https://localhost:8080/"
        },
        "id": "wCmeXr4Ct9pW",
        "outputId": "f16ff90a-93ea-45ca-b237-7e6521d4d2df"
      },
      "execution_count": 143,
      "outputs": [
        {
          "output_type": "execute_result",
          "data": {
            "text/plain": [
              "<tf.Tensor: shape=(2, 3), dtype=int32, numpy=\n",
              "array([[1, 2, 3],\n",
              "       [4, 5, 6]], dtype=int32)>"
            ]
          },
          "metadata": {},
          "execution_count": 143
        }
      ]
    },
    {
      "cell_type": "code",
      "source": [
        "g=tf.constant([[[1,2,3],[4,5,6]],[[7,8,9],[10,11,12]]])\n",
        "g"
      ],
      "metadata": {
        "colab": {
          "base_uri": "https://localhost:8080/"
        },
        "id": "naqLzTN-u60w",
        "outputId": "de86e49e-b018-4bec-8d5d-ffc8566d1a91"
      },
      "execution_count": 144,
      "outputs": [
        {
          "output_type": "execute_result",
          "data": {
            "text/plain": [
              "<tf.Tensor: shape=(2, 2, 3), dtype=int32, numpy=\n",
              "array([[[ 1,  2,  3],\n",
              "        [ 4,  5,  6]],\n",
              "\n",
              "       [[ 7,  8,  9],\n",
              "        [10, 11, 12]]], dtype=int32)>"
            ]
          },
          "metadata": {},
          "execution_count": 144
        }
      ]
    },
    {
      "cell_type": "code",
      "source": [
        "g.numpy()"
      ],
      "metadata": {
        "colab": {
          "base_uri": "https://localhost:8080/"
        },
        "id": "FuHSdnDUvkYt",
        "outputId": "8a91a865-56e4-4e16-c458-76d5307ef6b7"
      },
      "execution_count": 145,
      "outputs": [
        {
          "output_type": "execute_result",
          "data": {
            "text/plain": [
              "array([[[ 1,  2,  3],\n",
              "        [ 4,  5,  6]],\n",
              "\n",
              "       [[ 7,  8,  9],\n",
              "        [10, 11, 12]]], dtype=int32)"
            ]
          },
          "metadata": {},
          "execution_count": 145
        }
      ]
    },
    {
      "cell_type": "code",
      "source": [
        "g.shape"
      ],
      "metadata": {
        "colab": {
          "base_uri": "https://localhost:8080/"
        },
        "id": "LifdWwwgvrPP",
        "outputId": "69328003-2b11-4abb-b9ba-e98c06d32c70"
      },
      "execution_count": 146,
      "outputs": [
        {
          "output_type": "execute_result",
          "data": {
            "text/plain": [
              "TensorShape([2, 2, 3])"
            ]
          },
          "metadata": {},
          "execution_count": 146
        }
      ]
    },
    {
      "cell_type": "code",
      "source": [
        "g.dtype"
      ],
      "metadata": {
        "colab": {
          "base_uri": "https://localhost:8080/"
        },
        "id": "cklqqkywv1bs",
        "outputId": "a65cde4a-7a83-4c9a-f02f-813aeb71bc37"
      },
      "execution_count": 147,
      "outputs": [
        {
          "output_type": "execute_result",
          "data": {
            "text/plain": [
              "tf.int32"
            ]
          },
          "metadata": {},
          "execution_count": 147
        }
      ]
    },
    {
      "cell_type": "code",
      "source": [
        "tf.ones(shape=(3,3))"
      ],
      "metadata": {
        "colab": {
          "base_uri": "https://localhost:8080/"
        },
        "id": "rkYqkmpOwGaQ",
        "outputId": "0943f219-37f6-4be0-febb-d7adb63e1ac0"
      },
      "execution_count": 148,
      "outputs": [
        {
          "output_type": "execute_result",
          "data": {
            "text/plain": [
              "<tf.Tensor: shape=(3, 3), dtype=float32, numpy=\n",
              "array([[1., 1., 1.],\n",
              "       [1., 1., 1.],\n",
              "       [1., 1., 1.]], dtype=float32)>"
            ]
          },
          "metadata": {},
          "execution_count": 148
        }
      ]
    },
    {
      "cell_type": "code",
      "source": [
        "tf.zeros(shape=(3,3))"
      ],
      "metadata": {
        "colab": {
          "base_uri": "https://localhost:8080/"
        },
        "id": "0HW3EvC6wVzg",
        "outputId": "30492017-4185-414a-a45a-157f267d7ce9"
      },
      "execution_count": 149,
      "outputs": [
        {
          "output_type": "execute_result",
          "data": {
            "text/plain": [
              "<tf.Tensor: shape=(3, 3), dtype=float32, numpy=\n",
              "array([[0., 0., 0.],\n",
              "       [0., 0., 0.],\n",
              "       [0., 0., 0.]], dtype=float32)>"
            ]
          },
          "metadata": {},
          "execution_count": 149
        }
      ]
    },
    {
      "cell_type": "code",
      "source": [
        "h=tf.constant([[1,2,3],[4,5,6]])\n",
        "i=tf.constant([[7,8,9],[10,11,12]])\n",
        "k=h+i\n",
        "k"
      ],
      "metadata": {
        "colab": {
          "base_uri": "https://localhost:8080/"
        },
        "id": "QGlla6dqwZfJ",
        "outputId": "746e20bc-c108-4801-e43f-2aa67d57a0ff"
      },
      "execution_count": 150,
      "outputs": [
        {
          "output_type": "execute_result",
          "data": {
            "text/plain": [
              "<tf.Tensor: shape=(2, 3), dtype=int32, numpy=\n",
              "array([[ 8, 10, 12],\n",
              "       [14, 16, 18]], dtype=int32)>"
            ]
          },
          "metadata": {},
          "execution_count": 150
        }
      ]
    },
    {
      "cell_type": "code",
      "source": [
        "j=tf.add(h,i)\n",
        "j"
      ],
      "metadata": {
        "colab": {
          "base_uri": "https://localhost:8080/"
        },
        "id": "haZYxVEIwwoK",
        "outputId": "539c7069-9603-4a24-b969-c8a40bbc3672"
      },
      "execution_count": 151,
      "outputs": [
        {
          "output_type": "execute_result",
          "data": {
            "text/plain": [
              "<tf.Tensor: shape=(2, 3), dtype=int32, numpy=\n",
              "array([[ 8, 10, 12],\n",
              "       [14, 16, 18]], dtype=int32)>"
            ]
          },
          "metadata": {},
          "execution_count": 151
        }
      ]
    },
    {
      "cell_type": "code",
      "source": [
        "l=tf.constant([1,2,3,4,5])\n",
        "m=tf.constant([6,7,8,9,10])\n",
        "n=l*m\n",
        "n"
      ],
      "metadata": {
        "colab": {
          "base_uri": "https://localhost:8080/"
        },
        "id": "bHAiGAhbw8jH",
        "outputId": "cbb029bc-6660-4ee8-d2e4-5bd3f74ba709"
      },
      "execution_count": 152,
      "outputs": [
        {
          "output_type": "execute_result",
          "data": {
            "text/plain": [
              "<tf.Tensor: shape=(5,), dtype=int32, numpy=array([ 6, 14, 24, 36, 50], dtype=int32)>"
            ]
          },
          "metadata": {},
          "execution_count": 152
        }
      ]
    },
    {
      "cell_type": "code",
      "source": [
        "o=tf.multiply(l,m)\n",
        "o"
      ],
      "metadata": {
        "colab": {
          "base_uri": "https://localhost:8080/"
        },
        "id": "tbj3qqPPxRey",
        "outputId": "0cf710d0-f7b6-4d0e-9e16-aa3713da2068"
      },
      "execution_count": 153,
      "outputs": [
        {
          "output_type": "execute_result",
          "data": {
            "text/plain": [
              "<tf.Tensor: shape=(5,), dtype=int32, numpy=array([ 6, 14, 24, 36, 50], dtype=int32)>"
            ]
          },
          "metadata": {},
          "execution_count": 153
        }
      ]
    },
    {
      "cell_type": "code",
      "source": [
        "p=tf.constant([1,2,3,4,5])\n",
        "q=tf.constant([6,7,8,9,10])\n",
        "r=p-q\n",
        "r"
      ],
      "metadata": {
        "colab": {
          "base_uri": "https://localhost:8080/"
        },
        "id": "Ggf3_6NVxV4L",
        "outputId": "219fff74-6e4d-4885-9458-345df08caf83"
      },
      "execution_count": 154,
      "outputs": [
        {
          "output_type": "execute_result",
          "data": {
            "text/plain": [
              "<tf.Tensor: shape=(5,), dtype=int32, numpy=array([-5, -5, -5, -5, -5], dtype=int32)>"
            ]
          },
          "metadata": {},
          "execution_count": 154
        }
      ]
    },
    {
      "cell_type": "code",
      "source": [
        "s=tf.subtract(p,q)\n",
        "s"
      ],
      "metadata": {
        "colab": {
          "base_uri": "https://localhost:8080/"
        },
        "id": "JH4WgBKmxcZC",
        "outputId": "b5419a16-6b97-423b-ed43-67aef97fe89c"
      },
      "execution_count": 155,
      "outputs": [
        {
          "output_type": "execute_result",
          "data": {
            "text/plain": [
              "<tf.Tensor: shape=(5,), dtype=int32, numpy=array([-5, -5, -5, -5, -5], dtype=int32)>"
            ]
          },
          "metadata": {},
          "execution_count": 155
        }
      ]
    },
    {
      "cell_type": "code",
      "source": [
        "tf.random.uniform(shape=(3,3))"
      ],
      "metadata": {
        "colab": {
          "base_uri": "https://localhost:8080/"
        },
        "id": "YREQqKMsxjf9",
        "outputId": "399f4f20-6c6c-4049-e5b6-b196db04bea3"
      },
      "execution_count": 156,
      "outputs": [
        {
          "output_type": "execute_result",
          "data": {
            "text/plain": [
              "<tf.Tensor: shape=(3, 3), dtype=float32, numpy=\n",
              "array([[0.95199645, 0.333354  , 0.11390233],\n",
              "       [0.37526596, 0.93960536, 0.9886317 ],\n",
              "       [0.04141045, 0.26525903, 0.17588627]], dtype=float32)>"
            ]
          },
          "metadata": {},
          "execution_count": 156
        }
      ]
    },
    {
      "cell_type": "code",
      "source": [
        "tf.random.uniform(shape=(3,3),minval=10,maxval=20)"
      ],
      "metadata": {
        "colab": {
          "base_uri": "https://localhost:8080/"
        },
        "id": "4rKF1uLfxx2p",
        "outputId": "a7611a26-ac59-4fd4-cb51-be51b1a8451a"
      },
      "execution_count": 157,
      "outputs": [
        {
          "output_type": "execute_result",
          "data": {
            "text/plain": [
              "<tf.Tensor: shape=(3, 3), dtype=float32, numpy=\n",
              "array([[15.183206 , 14.682508 , 17.889797 ],\n",
              "       [12.782326 , 14.226822 , 17.502586 ],\n",
              "       [19.003052 , 11.713728 , 13.1134405]], dtype=float32)>"
            ]
          },
          "metadata": {},
          "execution_count": 157
        }
      ]
    },
    {
      "cell_type": "markdown",
      "source": [
        "standard normal distribution"
      ],
      "metadata": {
        "id": "aOjbfrK9y22x"
      }
    },
    {
      "cell_type": "code",
      "source": [
        "tf.random.normal(shape=(3,3),mean=0,stddev=1)"
      ],
      "metadata": {
        "colab": {
          "base_uri": "https://localhost:8080/"
        },
        "id": "axcbdMlJx8Oe",
        "outputId": "0e06bf5f-4a3b-4d1b-adb2-8cdf0e8e2d93"
      },
      "execution_count": 158,
      "outputs": [
        {
          "output_type": "execute_result",
          "data": {
            "text/plain": [
              "<tf.Tensor: shape=(3, 3), dtype=float32, numpy=\n",
              "array([[ 0.7490088 ,  0.72534466, -0.9873869 ],\n",
              "       [ 0.47794145, -0.97704947, -0.08037011],\n",
              "       [-0.0453853 ,  0.8354204 , -1.1092433 ]], dtype=float32)>"
            ]
          },
          "metadata": {},
          "execution_count": 158
        }
      ]
    },
    {
      "cell_type": "code",
      "source": [
        "var0=24\n",
        "var0"
      ],
      "metadata": {
        "colab": {
          "base_uri": "https://localhost:8080/"
        },
        "id": "ukQ-cptgyNpo",
        "outputId": "80d09259-5e3e-4d1a-c724-4453ccc34242"
      },
      "execution_count": 159,
      "outputs": [
        {
          "output_type": "execute_result",
          "data": {
            "text/plain": [
              "24"
            ]
          },
          "metadata": {},
          "execution_count": 159
        }
      ]
    },
    {
      "cell_type": "code",
      "source": [
        "var1=tf.Variable(24)\n",
        "var1"
      ],
      "metadata": {
        "colab": {
          "base_uri": "https://localhost:8080/"
        },
        "id": "c357ptadzVaf",
        "outputId": "d21fc195-6b65-4e74-8e39-d79d20bf6d29"
      },
      "execution_count": 160,
      "outputs": [
        {
          "output_type": "execute_result",
          "data": {
            "text/plain": [
              "<tf.Variable 'Variable:0' shape=() dtype=int32, numpy=24>"
            ]
          },
          "metadata": {},
          "execution_count": 160
        }
      ]
    },
    {
      "cell_type": "code",
      "source": [
        "var2=tf.Variable([[[1,2,3],[4,5,6]],[[7,8,9],[10,11,12]]])\n",
        "var2"
      ],
      "metadata": {
        "colab": {
          "base_uri": "https://localhost:8080/"
        },
        "id": "ynPmLHTwzjKM",
        "outputId": "d877506b-86b3-472d-c05b-9b86e6ca53f3"
      },
      "execution_count": 161,
      "outputs": [
        {
          "output_type": "execute_result",
          "data": {
            "text/plain": [
              "<tf.Variable 'Variable:0' shape=(2, 2, 3) dtype=int32, numpy=\n",
              "array([[[ 1,  2,  3],\n",
              "        [ 4,  5,  6]],\n",
              "\n",
              "       [[ 7,  8,  9],\n",
              "        [10, 11, 12]]], dtype=int32)>"
            ]
          },
          "metadata": {},
          "execution_count": 161
        }
      ]
    },
    {
      "source": [
        "# var3=tf.Variable([1,2,3,4,5,6,7,8,9,10,11,12],shape=(3,2,2))\n",
        "# var3"
      ],
      "cell_type": "code",
      "metadata": {
        "id": "RP4UH-Cp0F4p"
      },
      "execution_count": 162,
      "outputs": []
    },
    {
      "cell_type": "code",
      "source": [
        "var3=tf.constant([1,2,3,4,5,6,7,8,9,10,11,12],shape=(3,2,2))\n",
        "var3"
      ],
      "metadata": {
        "colab": {
          "base_uri": "https://localhost:8080/"
        },
        "id": "dsB9-vMc1DLA",
        "outputId": "bec0dc29-dae4-44cd-b552-b850351e8fd9"
      },
      "execution_count": 163,
      "outputs": [
        {
          "output_type": "execute_result",
          "data": {
            "text/plain": [
              "<tf.Tensor: shape=(3, 2, 2), dtype=int32, numpy=\n",
              "array([[[ 1,  2],\n",
              "        [ 3,  4]],\n",
              "\n",
              "       [[ 5,  6],\n",
              "        [ 7,  8]],\n",
              "\n",
              "       [[ 9, 10],\n",
              "        [11, 12]]], dtype=int32)>"
            ]
          },
          "metadata": {},
          "execution_count": 163
        }
      ]
    },
    {
      "cell_type": "code",
      "source": [
        "var4=tf.Variable([[[1,2,3],[4,5,6]],[[7,8,9],[10,11,12]]],dtype=tf.float16)\n",
        "var4"
      ],
      "metadata": {
        "colab": {
          "base_uri": "https://localhost:8080/"
        },
        "id": "Is7rxsvt1PCe",
        "outputId": "f7c9a4eb-3ea3-49ca-ba2e-da9498eedd91"
      },
      "execution_count": 164,
      "outputs": [
        {
          "output_type": "execute_result",
          "data": {
            "text/plain": [
              "<tf.Variable 'Variable:0' shape=(2, 2, 3) dtype=float16, numpy=\n",
              "array([[[ 1.,  2.,  3.],\n",
              "        [ 4.,  5.,  6.]],\n",
              "\n",
              "       [[ 7.,  8.,  9.],\n",
              "        [10., 11., 12.]]], dtype=float16)>"
            ]
          },
          "metadata": {},
          "execution_count": 164
        }
      ]
    },
    {
      "cell_type": "markdown",
      "source": [
        "\n",
        "### 🧠 **TensorFlow Built-in Data Types**\n",
        "\n",
        "TensorFlow provides a wide variety of built-in data types for flexibility and performance across different machine learning and deep learning tasks.\n",
        "\n",
        "| **Data Type**   | **Description**                        |\n",
        "| --------------- | -------------------------------------- |\n",
        "| `tf.float16`    | 16-bit half-precision floating-point   |\n",
        "| `tf.float32`    | 32-bit single-precision floating-point |\n",
        "| `tf.float64`    | 64-bit double-precision floating-point |\n",
        "| `tf.bfloat16`   | 16-bit truncated floating-point        |\n",
        "| `tf.complex64`  | 64-bit single-precision complex        |\n",
        "| `tf.complex128` | 128-bit double-precision complex       |\n",
        "| `tf.int8`       | 8-bit signed integer                   |\n",
        "| `tf.uint8`      | 8-bit unsigned integer                 |\n",
        "| `tf.uint16`     | 16-bit unsigned integer                |\n",
        "| `tf.uint32`     | 32-bit unsigned integer                |\n",
        "| `tf.uint64`     | 64-bit unsigned integer                |\n",
        "| `tf.int16`      | 16-bit signed integer                  |\n",
        "| `tf.int32`      | 32-bit signed integer                  |\n",
        "| `tf.int64`      | 64-bit signed integer                  |\n",
        "| `tf.bool`       | Boolean                                |\n",
        "| `tf.string`     | String                                 |\n",
        "| `tf.qint8`      | Quantized 8-bit signed integer         |\n",
        "| `tf.quint8`     | Quantized 8-bit unsigned integer       |\n",
        "| `tf.qint16`     | Quantized 16-bit signed integer        |\n",
        "| `tf.quint16`    | Quantized 16-bit unsigned integer      |\n",
        "| `tf.qint32`     | Quantized 32-bit signed integer        |\n",
        "| `tf.resource`   | Handle to a mutable resource           |\n",
        "| `tf.variant`    | Values of arbitrary types              |\n",
        "\n",
        "---\n",
        "\n",
        "\n",
        "---\n",
        "\n",
        "### ✅ **Default Data Types in TensorFlow**\n",
        "\n",
        "| **Type**       | **Default Data Type** |\n",
        "| -------------- | --------------------- |\n",
        "| Integer        | `tf.int32`            |\n",
        "| Floating-Point | `tf.float32`          |\n",
        "\n",
        "These defaults are chosen for a balance between performance and precision.\n",
        "\n",
        "---\n",
        "\n"
      ],
      "metadata": {
        "id": "quewO-mA2C8J"
      }
    },
    {
      "cell_type": "code",
      "source": [
        "var_reassign=tf.Variable(10.)\n",
        "var_reassign"
      ],
      "metadata": {
        "colab": {
          "base_uri": "https://localhost:8080/"
        },
        "id": "qPAYRLg91hcA",
        "outputId": "307c4710-ef90-4d5a-cbc7-84b369e9cc5d"
      },
      "execution_count": 165,
      "outputs": [
        {
          "output_type": "execute_result",
          "data": {
            "text/plain": [
              "<tf.Variable 'Variable:0' shape=() dtype=float32, numpy=10.0>"
            ]
          },
          "metadata": {},
          "execution_count": 165
        }
      ]
    },
    {
      "cell_type": "code",
      "source": [
        "var_reassign.assign(20)\n",
        "var_reassign"
      ],
      "metadata": {
        "colab": {
          "base_uri": "https://localhost:8080/"
        },
        "id": "3U513vtz2kvg",
        "outputId": "db147665-47a4-4d81-af4f-a1d97cad812e"
      },
      "execution_count": 166,
      "outputs": [
        {
          "output_type": "execute_result",
          "data": {
            "text/plain": [
              "<tf.Variable 'Variable:0' shape=() dtype=float32, numpy=20.0>"
            ]
          },
          "metadata": {},
          "execution_count": 166
        }
      ]
    },
    {
      "cell_type": "code",
      "source": [
        "initial_value = tf.random.normal(shape=(2,2))\n",
        "a = tf.Variable(initial_value)\n",
        "print(a)"
      ],
      "metadata": {
        "colab": {
          "base_uri": "https://localhost:8080/"
        },
        "id": "mmFCjzHm2qTQ",
        "outputId": "919e8eb6-09c3-4932-9ed7-941c0ab3d0d5"
      },
      "execution_count": 167,
      "outputs": [
        {
          "output_type": "stream",
          "name": "stdout",
          "text": [
            "<tf.Variable 'Variable:0' shape=(2, 2) dtype=float32, numpy=\n",
            "array([[ 1.55071  , -1.1586068],\n",
            "       [-0.5813214,  1.1665632]], dtype=float32)>\n"
          ]
        }
      ]
    },
    {
      "cell_type": "code",
      "source": [
        "new_value = tf.random.normal(shape=(2, 2))\n",
        "a.assign(new_value)\n",
        "a"
      ],
      "metadata": {
        "colab": {
          "base_uri": "https://localhost:8080/"
        },
        "id": "4BtN0_Iw3n9q",
        "outputId": "c6d5528a-c1a4-445e-a453-2ab53571a749"
      },
      "execution_count": 168,
      "outputs": [
        {
          "output_type": "execute_result",
          "data": {
            "text/plain": [
              "<tf.Variable 'Variable:0' shape=(2, 2) dtype=float32, numpy=\n",
              "array([[ 0.73980004, -0.5583925 ],\n",
              "       [ 0.28412685, -1.8302507 ]], dtype=float32)>"
            ]
          },
          "metadata": {},
          "execution_count": 168
        }
      ]
    },
    {
      "cell_type": "code",
      "source": [
        "new_value = tf.random.normal(shape=(2, 2))\n",
        "a.assign(new_value)\n",
        "for i in range(2):\n",
        "    for j in range(2):\n",
        "        assert a[i, j] == new_value[i, j]"
      ],
      "metadata": {
        "id": "SBghkEN43AXR"
      },
      "execution_count": 169,
      "outputs": []
    },
    {
      "cell_type": "code",
      "source": [
        "t=tf.Variable([[[1,2,3],[4,5,6]],[[7,8,9],[10,11,12]]])\n",
        "t"
      ],
      "metadata": {
        "colab": {
          "base_uri": "https://localhost:8080/"
        },
        "id": "1f4BUpWV4PXB",
        "outputId": "f797d43f-bd53-4e42-8baf-46fab121de8b"
      },
      "execution_count": 170,
      "outputs": [
        {
          "output_type": "execute_result",
          "data": {
            "text/plain": [
              "<tf.Variable 'Variable:0' shape=(2, 2, 3) dtype=int32, numpy=\n",
              "array([[[ 1,  2,  3],\n",
              "        [ 4,  5,  6]],\n",
              "\n",
              "       [[ 7,  8,  9],\n",
              "        [10, 11, 12]]], dtype=int32)>"
            ]
          },
          "metadata": {},
          "execution_count": 170
        }
      ]
    },
    {
      "cell_type": "code",
      "source": [
        "t.shape"
      ],
      "metadata": {
        "colab": {
          "base_uri": "https://localhost:8080/"
        },
        "id": "GszpCrEy4n8v",
        "outputId": "fdeec995-76d8-4c6d-9f8e-b8fc4c1349de"
      },
      "execution_count": 171,
      "outputs": [
        {
          "output_type": "execute_result",
          "data": {
            "text/plain": [
              "TensorShape([2, 2, 3])"
            ]
          },
          "metadata": {},
          "execution_count": 171
        }
      ]
    },
    {
      "cell_type": "code",
      "source": [
        "# t.reshape(3,4)\n",
        "# t"
      ],
      "metadata": {
        "id": "k1q1S3wa4tKd"
      },
      "execution_count": 172,
      "outputs": []
    },
    {
      "cell_type": "code",
      "source": [
        "p=tf.reshape(t,(3,4))\n",
        "p"
      ],
      "metadata": {
        "colab": {
          "base_uri": "https://localhost:8080/"
        },
        "id": "avXqmLPx47WX",
        "outputId": "2972a31e-66b9-4fba-ba69-752f49cfb512"
      },
      "execution_count": 173,
      "outputs": [
        {
          "output_type": "execute_result",
          "data": {
            "text/plain": [
              "<tf.Tensor: shape=(3, 4), dtype=int32, numpy=\n",
              "array([[ 1,  2,  3,  4],\n",
              "       [ 5,  6,  7,  8],\n",
              "       [ 9, 10, 11, 12]], dtype=int32)>"
            ]
          },
          "metadata": {},
          "execution_count": 173
        }
      ]
    },
    {
      "cell_type": "code",
      "source": [
        "tf.reshape(t,(6,2))"
      ],
      "metadata": {
        "colab": {
          "base_uri": "https://localhost:8080/"
        },
        "id": "KfFsItoF5EVA",
        "outputId": "de6bb6f0-e95d-4587-c95e-606f2974019f"
      },
      "execution_count": 174,
      "outputs": [
        {
          "output_type": "execute_result",
          "data": {
            "text/plain": [
              "<tf.Tensor: shape=(6, 2), dtype=int32, numpy=\n",
              "array([[ 1,  2],\n",
              "       [ 3,  4],\n",
              "       [ 5,  6],\n",
              "       [ 7,  8],\n",
              "       [ 9, 10],\n",
              "       [11, 12]], dtype=int32)>"
            ]
          },
          "metadata": {},
          "execution_count": 174
        }
      ]
    },
    {
      "cell_type": "code",
      "source": [
        "tf.reshape(t,(1,12))"
      ],
      "metadata": {
        "colab": {
          "base_uri": "https://localhost:8080/"
        },
        "id": "OqMETPiD5OLk",
        "outputId": "fd7d784a-4100-4cc2-a1bf-dbb5b51ec41b"
      },
      "execution_count": 175,
      "outputs": [
        {
          "output_type": "execute_result",
          "data": {
            "text/plain": [
              "<tf.Tensor: shape=(1, 12), dtype=int32, numpy=array([[ 1,  2,  3,  4,  5,  6,  7,  8,  9, 10, 11, 12]], dtype=int32)>"
            ]
          },
          "metadata": {},
          "execution_count": 175
        }
      ]
    },
    {
      "cell_type": "code",
      "source": [
        "tf.reshape(t,(12,1))"
      ],
      "metadata": {
        "colab": {
          "base_uri": "https://localhost:8080/"
        },
        "id": "ffG9vKso5QwA",
        "outputId": "4f429e37-87bf-42c1-8242-00c29990cea2"
      },
      "execution_count": 176,
      "outputs": [
        {
          "output_type": "execute_result",
          "data": {
            "text/plain": [
              "<tf.Tensor: shape=(12, 1), dtype=int32, numpy=\n",
              "array([[ 1],\n",
              "       [ 2],\n",
              "       [ 3],\n",
              "       [ 4],\n",
              "       [ 5],\n",
              "       [ 6],\n",
              "       [ 7],\n",
              "       [ 8],\n",
              "       [ 9],\n",
              "       [10],\n",
              "       [11],\n",
              "       [12]], dtype=int32)>"
            ]
          },
          "metadata": {},
          "execution_count": 176
        }
      ]
    },
    {
      "cell_type": "markdown",
      "source": [
        "Ranking (dimensions) of a tensor\n",
        "\n",
        "The rank of a tensor is the number of dimensions it has, that is, the number of indices that are required to specify any particular element of that tensor."
      ],
      "metadata": {
        "id": "sHmSffL95nX9"
      }
    },
    {
      "cell_type": "code",
      "source": [
        "t"
      ],
      "metadata": {
        "colab": {
          "base_uri": "https://localhost:8080/"
        },
        "id": "oJhVmDjM5UPj",
        "outputId": "c907b319-bdbd-49c2-9366-bc94ffcfe23b"
      },
      "execution_count": 177,
      "outputs": [
        {
          "output_type": "execute_result",
          "data": {
            "text/plain": [
              "<tf.Variable 'Variable:0' shape=(2, 2, 3) dtype=int32, numpy=\n",
              "array([[[ 1,  2,  3],\n",
              "        [ 4,  5,  6]],\n",
              "\n",
              "       [[ 7,  8,  9],\n",
              "        [10, 11, 12]]], dtype=int32)>"
            ]
          },
          "metadata": {},
          "execution_count": 177
        }
      ]
    },
    {
      "cell_type": "code",
      "source": [
        "tf.rank(t)"
      ],
      "metadata": {
        "colab": {
          "base_uri": "https://localhost:8080/"
        },
        "id": "cG9El85N51ln",
        "outputId": "892ba16a-85c0-42f0-97bc-4436f51f84be"
      },
      "execution_count": 178,
      "outputs": [
        {
          "output_type": "execute_result",
          "data": {
            "text/plain": [
              "<tf.Tensor: shape=(), dtype=int32, numpy=3>"
            ]
          },
          "metadata": {},
          "execution_count": 178
        }
      ]
    },
    {
      "cell_type": "code",
      "source": [
        "t1=t[1,0,1]\n",
        "t1"
      ],
      "metadata": {
        "colab": {
          "base_uri": "https://localhost:8080/"
        },
        "id": "EeQ__h0H55x3",
        "outputId": "ba6e6339-77a9-4bc5-fbb5-9ba70d73ffb2"
      },
      "execution_count": 179,
      "outputs": [
        {
          "output_type": "execute_result",
          "data": {
            "text/plain": [
              "<tf.Tensor: shape=(), dtype=int32, numpy=8>"
            ]
          },
          "metadata": {},
          "execution_count": 179
        }
      ]
    },
    {
      "cell_type": "code",
      "source": [
        "print(t.numpy)"
      ],
      "metadata": {
        "colab": {
          "base_uri": "https://localhost:8080/"
        },
        "id": "jIN6jsCc6Ksz",
        "outputId": "56732493-1003-4546-c4db-5871acb775be"
      },
      "execution_count": 180,
      "outputs": [
        {
          "output_type": "stream",
          "name": "stdout",
          "text": [
            "<bound method BaseResourceVariable.numpy of <tf.Variable 'Variable:0' shape=(2, 2, 3) dtype=int32, numpy=\n",
            "array([[[ 1,  2,  3],\n",
            "        [ 4,  5,  6]],\n",
            "\n",
            "       [[ 7,  8,  9],\n",
            "        [10, 11, 12]]], dtype=int32)>>\n"
          ]
        }
      ]
    },
    {
      "cell_type": "code",
      "source": [
        "print(t.numpy())"
      ],
      "metadata": {
        "colab": {
          "base_uri": "https://localhost:8080/"
        },
        "id": "paBXAUsF6dWE",
        "outputId": "0ceea48e-1770-408e-81df-32de9c56377d"
      },
      "execution_count": 181,
      "outputs": [
        {
          "output_type": "stream",
          "name": "stdout",
          "text": [
            "[[[ 1  2  3]\n",
            "  [ 4  5  6]]\n",
            "\n",
            " [[ 7  8  9]\n",
            "  [10 11 12]]]\n"
          ]
        }
      ]
    },
    {
      "cell_type": "code",
      "source": [
        "t2=t[1,0,0]\n",
        "t2"
      ],
      "metadata": {
        "colab": {
          "base_uri": "https://localhost:8080/"
        },
        "id": "IxXv_x_s6i9d",
        "outputId": "ee451728-2de1-49d4-cf12-8b7ee69d7d2f"
      },
      "execution_count": 182,
      "outputs": [
        {
          "output_type": "execute_result",
          "data": {
            "text/plain": [
              "<tf.Tensor: shape=(), dtype=int32, numpy=7>"
            ]
          },
          "metadata": {},
          "execution_count": 182
        }
      ]
    },
    {
      "cell_type": "code",
      "source": [
        "t2=t[1,0,0].numpy()\n",
        "print(t2)"
      ],
      "metadata": {
        "colab": {
          "base_uri": "https://localhost:8080/"
        },
        "id": "7C0fXUrc6v_6",
        "outputId": "ee05d5da-1dd6-45f1-9b51-19168953f6f0"
      },
      "execution_count": 183,
      "outputs": [
        {
          "output_type": "stream",
          "name": "stdout",
          "text": [
            "7\n"
          ]
        }
      ]
    },
    {
      "cell_type": "code",
      "source": [
        "print(tf.size(t).numpy())"
      ],
      "metadata": {
        "colab": {
          "base_uri": "https://localhost:8080/"
        },
        "id": "kZdh4_L47BRG",
        "outputId": "75fc7bbd-53db-45df-ca1f-b86b3351572a"
      },
      "execution_count": 184,
      "outputs": [
        {
          "output_type": "stream",
          "name": "stdout",
          "text": [
            "12\n"
          ]
        }
      ]
    },
    {
      "cell_type": "code",
      "source": [
        "t.dtype"
      ],
      "metadata": {
        "colab": {
          "base_uri": "https://localhost:8080/"
        },
        "id": "9C8qLIPJ7Nbq",
        "outputId": "3612cebc-a8d3-40eb-c49e-da673acc8a39"
      },
      "execution_count": 185,
      "outputs": [
        {
          "output_type": "execute_result",
          "data": {
            "text/plain": [
              "tf.int32"
            ]
          },
          "metadata": {},
          "execution_count": 185
        }
      ]
    },
    {
      "cell_type": "code",
      "source": [
        "a=tf.random.uniform(shape=(3,3))\n",
        "b=tf.random.normal(shape=(3,3))\n",
        "c=a+b\n",
        "d=tf.square(c)\n",
        "e=tf.exp(c)\n",
        "print(a)\n",
        "print(b)\n",
        "print(c)\n",
        "print(d)\n",
        "print(e)"
      ],
      "metadata": {
        "colab": {
          "base_uri": "https://localhost:8080/"
        },
        "id": "5iUkCtAI7bl_",
        "outputId": "02b7ab4a-cfde-4d2e-8230-b9b384b3fa1f"
      },
      "execution_count": 186,
      "outputs": [
        {
          "output_type": "stream",
          "name": "stdout",
          "text": [
            "tf.Tensor(\n",
            "[[0.15417409 0.18370557 0.38594723]\n",
            " [0.9911449  0.3248955  0.97487485]\n",
            " [0.9964806  0.3471241  0.6219872 ]], shape=(3, 3), dtype=float32)\n",
            "tf.Tensor(\n",
            "[[ 0.8126164  -1.1951717   0.08960218]\n",
            " [-1.087855    0.1914694   0.7926005 ]\n",
            " [ 1.1343883   0.5155506  -0.71300524]], shape=(3, 3), dtype=float32)\n",
            "tf.Tensor(\n",
            "[[ 0.9667905  -1.0114661   0.4755494 ]\n",
            " [-0.09671009  0.51636493  1.7674754 ]\n",
            " [ 2.130869    0.8626747  -0.09101802]], shape=(3, 3), dtype=float32)\n",
            "tf.Tensor(\n",
            "[[0.93468386 1.0230638  0.22614723]\n",
            " [0.00935284 0.26663274 3.123969  ]\n",
            " [4.540602   0.7442077  0.00828428]], shape=(3, 3), dtype=float32)\n",
            "tf.Tensor(\n",
            "[[2.6294913  0.36368537 1.6088979 ]\n",
            " [0.90781915 1.6759244  5.8560505 ]\n",
            " [8.422182   2.36949    0.91300124]], shape=(3, 3), dtype=float32)\n"
          ]
        }
      ]
    },
    {
      "cell_type": "code",
      "source": [
        "t"
      ],
      "metadata": {
        "colab": {
          "base_uri": "https://localhost:8080/"
        },
        "id": "x0ps7q918Aff",
        "outputId": "b394f91c-3ba1-4da1-9033-d565166df695"
      },
      "execution_count": 187,
      "outputs": [
        {
          "output_type": "execute_result",
          "data": {
            "text/plain": [
              "<tf.Variable 'Variable:0' shape=(2, 2, 3) dtype=int32, numpy=\n",
              "array([[[ 1,  2,  3],\n",
              "        [ 4,  5,  6]],\n",
              "\n",
              "       [[ 7,  8,  9],\n",
              "        [10, 11, 12]]], dtype=int32)>"
            ]
          },
          "metadata": {},
          "execution_count": 187
        }
      ]
    },
    {
      "cell_type": "code",
      "source": [
        "t*t"
      ],
      "metadata": {
        "colab": {
          "base_uri": "https://localhost:8080/"
        },
        "id": "hoFEPiNl7nxm",
        "outputId": "f8bc68cc-8d93-428e-8f2e-c1cf56e6a626"
      },
      "execution_count": 188,
      "outputs": [
        {
          "output_type": "execute_result",
          "data": {
            "text/plain": [
              "<tf.Tensor: shape=(2, 2, 3), dtype=int32, numpy=\n",
              "array([[[  1,   4,   9],\n",
              "        [ 16,  25,  36]],\n",
              "\n",
              "       [[ 49,  64,  81],\n",
              "        [100, 121, 144]]], dtype=int32)>"
            ]
          },
          "metadata": {},
          "execution_count": 188
        }
      ]
    },
    {
      "cell_type": "code",
      "source": [
        "t+t"
      ],
      "metadata": {
        "colab": {
          "base_uri": "https://localhost:8080/"
        },
        "id": "oXu78rna8FEn",
        "outputId": "19fd833d-83ff-416c-8cd6-e99c2f7b73ec"
      },
      "execution_count": 189,
      "outputs": [
        {
          "output_type": "execute_result",
          "data": {
            "text/plain": [
              "<tf.Tensor: shape=(2, 2, 3), dtype=int32, numpy=\n",
              "array([[[ 2,  4,  6],\n",
              "        [ 8, 10, 12]],\n",
              "\n",
              "       [[14, 16, 18],\n",
              "        [20, 22, 24]]], dtype=int32)>"
            ]
          },
          "metadata": {},
          "execution_count": 189
        }
      ]
    },
    {
      "cell_type": "code",
      "source": [
        "t-t"
      ],
      "metadata": {
        "colab": {
          "base_uri": "https://localhost:8080/"
        },
        "id": "p5oYUFOG8Kcl",
        "outputId": "4c15f0e4-3a1a-4e5d-81ef-0c9007d65b6d"
      },
      "execution_count": 190,
      "outputs": [
        {
          "output_type": "execute_result",
          "data": {
            "text/plain": [
              "<tf.Tensor: shape=(2, 2, 3), dtype=int32, numpy=\n",
              "array([[[0, 0, 0],\n",
              "        [0, 0, 0]],\n",
              "\n",
              "       [[0, 0, 0],\n",
              "        [0, 0, 0]]], dtype=int32)>"
            ]
          },
          "metadata": {},
          "execution_count": 190
        }
      ]
    },
    {
      "cell_type": "code",
      "source": [
        "t"
      ],
      "metadata": {
        "colab": {
          "base_uri": "https://localhost:8080/"
        },
        "id": "3atSU55a8XlN",
        "outputId": "c1fe3e82-a11c-4dec-8981-4749b566c943"
      },
      "execution_count": 191,
      "outputs": [
        {
          "output_type": "execute_result",
          "data": {
            "text/plain": [
              "<tf.Variable 'Variable:0' shape=(2, 2, 3) dtype=int32, numpy=\n",
              "array([[[ 1,  2,  3],\n",
              "        [ 4,  5,  6]],\n",
              "\n",
              "       [[ 7,  8,  9],\n",
              "        [10, 11, 12]]], dtype=int32)>"
            ]
          },
          "metadata": {},
          "execution_count": 191
        }
      ]
    },
    {
      "cell_type": "code",
      "source": [
        "t4=t*4\n",
        "t4"
      ],
      "metadata": {
        "colab": {
          "base_uri": "https://localhost:8080/"
        },
        "id": "72_cL1xH8MRt",
        "outputId": "32be6b8e-cdb9-4c39-cf0e-eaa8f2054ff1"
      },
      "execution_count": 192,
      "outputs": [
        {
          "output_type": "execute_result",
          "data": {
            "text/plain": [
              "<tf.Tensor: shape=(2, 2, 3), dtype=int32, numpy=\n",
              "array([[[ 4,  8, 12],\n",
              "        [16, 20, 24]],\n",
              "\n",
              "       [[28, 32, 36],\n",
              "        [40, 44, 48]]], dtype=int32)>"
            ]
          },
          "metadata": {},
          "execution_count": 192
        }
      ]
    },
    {
      "cell_type": "code",
      "source": [
        "m1=tf.constant([[1,2,3],[4,5,6]])\n",
        "m1"
      ],
      "metadata": {
        "id": "aZFdH8Uo8Zio",
        "colab": {
          "base_uri": "https://localhost:8080/"
        },
        "outputId": "f7f9d392-8d99-4dcf-daf9-2b2d0807d58c"
      },
      "execution_count": 193,
      "outputs": [
        {
          "output_type": "execute_result",
          "data": {
            "text/plain": [
              "<tf.Tensor: shape=(2, 3), dtype=int32, numpy=\n",
              "array([[1, 2, 3],\n",
              "       [4, 5, 6]], dtype=int32)>"
            ]
          },
          "metadata": {},
          "execution_count": 193
        }
      ]
    },
    {
      "cell_type": "code",
      "source": [
        "m2=tf.constant([[1,2],[3,4],[5,6]])\n",
        "m2"
      ],
      "metadata": {
        "colab": {
          "base_uri": "https://localhost:8080/"
        },
        "id": "6aSqyinxmEuI",
        "outputId": "a5452387-fc79-4c7f-d616-301ed372467b"
      },
      "execution_count": 194,
      "outputs": [
        {
          "output_type": "execute_result",
          "data": {
            "text/plain": [
              "<tf.Tensor: shape=(3, 2), dtype=int32, numpy=\n",
              "array([[1, 2],\n",
              "       [3, 4],\n",
              "       [5, 6]], dtype=int32)>"
            ]
          },
          "metadata": {},
          "execution_count": 194
        }
      ]
    },
    {
      "cell_type": "code",
      "source": [
        "matrix_multiplication=tf.matmul(m1,m2)\n",
        "matrix_multiplication"
      ],
      "metadata": {
        "colab": {
          "base_uri": "https://localhost:8080/"
        },
        "id": "01v-OW7_mIAy",
        "outputId": "4b3041c6-41b9-4f64-d7f4-54f7f151d405"
      },
      "execution_count": 195,
      "outputs": [
        {
          "output_type": "execute_result",
          "data": {
            "text/plain": [
              "<tf.Tensor: shape=(2, 2), dtype=int32, numpy=\n",
              "array([[22, 28],\n",
              "       [49, 64]], dtype=int32)>"
            ]
          },
          "metadata": {},
          "execution_count": 195
        }
      ]
    },
    {
      "cell_type": "code",
      "source": [
        "m1"
      ],
      "metadata": {
        "colab": {
          "base_uri": "https://localhost:8080/"
        },
        "id": "v-9ipgPEnWTw",
        "outputId": "75b88a84-b532-4b62-8c88-92913e1aca8b"
      },
      "execution_count": 196,
      "outputs": [
        {
          "output_type": "execute_result",
          "data": {
            "text/plain": [
              "<tf.Tensor: shape=(2, 3), dtype=int32, numpy=\n",
              "array([[1, 2, 3],\n",
              "       [4, 5, 6]], dtype=int32)>"
            ]
          },
          "metadata": {},
          "execution_count": 196
        }
      ]
    },
    {
      "cell_type": "code",
      "source": [
        "tf.transpose(m1)"
      ],
      "metadata": {
        "colab": {
          "base_uri": "https://localhost:8080/"
        },
        "id": "rIyrLK7ynQBk",
        "outputId": "150b40e2-3776-4442-c67c-930ea00103e5"
      },
      "execution_count": 197,
      "outputs": [
        {
          "output_type": "execute_result",
          "data": {
            "text/plain": [
              "<tf.Tensor: shape=(3, 2), dtype=int32, numpy=\n",
              "array([[1, 4],\n",
              "       [2, 5],\n",
              "       [3, 6]], dtype=int32)>"
            ]
          },
          "metadata": {},
          "execution_count": 197
        }
      ]
    },
    {
      "cell_type": "markdown",
      "source": [
        "dtype-float32=>int64"
      ],
      "metadata": {
        "id": "6KCXYeRG5xNC"
      }
    },
    {
      "cell_type": "code",
      "source": [
        "m4=tf.constant([[1.0,2,3],[4,5,6]])\n",
        "m4"
      ],
      "metadata": {
        "colab": {
          "base_uri": "https://localhost:8080/"
        },
        "id": "oaStPZAUyje1",
        "outputId": "1cba3f13-4b1f-46f9-d8e0-b0413bba1359"
      },
      "execution_count": 204,
      "outputs": [
        {
          "output_type": "execute_result",
          "data": {
            "text/plain": [
              "<tf.Tensor: shape=(2, 3), dtype=float32, numpy=\n",
              "array([[1., 2., 3.],\n",
              "       [4., 5., 6.]], dtype=float32)>"
            ]
          },
          "metadata": {},
          "execution_count": 204
        }
      ]
    },
    {
      "cell_type": "code",
      "source": [
        "m3=tf.cast(m1,dtype=tf.int64)\n",
        "m3"
      ],
      "metadata": {
        "colab": {
          "base_uri": "https://localhost:8080/"
        },
        "id": "m-pvEH-ry7X2",
        "outputId": "c830729c-342d-49af-8eac-440064363646"
      },
      "execution_count": 206,
      "outputs": [
        {
          "output_type": "execute_result",
          "data": {
            "text/plain": [
              "<tf.Tensor: shape=(2, 3), dtype=int64, numpy=\n",
              "array([[1, 2, 3],\n",
              "       [4, 5, 6]])>"
            ]
          },
          "metadata": {},
          "execution_count": 206
        }
      ]
    },
    {
      "cell_type": "markdown",
      "source": [
        "With Truncation"
      ],
      "metadata": {
        "id": "T2RxHFlj6Tyz"
      }
    },
    {
      "cell_type": "code",
      "source": [
        "tf.cast(tf.constant(4.9),dtype=tf.int32)"
      ],
      "metadata": {
        "colab": {
          "base_uri": "https://localhost:8080/"
        },
        "id": "xV8ibKAd5VBn",
        "outputId": "31831829-5c2c-49c9-b9ef-78f856a4ed44"
      },
      "execution_count": 208,
      "outputs": [
        {
          "output_type": "execute_result",
          "data": {
            "text/plain": [
              "<tf.Tensor: shape=(), dtype=int32, numpy=4>"
            ]
          },
          "metadata": {},
          "execution_count": 208
        }
      ]
    },
    {
      "cell_type": "markdown",
      "source": [
        "**Declaring Ragged tensors**\n",
        "\n",
        "A ragged tensor is a tensor with one or more ragged dimensions. Ragged dimensions are dimensions that have slices that may have different lengths. There are a variety of methods for declaring ragged arrays, the simplest being a constant ragged array.\n"
      ],
      "metadata": {
        "id": "OP4iZZAo7U1f"
      }
    },
    {
      "cell_type": "markdown",
      "source": [
        "### The following example shows how to declare a constant ragged array and the lengths of the individual slices:"
      ],
      "metadata": {
        "id": "5hqfKCCh7YWL"
      }
    },
    {
      "cell_type": "code",
      "source": [
        "ragged=tf.ragged.constant([[1,2,3],[4,5],[6]])\n",
        "ragged"
      ],
      "metadata": {
        "colab": {
          "base_uri": "https://localhost:8080/"
        },
        "id": "ttQDbgcN6R4q",
        "outputId": "cdb2da83-2d6f-40ed-af73-3fd43b27c6eb"
      },
      "execution_count": 209,
      "outputs": [
        {
          "output_type": "execute_result",
          "data": {
            "text/plain": [
              "<tf.RaggedTensor [[1, 2, 3], [4, 5], [6]]>"
            ]
          },
          "metadata": {},
          "execution_count": 209
        }
      ]
    },
    {
      "cell_type": "code",
      "source": [
        "ragged1=tf.ragged.constant([[1,2,3,4],[],[4,5,7],[6],[8,9]])\n",
        "ragged1"
      ],
      "metadata": {
        "colab": {
          "base_uri": "https://localhost:8080/"
        },
        "id": "6utkBUE07v4G",
        "outputId": "87855245-cc22-40f0-f195-7043393ba1e8"
      },
      "execution_count": 210,
      "outputs": [
        {
          "output_type": "execute_result",
          "data": {
            "text/plain": [
              "<tf.RaggedTensor [[1, 2, 3, 4], [], [4, 5, 7], [6], [8, 9]]>"
            ]
          },
          "metadata": {},
          "execution_count": 210
        }
      ]
    },
    {
      "cell_type": "code",
      "source": [
        "ragged1[0:]"
      ],
      "metadata": {
        "colab": {
          "base_uri": "https://localhost:8080/"
        },
        "id": "mQCXRVET8Fef",
        "outputId": "c0c9176a-9a61-44f0-c0ad-4efa80bceb45"
      },
      "execution_count": 215,
      "outputs": [
        {
          "output_type": "execute_result",
          "data": {
            "text/plain": [
              "<tf.RaggedTensor [[1, 2, 3, 4], [], [4, 5, 7], [6], [8, 9]]>"
            ]
          },
          "metadata": {},
          "execution_count": 215
        }
      ]
    },
    {
      "cell_type": "code",
      "source": [
        "ragged1[1:]"
      ],
      "metadata": {
        "colab": {
          "base_uri": "https://localhost:8080/"
        },
        "id": "bfIvDDbe8N4T",
        "outputId": "9595fddc-f711-4c49-ed42-995bf7147fe1"
      },
      "execution_count": 216,
      "outputs": [
        {
          "output_type": "execute_result",
          "data": {
            "text/plain": [
              "<tf.RaggedTensor [[], [4, 5, 7], [6], [8, 9]]>"
            ]
          },
          "metadata": {},
          "execution_count": 216
        }
      ]
    },
    {
      "cell_type": "code",
      "source": [
        "ragged1[1:3]"
      ],
      "metadata": {
        "colab": {
          "base_uri": "https://localhost:8080/"
        },
        "id": "PohWY4Sz84Jc",
        "outputId": "8f6dca71-fe33-416b-c888-52cfe85ad075"
      },
      "execution_count": 218,
      "outputs": [
        {
          "output_type": "execute_result",
          "data": {
            "text/plain": [
              "<tf.RaggedTensor [[], [4, 5, 7]]>"
            ]
          },
          "metadata": {},
          "execution_count": 218
        }
      ]
    },
    {
      "cell_type": "code",
      "source": [
        "ragged1[-1:]"
      ],
      "metadata": {
        "colab": {
          "base_uri": "https://localhost:8080/"
        },
        "id": "nUcwssen9BTG",
        "outputId": "797e549d-b0d2-4890-a74a-c95da488fafa"
      },
      "execution_count": 219,
      "outputs": [
        {
          "output_type": "execute_result",
          "data": {
            "text/plain": [
              "<tf.RaggedTensor [[8, 9]]>"
            ]
          },
          "metadata": {},
          "execution_count": 219
        }
      ]
    },
    {
      "cell_type": "code",
      "source": [
        "ragged1[-2:]"
      ],
      "metadata": {
        "colab": {
          "base_uri": "https://localhost:8080/"
        },
        "id": "d4LT6WHs9GDh",
        "outputId": "dd3fefc1-4150-461c-bb30-83f52849be64"
      },
      "execution_count": 220,
      "outputs": [
        {
          "output_type": "execute_result",
          "data": {
            "text/plain": [
              "<tf.RaggedTensor [[6], [8, 9]]>"
            ]
          },
          "metadata": {},
          "execution_count": 220
        }
      ]
    },
    {
      "cell_type": "code",
      "source": [
        "ragged1[-4:-2]"
      ],
      "metadata": {
        "colab": {
          "base_uri": "https://localhost:8080/"
        },
        "id": "nFjcSWg39KeD",
        "outputId": "b37046ed-cc79-4606-ef11-c7fd47500b8c"
      },
      "execution_count": 221,
      "outputs": [
        {
          "output_type": "execute_result",
          "data": {
            "text/plain": [
              "<tf.RaggedTensor [[], [4, 5, 7]]>"
            ]
          },
          "metadata": {},
          "execution_count": 221
        }
      ]
    },
    {
      "cell_type": "code",
      "source": [
        "ragged1[0]"
      ],
      "metadata": {
        "colab": {
          "base_uri": "https://localhost:8080/"
        },
        "id": "ru1E94g79UxC",
        "outputId": "581db51d-fd23-4840-fadf-c1fa757b95fa"
      },
      "execution_count": 222,
      "outputs": [
        {
          "output_type": "execute_result",
          "data": {
            "text/plain": [
              "<tf.Tensor: shape=(4,), dtype=int32, numpy=array([1, 2, 3, 4], dtype=int32)>"
            ]
          },
          "metadata": {},
          "execution_count": 222
        }
      ]
    },
    {
      "cell_type": "code",
      "source": [
        "ragged1[3]"
      ],
      "metadata": {
        "colab": {
          "base_uri": "https://localhost:8080/"
        },
        "id": "kssMZDwk9X1a",
        "outputId": "7bcdd38c-3e50-47f5-e83b-ae10fae86479"
      },
      "execution_count": 223,
      "outputs": [
        {
          "output_type": "execute_result",
          "data": {
            "text/plain": [
              "<tf.Tensor: shape=(1,), dtype=int32, numpy=array([6], dtype=int32)>"
            ]
          },
          "metadata": {},
          "execution_count": 223
        }
      ]
    }
  ]
}