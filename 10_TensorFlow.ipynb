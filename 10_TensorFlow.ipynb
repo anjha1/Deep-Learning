{
  "nbformat": 4,
  "nbformat_minor": 0,
  "metadata": {
    "colab": {
      "provenance": [],
      "authorship_tag": "ABX9TyPu8k5X8RJPZO7xm9y1msZq",
      "include_colab_link": true
    },
    "kernelspec": {
      "name": "python3",
      "display_name": "Python 3"
    },
    "language_info": {
      "name": "python"
    }
  },
  "cells": [
    {
      "cell_type": "markdown",
      "metadata": {
        "id": "view-in-github",
        "colab_type": "text"
      },
      "source": [
        "<a href=\"https://colab.research.google.com/github/anjha1/Deep-Learning/blob/main/10_TensorFlow.ipynb\" target=\"_parent\"><img src=\"https://colab.research.google.com/assets/colab-badge.svg\" alt=\"Open In Colab\"/></a>"
      ]
    },
    {
      "cell_type": "markdown",
      "source": [
        "\n",
        "\n",
        "---\n",
        "\n",
        "# **TensorFlow Notes**\n",
        "\n",
        "## **1. Introduction to TensorFlow**\n",
        "\n",
        "* TensorFlow is an **open-source machine learning framework** developed by **Google**.\n",
        "* Initially created by the **Google Brain Team** for large-scale numerical computation.\n",
        "* Built for **high-performance numerical operations** and scalable ML model development.\n",
        "* Widely used in academic research, industry, and production environments.\n",
        "\n",
        "---\n",
        "\n",
        "## **2. Key Features of TensorFlow**\n",
        "\n",
        "### **A. Flexibility**\n",
        "\n",
        "* Modular architecture supports both **high-level APIs** (like Keras) and **low-level operations**.\n",
        "* Enables **custom model building**, layer creation, and fine-grained control.\n",
        "* Supports dynamic computation graphs (with `tf.function` and AutoGraph).\n",
        "\n",
        "### **B. Scalability**\n",
        "\n",
        "* Efficiently scales across:\n",
        "\n",
        "  * **CPUs**\n",
        "  * **GPUs**\n",
        "  * **TPUs**\n",
        "* Can run on **single devices** or **distributed clusters**.\n",
        "* Suited for both small and **large-scale ML tasks**.\n",
        "\n",
        "### **C. Versatile Applications**\n",
        "\n",
        "TensorFlow is used in a wide range of domains:\n",
        "\n",
        "* **Computer Vision** (e.g., CNNs for image classification)\n",
        "* **Natural Language Processing (NLP)** (e.g., transformers, RNNs)\n",
        "* **Speech Recognition**\n",
        "* **Recommendation Systems**\n",
        "* **Time Series Forecasting**\n",
        "* Robotics and autonomous systems\n",
        "\n",
        "### **D. Ecosystem & Community**\n",
        "\n",
        "* Strong ecosystem including:\n",
        "\n",
        "  * **TensorBoard** (visualization & debugging)\n",
        "  * **TensorFlow Lite** (mobile/edge deployment)\n",
        "  * **TensorFlow\\.js** (in-browser ML)\n",
        "  * **TensorFlow Extended (TFX)** (production pipelines)\n",
        "* Active global community: open-source contributors, researchers, developers.\n",
        "* Rich set of **pre-trained models**, libraries, and tutorials.\n",
        "\n",
        "### **E. Integration**\n",
        "\n",
        "* Works seamlessly with other popular Python libraries like:\n",
        "\n",
        "  * **NumPy**\n",
        "  * **Pandas**\n",
        "  * **Scikit-learn**\n",
        "* Smooth integration enables **efficient ML workflows** and data preprocessing.\n",
        "\n",
        "### **F. Deployment Options**\n",
        "\n",
        "* Models can be deployed to:\n",
        "\n",
        "  * **Desktop & cloud servers**\n",
        "  * **Mobile devices** (via TensorFlow Lite)\n",
        "  * **Edge devices**\n",
        "  * **TPUs for ultra-fast computation**\n",
        "\n",
        "---\n",
        "\n",
        "## **3. Tools and Utilities**\n",
        "\n",
        "### **TensorBoard**\n",
        "\n",
        "* A suite of visualization tools for:\n",
        "\n",
        "  * Monitoring training performance\n",
        "  * Viewing computation graphs\n",
        "  * Analyzing model metrics (loss, accuracy, etc.)\n",
        "\n",
        "### **Model Optimization & Conversion**\n",
        "\n",
        "* Supports model pruning, quantization for smaller and faster models.\n",
        "* Convert models for TensorFlow Lite or TensorFlow\\.js easily.\n",
        "\n",
        "---\n",
        "\n",
        "## **4. Benefits of Using TensorFlow**\n",
        "\n",
        "* **Production-ready**: Suitable for prototyping and deploying models in production.\n",
        "* **Cross-platform support**: Run models on web, cloud, mobile, or embedded devices.\n",
        "* **Continuous development**: Backed by Google with regular updates and improvements.\n",
        "* **Interoperability**: Compatible with other ML tools and platforms.\n",
        "\n",
        "---\n",
        "\n",
        "## **5. Summary for Interviews**\n",
        "\n",
        "| Topic              | Key Points                                              |\n",
        "| ------------------ | ------------------------------------------------------- |\n",
        "| Developed by       | Google Brain Team                                       |\n",
        "| Open Source        | Yes                                                     |\n",
        "| Key Strengths      | Flexibility, Scalability, Deployment, Community Support |\n",
        "| APIs               | High-level (Keras), Low-level (TensorFlow Core)         |\n",
        "| Deployment Targets | CPU, GPU, TPU, Mobile (Lite), Web (JS), Edge            |\n",
        "| Applications       | CV, NLP, Speech, Recommendations, Scientific Computing  |\n",
        "| Tools              | TensorBoard, TFX, TensorFlow Lite, TensorFlow Serving   |\n",
        "| Integrations       | NumPy, Pandas, Scikit-learn                             |\n",
        "| Visualization      | TensorBoard                                             |\n",
        "\n",
        "---\n",
        "\n",
        "\n"
      ],
      "metadata": {
        "id": "g7jAFEkmSyln"
      }
    },
    {
      "cell_type": "markdown",
      "source": [
        "\n",
        "---\n",
        "\n",
        "# **TensorFlow vs PyTorch: A Detailed Comparison**\n",
        "\n",
        "| Feature                           | **TensorFlow**                                                                                 | **PyTorch**                                                          |\n",
        "| --------------------------------- | ---------------------------------------------------------------------------------------------- | -------------------------------------------------------------------- |\n",
        "| **Developed By**                  | Google Brain Team                                                                              | Facebook's AI Research Lab (FAIR)                                    |\n",
        "| **Initial Release**               | 2015                                                                                           | 2016                                                                 |\n",
        "| **Language Support**              | Python, C++, Java, JavaScript, Go, Swift, etc.                                                 | Primarily Python (with C++ backend)                                  |\n",
        "| **Ease of Use**                   | Initially complex, improved with Keras integration                                             | Simple and more \"Pythonic\", intuitive for beginners                  |\n",
        "| **Computation Graphs**            | Static Graph (Graph defined before execution); <br>Supports **eager execution** (since TF 2.x) | **Dynamic Graph** (defined at runtime — more flexible)               |\n",
        "| **Debugging**                     | Harder to debug (static graph); TensorBoard helps                                              | Easier to debug using standard Python tools (e.g., `pdb`)            |\n",
        "| **High-Level APIs**               | `tf.keras` (official high-level API)                                                           | `torch.nn`, `torchvision`, `torchaudio`                              |\n",
        "| **Deployment Support**            | TensorFlow Lite, TensorFlow\\.js, TensorFlow Serving                                            | TorchServe (less mature), ONNX for interoperability                  |\n",
        "| **Visualization**                 | **TensorBoard** (rich visualization support)                                                   | Basic TensorBoard support, 3rd-party tools like **Weights & Biases** |\n",
        "| **Mobile/Edge Support**           | **TensorFlow Lite**, TensorFlow\\.js                                                            | TorchScript, PyTorch Mobile (less mature)                            |\n",
        "| **Community & Ecosystem**         | Larger, older ecosystem, more tutorials and tools                                              | Rapidly growing, strong academic adoption                            |\n",
        "| **Performance Optimization**      | TF-Serving, TFLite, XLA, TensorRT                                                              | TorchScript, JIT, ONNX                                               |\n",
        "| **Model Export/Interoperability** | TF → SavedModel, TFLite, ONNX                                                                  | PyTorch → TorchScript, ONNX                                          |\n",
        "| **Industry Adoption**             | Widely used in production at Google, Airbnb, Uber, etc.                                        | Popular in research (NLP, CV), used by FAIR, Tesla, Microsoft        |\n",
        "| **AutoML Support**                | **AutoKeras**, **TensorFlow AutoML**, TFX                                                      | Limited native support (some via third-party tools)                  |\n",
        "\n",
        "---\n",
        "\n",
        "## ✅ **When to Use TensorFlow**\n",
        "\n",
        "* **Production environments**\n",
        "* Need for cross-platform deployment (cloud, mobile, web)\n",
        "* Require strong **tooling** (e.g., TensorBoard, TFX)\n",
        "* Working with **Google Cloud / TPUs**\n",
        "* Using pre-built models from **TensorFlow Hub**\n",
        "\n",
        "## ✅ **When to Use PyTorch**\n",
        "\n",
        "* Research and rapid prototyping\n",
        "* Dynamic, flexible model building\n",
        "* Native Python control and simplicity\n",
        "* Strong support for **NLP** (e.g., Hugging Face Transformers)\n",
        "* When you prefer **clearer, readable code**\n",
        "\n",
        "---\n",
        "\n",
        "## 🔚 **Summary Table**\n",
        "\n",
        "| Criteria          | TensorFlow                     | PyTorch                                     |\n",
        "| ----------------- | ------------------------------ | ------------------------------------------- |\n",
        "| Best For          | **Production, Deployment**     | **Research, Rapid Prototyping**             |\n",
        "| Graph Type        | Static + Eager (TF 2.x)        | Dynamic (Imperative)                        |\n",
        "| Learning Curve    | Moderate (easy with Keras)     | Easier, more intuitive                      |\n",
        "| Deployment        | Excellent (TFLite, TFX, TF.js) | Improving (TorchScript, ONNX)               |\n",
        "| Visualization     | Excellent (TensorBoard)        | Good (basic TensorBoard, third-party tools) |\n",
        "| Debugging         | Harder (static graphs)         | Easier (Python-native)                      |\n",
        "| Community Support | Older, broader ecosystem       | Growing, very strong in academia            |\n",
        "\n",
        "---\n",
        "\n"
      ],
      "metadata": {
        "id": "UltTGChoTgEW"
      }
    },
    {
      "cell_type": "code",
      "source": [
        "import tensorflow as tf\n",
        "\n",
        "print(\"TensorFlow version: {}\".format(tf.__version__))\n",
        "print(\"Eager execution is: {}\".format(tf.executing_eagerly()))\n",
        "print(\"Keras version: {}\".format(tf.keras.__version__))"
      ],
      "metadata": {
        "colab": {
          "base_uri": "https://localhost:8080/"
        },
        "id": "hMmr2TTzsZYC",
        "outputId": "2d4b3abf-9215-4734-828a-59b071b31d28"
      },
      "execution_count": 1,
      "outputs": [
        {
          "output_type": "stream",
          "name": "stdout",
          "text": [
            "TensorFlow version: 2.18.0\n",
            "Eager execution is: True\n",
            "Keras version: 3.8.0\n"
          ]
        }
      ]
    },
    {
      "cell_type": "code",
      "source": [
        "if tf.test.is_gpu_available():\n",
        "    print('Running on GPU')\n",
        "else:\n",
        "    print('Running on CPU')"
      ],
      "metadata": {
        "colab": {
          "base_uri": "https://localhost:8080/"
        },
        "id": "_xj-D2ZssvXI",
        "outputId": "9d982b94-4e73-4004-d566-d3bc380d50ff"
      },
      "execution_count": 3,
      "outputs": [
        {
          "output_type": "stream",
          "name": "stdout",
          "text": [
            "Running on CPU\n"
          ]
        }
      ]
    },
    {
      "cell_type": "code",
      "source": [
        "tf.config.list_physical_devices('CPU')"
      ],
      "metadata": {
        "colab": {
          "base_uri": "https://localhost:8080/"
        },
        "id": "Gq8ATSRHtBeT",
        "outputId": "8bd59b93-22e7-4b97-ccdd-6a42e33dc92b"
      },
      "execution_count": 4,
      "outputs": [
        {
          "output_type": "execute_result",
          "data": {
            "text/plain": [
              "[PhysicalDevice(name='/physical_device:CPU:0', device_type='CPU')]"
            ]
          },
          "metadata": {},
          "execution_count": 4
        }
      ]
    },
    {
      "cell_type": "code",
      "source": [
        "a=tf.constant(10)\n",
        "a"
      ],
      "metadata": {
        "colab": {
          "base_uri": "https://localhost:8080/"
        },
        "id": "g3nKZxwCtIUs",
        "outputId": "dc33112f-c6f1-47a4-8fbc-288d7dfba603"
      },
      "execution_count": 5,
      "outputs": [
        {
          "output_type": "execute_result",
          "data": {
            "text/plain": [
              "<tf.Tensor: shape=(), dtype=int32, numpy=10>"
            ]
          },
          "metadata": {},
          "execution_count": 5
        }
      ]
    },
    {
      "cell_type": "code",
      "source": [
        "a.numpy()"
      ],
      "metadata": {
        "colab": {
          "base_uri": "https://localhost:8080/"
        },
        "id": "_H-B4aC6tQus",
        "outputId": "b0400268-0b97-436a-ba4b-7ca0eb3ed46b"
      },
      "execution_count": 8,
      "outputs": [
        {
          "output_type": "execute_result",
          "data": {
            "text/plain": [
              "np.int32(10)"
            ]
          },
          "metadata": {},
          "execution_count": 8
        }
      ]
    },
    {
      "cell_type": "code",
      "source": [
        "b=tf.constant(20,dtype=tf.int64)\n",
        "b"
      ],
      "metadata": {
        "colab": {
          "base_uri": "https://localhost:8080/"
        },
        "id": "tpAoZ51WtX8n",
        "outputId": "efb76c39-3115-48f5-9bc5-71d5249586ec"
      },
      "execution_count": 9,
      "outputs": [
        {
          "output_type": "execute_result",
          "data": {
            "text/plain": [
              "<tf.Tensor: shape=(), dtype=int64, numpy=20>"
            ]
          },
          "metadata": {},
          "execution_count": 9
        }
      ]
    },
    {
      "cell_type": "code",
      "source": [
        "c=tf.constant(10.5)\n",
        "c"
      ],
      "metadata": {
        "colab": {
          "base_uri": "https://localhost:8080/"
        },
        "id": "2wI9h7ACt0aC",
        "outputId": "1e620a69-af79-4794-ca36-d02bebac8932"
      },
      "execution_count": 10,
      "outputs": [
        {
          "output_type": "execute_result",
          "data": {
            "text/plain": [
              "<tf.Tensor: shape=(), dtype=float32, numpy=10.5>"
            ]
          },
          "metadata": {},
          "execution_count": 10
        }
      ]
    },
    {
      "cell_type": "code",
      "source": [
        "d=tf.constant(True)\n",
        "d"
      ],
      "metadata": {
        "colab": {
          "base_uri": "https://localhost:8080/"
        },
        "id": "jFbjTkpXt3Vw",
        "outputId": "b401650b-f089-4d18-8a0c-dab5f214db25"
      },
      "execution_count": 11,
      "outputs": [
        {
          "output_type": "execute_result",
          "data": {
            "text/plain": [
              "<tf.Tensor: shape=(), dtype=bool, numpy=True>"
            ]
          },
          "metadata": {},
          "execution_count": 11
        }
      ]
    },
    {
      "cell_type": "code",
      "source": [
        "e=tf.constant([1,2,3,4,5])\n",
        "e"
      ],
      "metadata": {
        "colab": {
          "base_uri": "https://localhost:8080/"
        },
        "id": "r1DeFhUEt6o-",
        "outputId": "a2751211-8577-43c5-c48c-400c0744fbb4"
      },
      "execution_count": 12,
      "outputs": [
        {
          "output_type": "execute_result",
          "data": {
            "text/plain": [
              "<tf.Tensor: shape=(5,), dtype=int32, numpy=array([1, 2, 3, 4, 5], dtype=int32)>"
            ]
          },
          "metadata": {},
          "execution_count": 12
        }
      ]
    },
    {
      "cell_type": "code",
      "source": [
        "f=tf.constant([[1,2,3],[4,5,6]])\n",
        "f"
      ],
      "metadata": {
        "colab": {
          "base_uri": "https://localhost:8080/"
        },
        "id": "wCmeXr4Ct9pW",
        "outputId": "f248e9e2-8763-4504-d5ca-093ed1f1edbf"
      },
      "execution_count": 13,
      "outputs": [
        {
          "output_type": "execute_result",
          "data": {
            "text/plain": [
              "<tf.Tensor: shape=(2, 3), dtype=int32, numpy=\n",
              "array([[1, 2, 3],\n",
              "       [4, 5, 6]], dtype=int32)>"
            ]
          },
          "metadata": {},
          "execution_count": 13
        }
      ]
    },
    {
      "cell_type": "code",
      "source": [
        "g=tf.constant([[[1,2,3],[4,5,6]],[[7,8,9],[10,11,12]]])\n",
        "g"
      ],
      "metadata": {
        "colab": {
          "base_uri": "https://localhost:8080/"
        },
        "id": "naqLzTN-u60w",
        "outputId": "45fe65de-9f8d-424f-f480-69b1806df205"
      },
      "execution_count": 15,
      "outputs": [
        {
          "output_type": "execute_result",
          "data": {
            "text/plain": [
              "<tf.Tensor: shape=(2, 2, 3), dtype=int32, numpy=\n",
              "array([[[ 1,  2,  3],\n",
              "        [ 4,  5,  6]],\n",
              "\n",
              "       [[ 7,  8,  9],\n",
              "        [10, 11, 12]]], dtype=int32)>"
            ]
          },
          "metadata": {},
          "execution_count": 15
        }
      ]
    },
    {
      "cell_type": "code",
      "source": [
        "g.numpy()"
      ],
      "metadata": {
        "colab": {
          "base_uri": "https://localhost:8080/"
        },
        "id": "FuHSdnDUvkYt",
        "outputId": "5024e1d1-3dc0-4acd-c9b0-9bdb2e7564e4"
      },
      "execution_count": 16,
      "outputs": [
        {
          "output_type": "execute_result",
          "data": {
            "text/plain": [
              "array([[[ 1,  2,  3],\n",
              "        [ 4,  5,  6]],\n",
              "\n",
              "       [[ 7,  8,  9],\n",
              "        [10, 11, 12]]], dtype=int32)"
            ]
          },
          "metadata": {},
          "execution_count": 16
        }
      ]
    },
    {
      "cell_type": "code",
      "source": [
        "g.shape"
      ],
      "metadata": {
        "colab": {
          "base_uri": "https://localhost:8080/"
        },
        "id": "LifdWwwgvrPP",
        "outputId": "dbae3db5-1816-4c4d-cd96-5ab74df386ff"
      },
      "execution_count": 18,
      "outputs": [
        {
          "output_type": "execute_result",
          "data": {
            "text/plain": [
              "TensorShape([2, 2, 3])"
            ]
          },
          "metadata": {},
          "execution_count": 18
        }
      ]
    },
    {
      "cell_type": "code",
      "source": [
        "g.dtype"
      ],
      "metadata": {
        "colab": {
          "base_uri": "https://localhost:8080/"
        },
        "id": "cklqqkywv1bs",
        "outputId": "18258ac2-30ca-4e39-ea76-6d30c032e71d"
      },
      "execution_count": 20,
      "outputs": [
        {
          "output_type": "execute_result",
          "data": {
            "text/plain": [
              "tf.int32"
            ]
          },
          "metadata": {},
          "execution_count": 20
        }
      ]
    },
    {
      "cell_type": "code",
      "source": [
        "tf.ones(shape=(3,3))"
      ],
      "metadata": {
        "colab": {
          "base_uri": "https://localhost:8080/"
        },
        "id": "rkYqkmpOwGaQ",
        "outputId": "e61e50f8-56f2-415b-de56-86c6fe9121a4"
      },
      "execution_count": 21,
      "outputs": [
        {
          "output_type": "execute_result",
          "data": {
            "text/plain": [
              "<tf.Tensor: shape=(3, 3), dtype=float32, numpy=\n",
              "array([[1., 1., 1.],\n",
              "       [1., 1., 1.],\n",
              "       [1., 1., 1.]], dtype=float32)>"
            ]
          },
          "metadata": {},
          "execution_count": 21
        }
      ]
    },
    {
      "cell_type": "code",
      "source": [
        "tf.zeros(shape=(3,3))"
      ],
      "metadata": {
        "colab": {
          "base_uri": "https://localhost:8080/"
        },
        "id": "0HW3EvC6wVzg",
        "outputId": "4c723a3a-da57-4853-8663-cce2d71a9085"
      },
      "execution_count": 22,
      "outputs": [
        {
          "output_type": "execute_result",
          "data": {
            "text/plain": [
              "<tf.Tensor: shape=(3, 3), dtype=float32, numpy=\n",
              "array([[0., 0., 0.],\n",
              "       [0., 0., 0.],\n",
              "       [0., 0., 0.]], dtype=float32)>"
            ]
          },
          "metadata": {},
          "execution_count": 22
        }
      ]
    },
    {
      "cell_type": "code",
      "source": [
        "h=tf.constant([[1,2,3],[4,5,6]])\n",
        "i=tf.constant([[7,8,9],[10,11,12]])\n",
        "k=h+i\n",
        "k"
      ],
      "metadata": {
        "colab": {
          "base_uri": "https://localhost:8080/"
        },
        "id": "QGlla6dqwZfJ",
        "outputId": "7bfa459a-2fa7-41ea-d021-7847f6b79ccc"
      },
      "execution_count": 23,
      "outputs": [
        {
          "output_type": "execute_result",
          "data": {
            "text/plain": [
              "<tf.Tensor: shape=(2, 3), dtype=int32, numpy=\n",
              "array([[ 8, 10, 12],\n",
              "       [14, 16, 18]], dtype=int32)>"
            ]
          },
          "metadata": {},
          "execution_count": 23
        }
      ]
    },
    {
      "cell_type": "code",
      "source": [
        "j=tf.add(h,i)\n",
        "j"
      ],
      "metadata": {
        "colab": {
          "base_uri": "https://localhost:8080/"
        },
        "id": "haZYxVEIwwoK",
        "outputId": "93a4af5d-3492-42e9-c7ca-5223dd9dbd65"
      },
      "execution_count": 24,
      "outputs": [
        {
          "output_type": "execute_result",
          "data": {
            "text/plain": [
              "<tf.Tensor: shape=(2, 3), dtype=int32, numpy=\n",
              "array([[ 8, 10, 12],\n",
              "       [14, 16, 18]], dtype=int32)>"
            ]
          },
          "metadata": {},
          "execution_count": 24
        }
      ]
    },
    {
      "cell_type": "code",
      "source": [
        "l=tf.constant([1,2,3,4,5])\n",
        "m=tf.constant([6,7,8,9,10])\n",
        "n=l*m\n",
        "n"
      ],
      "metadata": {
        "colab": {
          "base_uri": "https://localhost:8080/"
        },
        "id": "bHAiGAhbw8jH",
        "outputId": "ceb3fdc2-6a2d-49d8-9ed3-f3f171576dfc"
      },
      "execution_count": 25,
      "outputs": [
        {
          "output_type": "execute_result",
          "data": {
            "text/plain": [
              "<tf.Tensor: shape=(5,), dtype=int32, numpy=array([ 6, 14, 24, 36, 50], dtype=int32)>"
            ]
          },
          "metadata": {},
          "execution_count": 25
        }
      ]
    },
    {
      "cell_type": "code",
      "source": [
        "o=tf.multiply(l,m)\n",
        "o"
      ],
      "metadata": {
        "colab": {
          "base_uri": "https://localhost:8080/"
        },
        "id": "tbj3qqPPxRey",
        "outputId": "896ba82d-e6a3-46f9-827b-41bf73c7c52a"
      },
      "execution_count": 26,
      "outputs": [
        {
          "output_type": "execute_result",
          "data": {
            "text/plain": [
              "<tf.Tensor: shape=(5,), dtype=int32, numpy=array([ 6, 14, 24, 36, 50], dtype=int32)>"
            ]
          },
          "metadata": {},
          "execution_count": 26
        }
      ]
    },
    {
      "cell_type": "code",
      "source": [
        "p=tf.constant([1,2,3,4,5])\n",
        "q=tf.constant([6,7,8,9,10])\n",
        "r=p-q\n",
        "r"
      ],
      "metadata": {
        "colab": {
          "base_uri": "https://localhost:8080/"
        },
        "id": "Ggf3_6NVxV4L",
        "outputId": "e28875e2-106c-4a0e-e541-d056451b9416"
      },
      "execution_count": 27,
      "outputs": [
        {
          "output_type": "execute_result",
          "data": {
            "text/plain": [
              "<tf.Tensor: shape=(5,), dtype=int32, numpy=array([-5, -5, -5, -5, -5], dtype=int32)>"
            ]
          },
          "metadata": {},
          "execution_count": 27
        }
      ]
    },
    {
      "cell_type": "code",
      "source": [
        "s=tf.subtract(p,q)\n",
        "s"
      ],
      "metadata": {
        "colab": {
          "base_uri": "https://localhost:8080/"
        },
        "id": "JH4WgBKmxcZC",
        "outputId": "02cf217b-6d35-45be-9fbb-b4968714975f"
      },
      "execution_count": 28,
      "outputs": [
        {
          "output_type": "execute_result",
          "data": {
            "text/plain": [
              "<tf.Tensor: shape=(5,), dtype=int32, numpy=array([-5, -5, -5, -5, -5], dtype=int32)>"
            ]
          },
          "metadata": {},
          "execution_count": 28
        }
      ]
    },
    {
      "cell_type": "code",
      "source": [
        "tf.random.uniform(shape=(3,3))"
      ],
      "metadata": {
        "colab": {
          "base_uri": "https://localhost:8080/"
        },
        "id": "YREQqKMsxjf9",
        "outputId": "34ff47c6-ec8b-4172-efe0-ff3ed7ba9380"
      },
      "execution_count": 29,
      "outputs": [
        {
          "output_type": "execute_result",
          "data": {
            "text/plain": [
              "<tf.Tensor: shape=(3, 3), dtype=float32, numpy=\n",
              "array([[0.6153065 , 0.07059848, 0.13884187],\n",
              "       [0.0674547 , 0.00543714, 0.48613644],\n",
              "       [0.01256132, 0.54496646, 0.55534005]], dtype=float32)>"
            ]
          },
          "metadata": {},
          "execution_count": 29
        }
      ]
    },
    {
      "cell_type": "code",
      "source": [
        "tf.random.uniform(shape=(3,3),minval=10,maxval=20)"
      ],
      "metadata": {
        "colab": {
          "base_uri": "https://localhost:8080/"
        },
        "id": "4rKF1uLfxx2p",
        "outputId": "e53ba619-6f2a-4938-a430-dbf9c8950e7e"
      },
      "execution_count": 32,
      "outputs": [
        {
          "output_type": "execute_result",
          "data": {
            "text/plain": [
              "<tf.Tensor: shape=(3, 3), dtype=float32, numpy=\n",
              "array([[19.448727, 14.945351, 12.952901],\n",
              "       [11.991038, 18.608786, 15.586051],\n",
              "       [12.515597, 15.420864, 16.756905]], dtype=float32)>"
            ]
          },
          "metadata": {},
          "execution_count": 32
        }
      ]
    },
    {
      "cell_type": "markdown",
      "source": [
        "standard normal distribution"
      ],
      "metadata": {
        "id": "aOjbfrK9y22x"
      }
    },
    {
      "cell_type": "code",
      "source": [
        "tf.random.normal(shape=(3,3),mean=0,stddev=1)"
      ],
      "metadata": {
        "colab": {
          "base_uri": "https://localhost:8080/"
        },
        "id": "axcbdMlJx8Oe",
        "outputId": "c4cd25ed-5776-4afb-9840-c2d24111287c"
      },
      "execution_count": 33,
      "outputs": [
        {
          "output_type": "execute_result",
          "data": {
            "text/plain": [
              "<tf.Tensor: shape=(3, 3), dtype=float32, numpy=\n",
              "array([[-0.92318815, -1.8595324 , -0.8430857 ],\n",
              "       [-2.4206526 ,  0.11225755, -0.17725934],\n",
              "       [ 0.03731887, -0.12617797, -2.6158464 ]], dtype=float32)>"
            ]
          },
          "metadata": {},
          "execution_count": 33
        }
      ]
    },
    {
      "cell_type": "code",
      "source": [
        "var0=24\n",
        "var0"
      ],
      "metadata": {
        "colab": {
          "base_uri": "https://localhost:8080/"
        },
        "id": "ukQ-cptgyNpo",
        "outputId": "f742e5d4-bfbe-41a9-b92d-5c5b2132a197"
      },
      "execution_count": 34,
      "outputs": [
        {
          "output_type": "execute_result",
          "data": {
            "text/plain": [
              "24"
            ]
          },
          "metadata": {},
          "execution_count": 34
        }
      ]
    },
    {
      "cell_type": "code",
      "source": [
        "var1=tf.Variable(24)\n",
        "var1"
      ],
      "metadata": {
        "colab": {
          "base_uri": "https://localhost:8080/"
        },
        "id": "c357ptadzVaf",
        "outputId": "6e681da8-78b5-4cfb-f281-c8057cb11c50"
      },
      "execution_count": 36,
      "outputs": [
        {
          "output_type": "execute_result",
          "data": {
            "text/plain": [
              "<tf.Variable 'Variable:0' shape=() dtype=int32, numpy=24>"
            ]
          },
          "metadata": {},
          "execution_count": 36
        }
      ]
    },
    {
      "cell_type": "code",
      "source": [
        "var2=tf.Variable([[[1,2,3],[4,5,6]],[[7,8,9],[10,11,12]]])\n",
        "var2"
      ],
      "metadata": {
        "colab": {
          "base_uri": "https://localhost:8080/"
        },
        "id": "ynPmLHTwzjKM",
        "outputId": "a08fbd21-0933-4985-e784-4d0608ad4868"
      },
      "execution_count": 43,
      "outputs": [
        {
          "output_type": "execute_result",
          "data": {
            "text/plain": [
              "<tf.Variable 'Variable:0' shape=(2, 2, 3) dtype=int32, numpy=\n",
              "array([[[ 1,  2,  3],\n",
              "        [ 4,  5,  6]],\n",
              "\n",
              "       [[ 7,  8,  9],\n",
              "        [10, 11, 12]]], dtype=int32)>"
            ]
          },
          "metadata": {},
          "execution_count": 43
        }
      ]
    },
    {
      "source": [
        "var3=tf.Variable([1,2,3,4,5,6,7,8,9,10,11,12],shape=(3,2,2))\n",
        "var3"
      ],
      "cell_type": "code",
      "metadata": {
        "colab": {
          "base_uri": "https://localhost:8080/",
          "height": 332
        },
        "id": "RP4UH-Cp0F4p",
        "outputId": "a8294db8-6ea6-46c2-82c5-9c607afaad54"
      },
      "execution_count": 48,
      "outputs": [
        {
          "output_type": "error",
          "ename": "ValueError",
          "evalue": "In this `tf.Variable` creation, the initial value's shape ((12,)) is not compatible with the explicitly supplied `shape` argument ((3, 2, 2)).",
          "traceback": [
            "\u001b[0;31m---------------------------------------------------------------------------\u001b[0m",
            "\u001b[0;31mValueError\u001b[0m                                Traceback (most recent call last)",
            "\u001b[0;32m<ipython-input-48-2a7422054f08>\u001b[0m in \u001b[0;36m<cell line: 0>\u001b[0;34m()\u001b[0m\n\u001b[0;32m----> 1\u001b[0;31m \u001b[0mvar3\u001b[0m\u001b[0;34m=\u001b[0m\u001b[0mtf\u001b[0m\u001b[0;34m.\u001b[0m\u001b[0mVariable\u001b[0m\u001b[0;34m(\u001b[0m\u001b[0;34m[\u001b[0m\u001b[0;36m1\u001b[0m\u001b[0;34m,\u001b[0m\u001b[0;36m2\u001b[0m\u001b[0;34m,\u001b[0m\u001b[0;36m3\u001b[0m\u001b[0;34m,\u001b[0m\u001b[0;36m4\u001b[0m\u001b[0;34m,\u001b[0m\u001b[0;36m5\u001b[0m\u001b[0;34m,\u001b[0m\u001b[0;36m6\u001b[0m\u001b[0;34m,\u001b[0m\u001b[0;36m7\u001b[0m\u001b[0;34m,\u001b[0m\u001b[0;36m8\u001b[0m\u001b[0;34m,\u001b[0m\u001b[0;36m9\u001b[0m\u001b[0;34m,\u001b[0m\u001b[0;36m10\u001b[0m\u001b[0;34m,\u001b[0m\u001b[0;36m11\u001b[0m\u001b[0;34m,\u001b[0m\u001b[0;36m12\u001b[0m\u001b[0;34m]\u001b[0m\u001b[0;34m,\u001b[0m\u001b[0mshape\u001b[0m\u001b[0;34m=\u001b[0m\u001b[0;34m(\u001b[0m\u001b[0;36m3\u001b[0m\u001b[0;34m,\u001b[0m\u001b[0;36m2\u001b[0m\u001b[0;34m,\u001b[0m\u001b[0;36m2\u001b[0m\u001b[0;34m)\u001b[0m\u001b[0;34m)\u001b[0m\u001b[0;34m\u001b[0m\u001b[0;34m\u001b[0m\u001b[0m\n\u001b[0m\u001b[1;32m      2\u001b[0m \u001b[0mvar3\u001b[0m\u001b[0;34m\u001b[0m\u001b[0;34m\u001b[0m\u001b[0m\n",
            "\u001b[0;32m/usr/local/lib/python3.11/dist-packages/tensorflow/python/util/traceback_utils.py\u001b[0m in \u001b[0;36merror_handler\u001b[0;34m(*args, **kwargs)\u001b[0m\n\u001b[1;32m    151\u001b[0m     \u001b[0;32mexcept\u001b[0m \u001b[0mException\u001b[0m \u001b[0;32mas\u001b[0m \u001b[0me\u001b[0m\u001b[0;34m:\u001b[0m\u001b[0;34m\u001b[0m\u001b[0;34m\u001b[0m\u001b[0m\n\u001b[1;32m    152\u001b[0m       \u001b[0mfiltered_tb\u001b[0m \u001b[0;34m=\u001b[0m \u001b[0m_process_traceback_frames\u001b[0m\u001b[0;34m(\u001b[0m\u001b[0me\u001b[0m\u001b[0;34m.\u001b[0m\u001b[0m__traceback__\u001b[0m\u001b[0;34m)\u001b[0m\u001b[0;34m\u001b[0m\u001b[0;34m\u001b[0m\u001b[0m\n\u001b[0;32m--> 153\u001b[0;31m       \u001b[0;32mraise\u001b[0m \u001b[0me\u001b[0m\u001b[0;34m.\u001b[0m\u001b[0mwith_traceback\u001b[0m\u001b[0;34m(\u001b[0m\u001b[0mfiltered_tb\u001b[0m\u001b[0;34m)\u001b[0m \u001b[0;32mfrom\u001b[0m \u001b[0;32mNone\u001b[0m\u001b[0;34m\u001b[0m\u001b[0;34m\u001b[0m\u001b[0m\n\u001b[0m\u001b[1;32m    154\u001b[0m     \u001b[0;32mfinally\u001b[0m\u001b[0;34m:\u001b[0m\u001b[0;34m\u001b[0m\u001b[0;34m\u001b[0m\u001b[0m\n\u001b[1;32m    155\u001b[0m       \u001b[0;32mdel\u001b[0m \u001b[0mfiltered_tb\u001b[0m\u001b[0;34m\u001b[0m\u001b[0;34m\u001b[0m\u001b[0m\n",
            "\u001b[0;32m/usr/local/lib/python3.11/dist-packages/tensorflow/python/ops/resource_variable_ops.py\u001b[0m in \u001b[0;36m_init_from_args\u001b[0;34m(self, initial_value, trainable, collections, caching_device, name, dtype, constraint, synchronization, aggregation, distribute_strategy, shape, validate_shape, experimental_enable_variable_lifting)\u001b[0m\n\u001b[1;32m   2064\u001b[0m           \u001b[0;32mif\u001b[0m \u001b[0mshape\u001b[0m \u001b[0;32mis\u001b[0m \u001b[0;32mnot\u001b[0m \u001b[0;32mNone\u001b[0m\u001b[0;34m:\u001b[0m\u001b[0;34m\u001b[0m\u001b[0;34m\u001b[0m\u001b[0m\n\u001b[1;32m   2065\u001b[0m             \u001b[0;32mif\u001b[0m \u001b[0;32mnot\u001b[0m \u001b[0minitial_value\u001b[0m\u001b[0;34m.\u001b[0m\u001b[0mshape\u001b[0m\u001b[0;34m.\u001b[0m\u001b[0mis_compatible_with\u001b[0m\u001b[0;34m(\u001b[0m\u001b[0mshape\u001b[0m\u001b[0;34m)\u001b[0m\u001b[0;34m:\u001b[0m\u001b[0;34m\u001b[0m\u001b[0;34m\u001b[0m\u001b[0m\n\u001b[0;32m-> 2066\u001b[0;31m               raise ValueError(\n\u001b[0m\u001b[1;32m   2067\u001b[0m                   \u001b[0;34mf\"In this `tf.Variable` creation, the initial value's shape \"\u001b[0m\u001b[0;34m\u001b[0m\u001b[0;34m\u001b[0m\u001b[0m\n\u001b[1;32m   2068\u001b[0m                   \u001b[0;34mf\"({initial_value.shape}) is not compatible with \"\u001b[0m\u001b[0;34m\u001b[0m\u001b[0;34m\u001b[0m\u001b[0m\n",
            "\u001b[0;31mValueError\u001b[0m: In this `tf.Variable` creation, the initial value's shape ((12,)) is not compatible with the explicitly supplied `shape` argument ((3, 2, 2))."
          ]
        }
      ]
    },
    {
      "cell_type": "code",
      "source": [
        "var3=tf.constant([1,2,3,4,5,6,7,8,9,10,11,12],shape=(3,2,2))\n",
        "var3"
      ],
      "metadata": {
        "colab": {
          "base_uri": "https://localhost:8080/"
        },
        "id": "dsB9-vMc1DLA",
        "outputId": "d5e14933-cf34-439d-e314-4193b284d827"
      },
      "execution_count": 49,
      "outputs": [
        {
          "output_type": "execute_result",
          "data": {
            "text/plain": [
              "<tf.Tensor: shape=(3, 2, 2), dtype=int32, numpy=\n",
              "array([[[ 1,  2],\n",
              "        [ 3,  4]],\n",
              "\n",
              "       [[ 5,  6],\n",
              "        [ 7,  8]],\n",
              "\n",
              "       [[ 9, 10],\n",
              "        [11, 12]]], dtype=int32)>"
            ]
          },
          "metadata": {},
          "execution_count": 49
        }
      ]
    },
    {
      "cell_type": "code",
      "source": [
        "var4=tf.Variable([[[1,2,3],[4,5,6]],[[7,8,9],[10,11,12]]],dtype=tf.float16)\n",
        "var4"
      ],
      "metadata": {
        "colab": {
          "base_uri": "https://localhost:8080/"
        },
        "id": "Is7rxsvt1PCe",
        "outputId": "3ccf7d40-a171-4d37-87fa-33be5eb8ceec"
      },
      "execution_count": 50,
      "outputs": [
        {
          "output_type": "execute_result",
          "data": {
            "text/plain": [
              "<tf.Variable 'Variable:0' shape=(2, 2, 3) dtype=float16, numpy=\n",
              "array([[[ 1.,  2.,  3.],\n",
              "        [ 4.,  5.,  6.]],\n",
              "\n",
              "       [[ 7.,  8.,  9.],\n",
              "        [10., 11., 12.]]], dtype=float16)>"
            ]
          },
          "metadata": {},
          "execution_count": 50
        }
      ]
    },
    {
      "cell_type": "markdown",
      "source": [
        "\n",
        "### 🧠 **TensorFlow Built-in Data Types**\n",
        "\n",
        "TensorFlow provides a wide variety of built-in data types for flexibility and performance across different machine learning and deep learning tasks.\n",
        "\n",
        "| **Data Type**   | **Description**                        |\n",
        "| --------------- | -------------------------------------- |\n",
        "| `tf.float16`    | 16-bit half-precision floating-point   |\n",
        "| `tf.float32`    | 32-bit single-precision floating-point |\n",
        "| `tf.float64`    | 64-bit double-precision floating-point |\n",
        "| `tf.bfloat16`   | 16-bit truncated floating-point        |\n",
        "| `tf.complex64`  | 64-bit single-precision complex        |\n",
        "| `tf.complex128` | 128-bit double-precision complex       |\n",
        "| `tf.int8`       | 8-bit signed integer                   |\n",
        "| `tf.uint8`      | 8-bit unsigned integer                 |\n",
        "| `tf.uint16`     | 16-bit unsigned integer                |\n",
        "| `tf.uint32`     | 32-bit unsigned integer                |\n",
        "| `tf.uint64`     | 64-bit unsigned integer                |\n",
        "| `tf.int16`      | 16-bit signed integer                  |\n",
        "| `tf.int32`      | 32-bit signed integer                  |\n",
        "| `tf.int64`      | 64-bit signed integer                  |\n",
        "| `tf.bool`       | Boolean                                |\n",
        "| `tf.string`     | String                                 |\n",
        "| `tf.qint8`      | Quantized 8-bit signed integer         |\n",
        "| `tf.quint8`     | Quantized 8-bit unsigned integer       |\n",
        "| `tf.qint16`     | Quantized 16-bit signed integer        |\n",
        "| `tf.quint16`    | Quantized 16-bit unsigned integer      |\n",
        "| `tf.qint32`     | Quantized 32-bit signed integer        |\n",
        "| `tf.resource`   | Handle to a mutable resource           |\n",
        "| `tf.variant`    | Values of arbitrary types              |\n",
        "\n",
        "---\n",
        "\n",
        "\n",
        "---\n",
        "\n",
        "### ✅ **Default Data Types in TensorFlow**\n",
        "\n",
        "| **Type**       | **Default Data Type** |\n",
        "| -------------- | --------------------- |\n",
        "| Integer        | `tf.int32`            |\n",
        "| Floating-Point | `tf.float32`          |\n",
        "\n",
        "These defaults are chosen for a balance between performance and precision.\n",
        "\n",
        "---\n",
        "\n"
      ],
      "metadata": {
        "id": "quewO-mA2C8J"
      }
    },
    {
      "cell_type": "code",
      "source": [
        "var_reassign=tf.Variable(10.)\n",
        "var_reassign"
      ],
      "metadata": {
        "colab": {
          "base_uri": "https://localhost:8080/"
        },
        "id": "qPAYRLg91hcA",
        "outputId": "f27c24de-7846-4db3-b748-32a3b656307c"
      },
      "execution_count": 51,
      "outputs": [
        {
          "output_type": "execute_result",
          "data": {
            "text/plain": [
              "<tf.Variable 'Variable:0' shape=() dtype=float32, numpy=10.0>"
            ]
          },
          "metadata": {},
          "execution_count": 51
        }
      ]
    },
    {
      "cell_type": "code",
      "source": [
        "var_reassign.assign(20)\n",
        "var_reassign"
      ],
      "metadata": {
        "colab": {
          "base_uri": "https://localhost:8080/"
        },
        "id": "3U513vtz2kvg",
        "outputId": "867c93ac-9c68-4465-deaf-eecd59acfb81"
      },
      "execution_count": 52,
      "outputs": [
        {
          "output_type": "execute_result",
          "data": {
            "text/plain": [
              "<tf.Variable 'Variable:0' shape=() dtype=float32, numpy=20.0>"
            ]
          },
          "metadata": {},
          "execution_count": 52
        }
      ]
    },
    {
      "cell_type": "code",
      "source": [
        "initial_value = tf.random.normal(shape=(2,2))\n",
        "a = tf.Variable(initial_value)\n",
        "print(a)"
      ],
      "metadata": {
        "colab": {
          "base_uri": "https://localhost:8080/"
        },
        "id": "mmFCjzHm2qTQ",
        "outputId": "89054d13-9a73-4a8d-8fde-aac165b79968"
      },
      "execution_count": 53,
      "outputs": [
        {
          "output_type": "stream",
          "name": "stdout",
          "text": [
            "<tf.Variable 'Variable:0' shape=(2, 2) dtype=float32, numpy=\n",
            "array([[ 0.33329982,  0.3090235 ],\n",
            "       [-0.6161683 ,  0.7224309 ]], dtype=float32)>\n"
          ]
        }
      ]
    },
    {
      "cell_type": "code",
      "source": [
        "new_value = tf.random.normal(shape=(2, 2))\n",
        "a.assign(new_value)\n",
        "a"
      ],
      "metadata": {
        "colab": {
          "base_uri": "https://localhost:8080/"
        },
        "id": "4BtN0_Iw3n9q",
        "outputId": "c88c34a4-5b4b-43a1-f46d-fa7ec6eb056c"
      },
      "execution_count": 56,
      "outputs": [
        {
          "output_type": "execute_result",
          "data": {
            "text/plain": [
              "<tf.Variable 'Variable:0' shape=(2, 2) dtype=float32, numpy=\n",
              "array([[ 0.565612  ,  1.6800135 ],\n",
              "       [ 0.25597572, -0.70400226]], dtype=float32)>"
            ]
          },
          "metadata": {},
          "execution_count": 56
        }
      ]
    },
    {
      "cell_type": "code",
      "source": [
        "new_value = tf.random.normal(shape=(2, 2))\n",
        "a.assign(new_value)\n",
        "for i in range(2):\n",
        "    for j in range(2):\n",
        "        assert a[i, j] == new_value[i, j]"
      ],
      "metadata": {
        "id": "SBghkEN43AXR"
      },
      "execution_count": 59,
      "outputs": []
    },
    {
      "cell_type": "code",
      "source": [
        "t=tf.Variable([[[1,2,3],[4,5,6]],[[7,8,9],[10,11,12]]])\n",
        "t"
      ],
      "metadata": {
        "colab": {
          "base_uri": "https://localhost:8080/"
        },
        "id": "1f4BUpWV4PXB",
        "outputId": "539250cb-883d-4062-ff71-a0b8527c704a"
      },
      "execution_count": 60,
      "outputs": [
        {
          "output_type": "execute_result",
          "data": {
            "text/plain": [
              "<tf.Variable 'Variable:0' shape=(2, 2, 3) dtype=int32, numpy=\n",
              "array([[[ 1,  2,  3],\n",
              "        [ 4,  5,  6]],\n",
              "\n",
              "       [[ 7,  8,  9],\n",
              "        [10, 11, 12]]], dtype=int32)>"
            ]
          },
          "metadata": {},
          "execution_count": 60
        }
      ]
    },
    {
      "cell_type": "code",
      "source": [
        "t.shape"
      ],
      "metadata": {
        "colab": {
          "base_uri": "https://localhost:8080/"
        },
        "id": "GszpCrEy4n8v",
        "outputId": "7dae9dc0-6711-4fe9-9ef9-63394c8604e1"
      },
      "execution_count": 61,
      "outputs": [
        {
          "output_type": "execute_result",
          "data": {
            "text/plain": [
              "TensorShape([2, 2, 3])"
            ]
          },
          "metadata": {},
          "execution_count": 61
        }
      ]
    },
    {
      "cell_type": "code",
      "source": [
        "t.reshape(3,4)\n",
        "t"
      ],
      "metadata": {
        "colab": {
          "base_uri": "https://localhost:8080/",
          "height": 164
        },
        "id": "k1q1S3wa4tKd",
        "outputId": "d1461ceb-0934-445b-a534-f6ea71820911"
      },
      "execution_count": 63,
      "outputs": [
        {
          "output_type": "error",
          "ename": "AttributeError",
          "evalue": "'ResourceVariable' object has no attribute 'reshape'",
          "traceback": [
            "\u001b[0;31m---------------------------------------------------------------------------\u001b[0m",
            "\u001b[0;31mAttributeError\u001b[0m                            Traceback (most recent call last)",
            "\u001b[0;32m<ipython-input-63-3bf03a90d3f3>\u001b[0m in \u001b[0;36m<cell line: 0>\u001b[0;34m()\u001b[0m\n\u001b[0;32m----> 1\u001b[0;31m \u001b[0mt\u001b[0m\u001b[0;34m.\u001b[0m\u001b[0mreshape\u001b[0m\u001b[0;34m(\u001b[0m\u001b[0;36m3\u001b[0m\u001b[0;34m,\u001b[0m\u001b[0;36m4\u001b[0m\u001b[0;34m)\u001b[0m\u001b[0;34m\u001b[0m\u001b[0;34m\u001b[0m\u001b[0m\n\u001b[0m\u001b[1;32m      2\u001b[0m \u001b[0mt\u001b[0m\u001b[0;34m\u001b[0m\u001b[0;34m\u001b[0m\u001b[0m\n",
            "\u001b[0;31mAttributeError\u001b[0m: 'ResourceVariable' object has no attribute 'reshape'"
          ]
        }
      ]
    },
    {
      "cell_type": "code",
      "source": [
        "p=tf.reshape(t,(3,4))\n",
        "p"
      ],
      "metadata": {
        "colab": {
          "base_uri": "https://localhost:8080/"
        },
        "id": "avXqmLPx47WX",
        "outputId": "342f1808-36c8-4149-d344-e7fcb56b409a"
      },
      "execution_count": 64,
      "outputs": [
        {
          "output_type": "execute_result",
          "data": {
            "text/plain": [
              "<tf.Tensor: shape=(3, 4), dtype=int32, numpy=\n",
              "array([[ 1,  2,  3,  4],\n",
              "       [ 5,  6,  7,  8],\n",
              "       [ 9, 10, 11, 12]], dtype=int32)>"
            ]
          },
          "metadata": {},
          "execution_count": 64
        }
      ]
    },
    {
      "cell_type": "code",
      "source": [
        "tf.reshape(t,(6,2))"
      ],
      "metadata": {
        "colab": {
          "base_uri": "https://localhost:8080/"
        },
        "id": "KfFsItoF5EVA",
        "outputId": "1a5a17ce-5f39-4ea8-d79d-6e8a00456631"
      },
      "execution_count": 65,
      "outputs": [
        {
          "output_type": "execute_result",
          "data": {
            "text/plain": [
              "<tf.Tensor: shape=(6, 2), dtype=int32, numpy=\n",
              "array([[ 1,  2],\n",
              "       [ 3,  4],\n",
              "       [ 5,  6],\n",
              "       [ 7,  8],\n",
              "       [ 9, 10],\n",
              "       [11, 12]], dtype=int32)>"
            ]
          },
          "metadata": {},
          "execution_count": 65
        }
      ]
    },
    {
      "cell_type": "code",
      "source": [
        "tf.reshape(t,(1,12))"
      ],
      "metadata": {
        "colab": {
          "base_uri": "https://localhost:8080/"
        },
        "id": "OqMETPiD5OLk",
        "outputId": "1a8bb0f4-6c2d-4ce9-f7e5-b62a01370338"
      },
      "execution_count": 66,
      "outputs": [
        {
          "output_type": "execute_result",
          "data": {
            "text/plain": [
              "<tf.Tensor: shape=(1, 12), dtype=int32, numpy=array([[ 1,  2,  3,  4,  5,  6,  7,  8,  9, 10, 11, 12]], dtype=int32)>"
            ]
          },
          "metadata": {},
          "execution_count": 66
        }
      ]
    },
    {
      "cell_type": "code",
      "source": [
        "tf.reshape(t,(12,1))"
      ],
      "metadata": {
        "colab": {
          "base_uri": "https://localhost:8080/"
        },
        "id": "ffG9vKso5QwA",
        "outputId": "ce28db3c-b41f-43f1-9d6e-d0592e839ea3"
      },
      "execution_count": 67,
      "outputs": [
        {
          "output_type": "execute_result",
          "data": {
            "text/plain": [
              "<tf.Tensor: shape=(12, 1), dtype=int32, numpy=\n",
              "array([[ 1],\n",
              "       [ 2],\n",
              "       [ 3],\n",
              "       [ 4],\n",
              "       [ 5],\n",
              "       [ 6],\n",
              "       [ 7],\n",
              "       [ 8],\n",
              "       [ 9],\n",
              "       [10],\n",
              "       [11],\n",
              "       [12]], dtype=int32)>"
            ]
          },
          "metadata": {},
          "execution_count": 67
        }
      ]
    },
    {
      "cell_type": "markdown",
      "source": [
        "Ranking (dimensions) of a tensor\n",
        "\n",
        "The rank of a tensor is the number of dimensions it has, that is, the number of indices that are required to specify any particular element of that tensor."
      ],
      "metadata": {
        "id": "sHmSffL95nX9"
      }
    },
    {
      "cell_type": "code",
      "source": [
        "t"
      ],
      "metadata": {
        "colab": {
          "base_uri": "https://localhost:8080/"
        },
        "id": "oJhVmDjM5UPj",
        "outputId": "fd5775ff-7fb4-42e5-b8d0-ea451187570c"
      },
      "execution_count": 68,
      "outputs": [
        {
          "output_type": "execute_result",
          "data": {
            "text/plain": [
              "<tf.Variable 'Variable:0' shape=(2, 2, 3) dtype=int32, numpy=\n",
              "array([[[ 1,  2,  3],\n",
              "        [ 4,  5,  6]],\n",
              "\n",
              "       [[ 7,  8,  9],\n",
              "        [10, 11, 12]]], dtype=int32)>"
            ]
          },
          "metadata": {},
          "execution_count": 68
        }
      ]
    },
    {
      "cell_type": "code",
      "source": [
        "tf.rank(t)"
      ],
      "metadata": {
        "colab": {
          "base_uri": "https://localhost:8080/"
        },
        "id": "cG9El85N51ln",
        "outputId": "f893b23c-3a20-4f8a-bacf-a4d226a51ae9"
      },
      "execution_count": 72,
      "outputs": [
        {
          "output_type": "execute_result",
          "data": {
            "text/plain": [
              "<tf.Tensor: shape=(), dtype=int32, numpy=3>"
            ]
          },
          "metadata": {},
          "execution_count": 72
        }
      ]
    },
    {
      "cell_type": "code",
      "source": [
        "t1=t[1,0,1]\n",
        "t1"
      ],
      "metadata": {
        "colab": {
          "base_uri": "https://localhost:8080/"
        },
        "id": "EeQ__h0H55x3",
        "outputId": "be11fe77-bbd3-477c-e0c2-4e73b847d9b8"
      },
      "execution_count": 73,
      "outputs": [
        {
          "output_type": "execute_result",
          "data": {
            "text/plain": [
              "<tf.Tensor: shape=(), dtype=int32, numpy=8>"
            ]
          },
          "metadata": {},
          "execution_count": 73
        }
      ]
    },
    {
      "cell_type": "code",
      "source": [
        "print(t.numpy)"
      ],
      "metadata": {
        "colab": {
          "base_uri": "https://localhost:8080/"
        },
        "id": "jIN6jsCc6Ksz",
        "outputId": "fb2e5020-ba67-476f-98ee-0a8abd358855"
      },
      "execution_count": 74,
      "outputs": [
        {
          "output_type": "stream",
          "name": "stdout",
          "text": [
            "<bound method BaseResourceVariable.numpy of <tf.Variable 'Variable:0' shape=(2, 2, 3) dtype=int32, numpy=\n",
            "array([[[ 1,  2,  3],\n",
            "        [ 4,  5,  6]],\n",
            "\n",
            "       [[ 7,  8,  9],\n",
            "        [10, 11, 12]]], dtype=int32)>>\n"
          ]
        }
      ]
    },
    {
      "cell_type": "code",
      "source": [
        "print(t.numpy())"
      ],
      "metadata": {
        "colab": {
          "base_uri": "https://localhost:8080/"
        },
        "id": "paBXAUsF6dWE",
        "outputId": "23a46891-30e8-4b9e-eb2b-17bef52553ad"
      },
      "execution_count": 75,
      "outputs": [
        {
          "output_type": "stream",
          "name": "stdout",
          "text": [
            "[[[ 1  2  3]\n",
            "  [ 4  5  6]]\n",
            "\n",
            " [[ 7  8  9]\n",
            "  [10 11 12]]]\n"
          ]
        }
      ]
    },
    {
      "cell_type": "code",
      "source": [
        "t2=t[1,0,0]\n",
        "t2"
      ],
      "metadata": {
        "colab": {
          "base_uri": "https://localhost:8080/"
        },
        "id": "IxXv_x_s6i9d",
        "outputId": "694e26fb-14a7-4cc1-e4e8-4c5ba348baae"
      },
      "execution_count": 79,
      "outputs": [
        {
          "output_type": "execute_result",
          "data": {
            "text/plain": [
              "<tf.Tensor: shape=(), dtype=int32, numpy=7>"
            ]
          },
          "metadata": {},
          "execution_count": 79
        }
      ]
    },
    {
      "cell_type": "code",
      "source": [
        "t2=t[1,0,0].numpy()\n",
        "print(t2)"
      ],
      "metadata": {
        "colab": {
          "base_uri": "https://localhost:8080/"
        },
        "id": "7C0fXUrc6v_6",
        "outputId": "cc2befc3-df64-4f6c-b450-856c57fc2993"
      },
      "execution_count": 81,
      "outputs": [
        {
          "output_type": "stream",
          "name": "stdout",
          "text": [
            "7\n"
          ]
        }
      ]
    },
    {
      "cell_type": "code",
      "source": [
        "print(tf.size(t).numpy())"
      ],
      "metadata": {
        "colab": {
          "base_uri": "https://localhost:8080/"
        },
        "id": "kZdh4_L47BRG",
        "outputId": "032d3c0a-d34c-4ef6-fa8d-3ab96f398acb"
      },
      "execution_count": 84,
      "outputs": [
        {
          "output_type": "stream",
          "name": "stdout",
          "text": [
            "12\n"
          ]
        }
      ]
    },
    {
      "cell_type": "code",
      "source": [
        "t.dtype"
      ],
      "metadata": {
        "colab": {
          "base_uri": "https://localhost:8080/"
        },
        "id": "9C8qLIPJ7Nbq",
        "outputId": "5cde6ac3-57e3-4830-b650-e69892ba0b76"
      },
      "execution_count": 85,
      "outputs": [
        {
          "output_type": "execute_result",
          "data": {
            "text/plain": [
              "tf.int32"
            ]
          },
          "metadata": {},
          "execution_count": 85
        }
      ]
    },
    {
      "cell_type": "code",
      "source": [
        "a=tf.random.uniform(shape=(3,3))\n",
        "b=tf.random.normal(shape=(3,3))\n",
        "c=a+b\n",
        "d=tf.square(c)\n",
        "e=tf.exp(c)\n",
        "print(a)\n",
        "print(b)\n",
        "print(c)\n",
        "print(d)\n",
        "print(e)"
      ],
      "metadata": {
        "colab": {
          "base_uri": "https://localhost:8080/"
        },
        "id": "5iUkCtAI7bl_",
        "outputId": "be663355-f81e-426d-a0ab-80ee00ddb208"
      },
      "execution_count": 87,
      "outputs": [
        {
          "output_type": "stream",
          "name": "stdout",
          "text": [
            "tf.Tensor(\n",
            "[[0.707422   0.80522037 0.22652996]\n",
            " [0.07930672 0.41299903 0.6880125 ]\n",
            " [0.43504834 0.5090189  0.6798427 ]], shape=(3, 3), dtype=float32)\n",
            "tf.Tensor(\n",
            "[[ 0.7929093   0.9662454   0.90695155]\n",
            " [ 0.07213974  0.3403845  -0.9852105 ]\n",
            " [ 0.7021909  -0.6937862  -0.6422257 ]], shape=(3, 3), dtype=float32)\n",
            "tf.Tensor(\n",
            "[[ 1.5003314   1.7714658   1.1334815 ]\n",
            " [ 0.15144646  0.7533835  -0.297198  ]\n",
            " [ 1.1372392  -0.1847673   0.03761703]], shape=(3, 3), dtype=float32)\n",
            "tf.Tensor(\n",
            "[[2.2509942e+00 3.1380911e+00 1.2847803e+00]\n",
            " [2.2936031e-02 5.6758672e-01 8.8326648e-02]\n",
            " [1.2933130e+00 3.4138959e-02 1.4150408e-03]], shape=(3, 3), dtype=float32)\n",
            "tf.Tensor(\n",
            "[[4.4831743 5.879465  3.1064527]\n",
            " [1.163516  2.124175  0.7428969]\n",
            " [3.1181479 0.8312977 1.0383335]], shape=(3, 3), dtype=float32)\n"
          ]
        }
      ]
    },
    {
      "cell_type": "code",
      "source": [
        "t"
      ],
      "metadata": {
        "colab": {
          "base_uri": "https://localhost:8080/"
        },
        "id": "x0ps7q918Aff",
        "outputId": "f951cae8-8ffe-4442-859c-042c727d07bf"
      },
      "execution_count": 89,
      "outputs": [
        {
          "output_type": "execute_result",
          "data": {
            "text/plain": [
              "<tf.Variable 'Variable:0' shape=(2, 2, 3) dtype=int32, numpy=\n",
              "array([[[ 1,  2,  3],\n",
              "        [ 4,  5,  6]],\n",
              "\n",
              "       [[ 7,  8,  9],\n",
              "        [10, 11, 12]]], dtype=int32)>"
            ]
          },
          "metadata": {},
          "execution_count": 89
        }
      ]
    },
    {
      "cell_type": "code",
      "source": [
        "t*t"
      ],
      "metadata": {
        "colab": {
          "base_uri": "https://localhost:8080/"
        },
        "id": "hoFEPiNl7nxm",
        "outputId": "36ed5bda-84d6-44d8-ae03-11876f151a0b"
      },
      "execution_count": 88,
      "outputs": [
        {
          "output_type": "execute_result",
          "data": {
            "text/plain": [
              "<tf.Tensor: shape=(2, 2, 3), dtype=int32, numpy=\n",
              "array([[[  1,   4,   9],\n",
              "        [ 16,  25,  36]],\n",
              "\n",
              "       [[ 49,  64,  81],\n",
              "        [100, 121, 144]]], dtype=int32)>"
            ]
          },
          "metadata": {},
          "execution_count": 88
        }
      ]
    },
    {
      "cell_type": "code",
      "source": [
        "t+t"
      ],
      "metadata": {
        "colab": {
          "base_uri": "https://localhost:8080/"
        },
        "id": "oXu78rna8FEn",
        "outputId": "6bdaaa75-72c5-445f-ca90-75e7e7950c35"
      },
      "execution_count": 90,
      "outputs": [
        {
          "output_type": "execute_result",
          "data": {
            "text/plain": [
              "<tf.Tensor: shape=(2, 2, 3), dtype=int32, numpy=\n",
              "array([[[ 2,  4,  6],\n",
              "        [ 8, 10, 12]],\n",
              "\n",
              "       [[14, 16, 18],\n",
              "        [20, 22, 24]]], dtype=int32)>"
            ]
          },
          "metadata": {},
          "execution_count": 90
        }
      ]
    },
    {
      "cell_type": "code",
      "source": [
        "t-t"
      ],
      "metadata": {
        "colab": {
          "base_uri": "https://localhost:8080/"
        },
        "id": "p5oYUFOG8Kcl",
        "outputId": "81f68395-9894-423e-bfba-b29bc9807880"
      },
      "execution_count": 91,
      "outputs": [
        {
          "output_type": "execute_result",
          "data": {
            "text/plain": [
              "<tf.Tensor: shape=(2, 2, 3), dtype=int32, numpy=\n",
              "array([[[0, 0, 0],\n",
              "        [0, 0, 0]],\n",
              "\n",
              "       [[0, 0, 0],\n",
              "        [0, 0, 0]]], dtype=int32)>"
            ]
          },
          "metadata": {},
          "execution_count": 91
        }
      ]
    },
    {
      "cell_type": "code",
      "source": [
        "t"
      ],
      "metadata": {
        "colab": {
          "base_uri": "https://localhost:8080/"
        },
        "id": "3atSU55a8XlN",
        "outputId": "99725c9c-6b75-4ab6-f583-c93d953059d4"
      },
      "execution_count": 93,
      "outputs": [
        {
          "output_type": "execute_result",
          "data": {
            "text/plain": [
              "<tf.Variable 'Variable:0' shape=(2, 2, 3) dtype=int32, numpy=\n",
              "array([[[ 1,  2,  3],\n",
              "        [ 4,  5,  6]],\n",
              "\n",
              "       [[ 7,  8,  9],\n",
              "        [10, 11, 12]]], dtype=int32)>"
            ]
          },
          "metadata": {},
          "execution_count": 93
        }
      ]
    },
    {
      "cell_type": "code",
      "source": [
        "t4=t*4\n",
        "t4"
      ],
      "metadata": {
        "colab": {
          "base_uri": "https://localhost:8080/"
        },
        "id": "72_cL1xH8MRt",
        "outputId": "d19ceddf-b63a-42dc-8cd2-5d424164b4fb"
      },
      "execution_count": 92,
      "outputs": [
        {
          "output_type": "execute_result",
          "data": {
            "text/plain": [
              "<tf.Tensor: shape=(2, 2, 3), dtype=int32, numpy=\n",
              "array([[[ 4,  8, 12],\n",
              "        [16, 20, 24]],\n",
              "\n",
              "       [[28, 32, 36],\n",
              "        [40, 44, 48]]], dtype=int32)>"
            ]
          },
          "metadata": {},
          "execution_count": 92
        }
      ]
    },
    {
      "cell_type": "code",
      "source": [],
      "metadata": {
        "id": "aZFdH8Uo8Zio"
      },
      "execution_count": null,
      "outputs": []
    }
  ]
}